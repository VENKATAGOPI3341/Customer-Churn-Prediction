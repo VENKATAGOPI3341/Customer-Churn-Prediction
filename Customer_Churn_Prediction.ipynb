{
  "cells": [
    {
      "cell_type": "markdown",
      "id": "8a0c6f7e",
      "metadata": {
        "id": "8a0c6f7e"
      },
      "source": [
        "# Importing required libraries"
      ]
    },
    {
      "cell_type": "code",
      "execution_count": null,
      "id": "22a19ed0",
      "metadata": {
        "colab": {
          "base_uri": "https://localhost:8080/"
        },
        "id": "22a19ed0",
        "outputId": "c231d3f4-fe9f-426a-b6c9-9f16104e7d37"
      },
      "outputs": [
        {
          "output_type": "stream",
          "name": "stdout",
          "text": [
            "Requirement already satisfied: catboost in /usr/local/lib/python3.10/dist-packages (1.2.7)\n",
            "Requirement already satisfied: graphviz in /usr/local/lib/python3.10/dist-packages (from catboost) (0.20.3)\n",
            "Requirement already satisfied: matplotlib in /usr/local/lib/python3.10/dist-packages (from catboost) (3.7.1)\n",
            "Requirement already satisfied: numpy<2.0,>=1.16.0 in /usr/local/lib/python3.10/dist-packages (from catboost) (1.25.2)\n",
            "Requirement already satisfied: pandas>=0.24 in /usr/local/lib/python3.10/dist-packages (from catboost) (2.1.4)\n",
            "Requirement already satisfied: scipy in /usr/local/lib/python3.10/dist-packages (from catboost) (1.9.3)\n",
            "Requirement already satisfied: plotly in /usr/local/lib/python3.10/dist-packages (from catboost) (5.15.0)\n",
            "Requirement already satisfied: six in /usr/local/lib/python3.10/dist-packages (from catboost) (1.16.0)\n",
            "Requirement already satisfied: python-dateutil>=2.8.2 in /usr/local/lib/python3.10/dist-packages (from pandas>=0.24->catboost) (2.8.2)\n",
            "Requirement already satisfied: pytz>=2020.1 in /usr/local/lib/python3.10/dist-packages (from pandas>=0.24->catboost) (2024.2)\n",
            "Requirement already satisfied: tzdata>=2022.1 in /usr/local/lib/python3.10/dist-packages (from pandas>=0.24->catboost) (2024.1)\n",
            "Requirement already satisfied: contourpy>=1.0.1 in /usr/local/lib/python3.10/dist-packages (from matplotlib->catboost) (1.3.0)\n",
            "Requirement already satisfied: cycler>=0.10 in /usr/local/lib/python3.10/dist-packages (from matplotlib->catboost) (0.12.1)\n",
            "Requirement already satisfied: fonttools>=4.22.0 in /usr/local/lib/python3.10/dist-packages (from matplotlib->catboost) (4.53.1)\n",
            "Requirement already satisfied: kiwisolver>=1.0.1 in /usr/local/lib/python3.10/dist-packages (from matplotlib->catboost) (1.4.7)\n",
            "Requirement already satisfied: packaging>=20.0 in /usr/local/lib/python3.10/dist-packages (from matplotlib->catboost) (24.1)\n",
            "Requirement already satisfied: pillow>=6.2.0 in /usr/local/lib/python3.10/dist-packages (from matplotlib->catboost) (9.4.0)\n",
            "Requirement already satisfied: pyparsing>=2.3.1 in /usr/local/lib/python3.10/dist-packages (from matplotlib->catboost) (3.1.4)\n",
            "Requirement already satisfied: tenacity>=6.2.0 in /usr/local/lib/python3.10/dist-packages (from plotly->catboost) (9.0.0)\n"
          ]
        }
      ],
      "source": [
        "pip install catboost"
      ]
    },
    {
      "cell_type": "code",
      "execution_count": null,
      "id": "da4ae69e",
      "metadata": {
        "colab": {
          "base_uri": "https://localhost:8080/"
        },
        "id": "da4ae69e",
        "outputId": "4b00505f-aa71-4cb3-cee6-d9cc6c4440b3"
      },
      "outputs": [
        {
          "output_type": "stream",
          "name": "stdout",
          "text": [
            "Requirement already satisfied: xgboost in /usr/local/lib/python3.10/dist-packages (2.1.1)\n",
            "Requirement already satisfied: numpy in /usr/local/lib/python3.10/dist-packages (from xgboost) (1.25.2)\n",
            "Requirement already satisfied: nvidia-nccl-cu12 in /usr/local/lib/python3.10/dist-packages (from xgboost) (2.22.3)\n",
            "Requirement already satisfied: scipy in /usr/local/lib/python3.10/dist-packages (from xgboost) (1.9.3)\n"
          ]
        }
      ],
      "source": [
        "pip install xgboost"
      ]
    },
    {
      "cell_type": "code",
      "execution_count": null,
      "id": "1cd993f5",
      "metadata": {
        "colab": {
          "base_uri": "https://localhost:8080/"
        },
        "id": "1cd993f5",
        "outputId": "614cc429-5dac-42c7-cf3b-5a627d86fe53"
      },
      "outputs": [
        {
          "output_type": "stream",
          "name": "stdout",
          "text": [
            "Requirement already satisfied: lightgbm in /usr/local/lib/python3.10/dist-packages (4.4.0)\n",
            "Requirement already satisfied: numpy>=1.17.0 in /usr/local/lib/python3.10/dist-packages (from lightgbm) (1.25.2)\n",
            "Requirement already satisfied: scipy in /usr/local/lib/python3.10/dist-packages (from lightgbm) (1.9.3)\n"
          ]
        }
      ],
      "source": [
        "pip install lightgbm"
      ]
    },
    {
      "cell_type": "code",
      "execution_count": null,
      "id": "af5d5a74",
      "metadata": {
        "colab": {
          "base_uri": "https://localhost:8080/"
        },
        "id": "af5d5a74",
        "outputId": "78d26a19-c7c2-40b4-ba26-ffcacef9740f"
      },
      "outputs": [
        {
          "output_type": "stream",
          "name": "stdout",
          "text": [
            "Requirement already satisfied: scikit-plot in /usr/local/lib/python3.10/dist-packages (0.3.7)\n",
            "Requirement already satisfied: matplotlib>=1.4.0 in /usr/local/lib/python3.10/dist-packages (from scikit-plot) (3.7.1)\n",
            "Requirement already satisfied: scikit-learn>=0.18 in /usr/local/lib/python3.10/dist-packages (from scikit-plot) (1.3.2)\n",
            "Requirement already satisfied: scipy>=0.9 in /usr/local/lib/python3.10/dist-packages (from scikit-plot) (1.9.3)\n",
            "Requirement already satisfied: joblib>=0.10 in /usr/local/lib/python3.10/dist-packages (from scikit-plot) (1.4.2)\n",
            "Requirement already satisfied: contourpy>=1.0.1 in /usr/local/lib/python3.10/dist-packages (from matplotlib>=1.4.0->scikit-plot) (1.3.0)\n",
            "Requirement already satisfied: cycler>=0.10 in /usr/local/lib/python3.10/dist-packages (from matplotlib>=1.4.0->scikit-plot) (0.12.1)\n",
            "Requirement already satisfied: fonttools>=4.22.0 in /usr/local/lib/python3.10/dist-packages (from matplotlib>=1.4.0->scikit-plot) (4.53.1)\n",
            "Requirement already satisfied: kiwisolver>=1.0.1 in /usr/local/lib/python3.10/dist-packages (from matplotlib>=1.4.0->scikit-plot) (1.4.7)\n",
            "Requirement already satisfied: numpy>=1.20 in /usr/local/lib/python3.10/dist-packages (from matplotlib>=1.4.0->scikit-plot) (1.25.2)\n",
            "Requirement already satisfied: packaging>=20.0 in /usr/local/lib/python3.10/dist-packages (from matplotlib>=1.4.0->scikit-plot) (24.1)\n",
            "Requirement already satisfied: pillow>=6.2.0 in /usr/local/lib/python3.10/dist-packages (from matplotlib>=1.4.0->scikit-plot) (9.4.0)\n",
            "Requirement already satisfied: pyparsing>=2.3.1 in /usr/local/lib/python3.10/dist-packages (from matplotlib>=1.4.0->scikit-plot) (3.1.4)\n",
            "Requirement already satisfied: python-dateutil>=2.7 in /usr/local/lib/python3.10/dist-packages (from matplotlib>=1.4.0->scikit-plot) (2.8.2)\n",
            "Requirement already satisfied: threadpoolctl>=2.0.0 in /usr/local/lib/python3.10/dist-packages (from scikit-learn>=0.18->scikit-plot) (3.5.0)\n",
            "Requirement already satisfied: six>=1.5 in /usr/local/lib/python3.10/dist-packages (from python-dateutil>=2.7->matplotlib>=1.4.0->scikit-plot) (1.16.0)\n"
          ]
        }
      ],
      "source": [
        "pip install scikit-plot"
      ]
    },
    {
      "cell_type": "code",
      "execution_count": null,
      "id": "4ff243e0",
      "metadata": {
        "colab": {
          "base_uri": "https://localhost:8080/"
        },
        "id": "4ff243e0",
        "outputId": "9f0b47c4-3a43-4143-b069-49fd6447337d"
      },
      "outputs": [
        {
          "output_type": "stream",
          "name": "stdout",
          "text": [
            "Requirement already satisfied: optuna in /usr/local/lib/python3.10/dist-packages (4.0.0)\n",
            "Requirement already satisfied: alembic>=1.5.0 in /usr/local/lib/python3.10/dist-packages (from optuna) (1.13.2)\n",
            "Requirement already satisfied: colorlog in /usr/local/lib/python3.10/dist-packages (from optuna) (6.8.2)\n",
            "Requirement already satisfied: numpy in /usr/local/lib/python3.10/dist-packages (from optuna) (1.25.2)\n",
            "Requirement already satisfied: packaging>=20.0 in /usr/local/lib/python3.10/dist-packages (from optuna) (24.1)\n",
            "Requirement already satisfied: sqlalchemy>=1.3.0 in /usr/local/lib/python3.10/dist-packages (from optuna) (2.0.34)\n",
            "Requirement already satisfied: tqdm in /usr/local/lib/python3.10/dist-packages (from optuna) (4.66.5)\n",
            "Requirement already satisfied: PyYAML in /usr/local/lib/python3.10/dist-packages (from optuna) (6.0.2)\n",
            "Requirement already satisfied: Mako in /usr/local/lib/python3.10/dist-packages (from alembic>=1.5.0->optuna) (1.3.5)\n",
            "Requirement already satisfied: typing-extensions>=4 in /usr/local/lib/python3.10/dist-packages (from alembic>=1.5.0->optuna) (4.12.2)\n",
            "Requirement already satisfied: greenlet!=0.4.17 in /usr/local/lib/python3.10/dist-packages (from sqlalchemy>=1.3.0->optuna) (3.1.0)\n",
            "Requirement already satisfied: MarkupSafe>=0.9.2 in /usr/local/lib/python3.10/dist-packages (from Mako->alembic>=1.5.0->optuna) (2.1.5)\n"
          ]
        }
      ],
      "source": [
        "pip install optuna"
      ]
    },
    {
      "cell_type": "code",
      "source": [
        "!pip install scipy==1.9.3\n"
      ],
      "metadata": {
        "colab": {
          "base_uri": "https://localhost:8080/"
        },
        "id": "NzXfOn6Y_4aT",
        "outputId": "7af3a9e0-7b59-4925-9a49-d33e0e8252fc"
      },
      "id": "NzXfOn6Y_4aT",
      "execution_count": null,
      "outputs": [
        {
          "output_type": "stream",
          "name": "stdout",
          "text": [
            "Requirement already satisfied: scipy==1.9.3 in /usr/local/lib/python3.10/dist-packages (1.9.3)\n",
            "Requirement already satisfied: numpy<1.26.0,>=1.18.5 in /usr/local/lib/python3.10/dist-packages (from scipy==1.9.3) (1.25.2)\n"
          ]
        }
      ]
    },
    {
      "cell_type": "code",
      "source": [
        "pip install dask"
      ],
      "metadata": {
        "colab": {
          "base_uri": "https://localhost:8080/"
        },
        "id": "3ZxstrSS_ZE4",
        "outputId": "8b3b2c56-8ae9-43db-ccc5-b37ae380240e"
      },
      "id": "3ZxstrSS_ZE4",
      "execution_count": null,
      "outputs": [
        {
          "output_type": "stream",
          "name": "stdout",
          "text": [
            "Requirement already satisfied: dask in /usr/local/lib/python3.10/dist-packages (2024.7.1)\n",
            "Requirement already satisfied: click>=8.1 in /usr/local/lib/python3.10/dist-packages (from dask) (8.1.7)\n",
            "Requirement already satisfied: cloudpickle>=1.5.0 in /usr/local/lib/python3.10/dist-packages (from dask) (2.2.1)\n",
            "Requirement already satisfied: fsspec>=2021.09.0 in /usr/local/lib/python3.10/dist-packages (from dask) (2024.6.1)\n",
            "Requirement already satisfied: packaging>=20.0 in /usr/local/lib/python3.10/dist-packages (from dask) (24.1)\n",
            "Requirement already satisfied: partd>=1.4.0 in /usr/local/lib/python3.10/dist-packages (from dask) (1.4.2)\n",
            "Requirement already satisfied: pyyaml>=5.3.1 in /usr/local/lib/python3.10/dist-packages (from dask) (6.0.2)\n",
            "Requirement already satisfied: toolz>=0.10.0 in /usr/local/lib/python3.10/dist-packages (from dask) (0.12.1)\n",
            "Requirement already satisfied: importlib-metadata>=4.13.0 in /usr/local/lib/python3.10/dist-packages (from dask) (8.5.0)\n",
            "Requirement already satisfied: zipp>=3.20 in /usr/local/lib/python3.10/dist-packages (from importlib-metadata>=4.13.0->dask) (3.20.1)\n",
            "Requirement already satisfied: locket in /usr/local/lib/python3.10/dist-packages (from partd>=1.4.0->dask) (1.0.0)\n"
          ]
        }
      ]
    },
    {
      "cell_type": "code",
      "execution_count": null,
      "id": "d786c9e1",
      "metadata": {
        "colab": {
          "base_uri": "https://localhost:8080/"
        },
        "id": "d786c9e1",
        "outputId": "b132e487-2570-4cd5-9c7c-67d19a88667b"
      },
      "outputs": [
        {
          "output_type": "stream",
          "name": "stderr",
          "text": [
            "/usr/local/lib/python3.10/dist-packages/dask/dataframe/__init__.py:42: FutureWarning: \n",
            "Dask dataframe query planning is disabled because dask-expr is not installed.\n",
            "\n",
            "You can install it with `pip install dask[dataframe]` or `conda install dask`.\n",
            "This will raise in a future version.\n",
            "\n",
            "  warnings.warn(msg, FutureWarning)\n"
          ]
        }
      ],
      "source": [
        "import pandas as pd\n",
        "import numpy as np\n",
        "import matplotlib.pyplot as plt\n",
        "import seaborn as sns\n",
        "sns.set()\n",
        "\n",
        "from scipy.stats import skew\n",
        "\n",
        "from sklearn.preprocessing import StandardScaler, LabelEncoder\n",
        "from sklearn.model_selection import train_test_split, cross_val_score, KFold\n",
        "from sklearn.linear_model import LogisticRegression\n",
        "from sklearn.neighbors import KNeighborsClassifier\n",
        "from sklearn.naive_bayes import GaussianNB\n",
        "from sklearn.ensemble import RandomForestClassifier, GradientBoostingClassifier\n",
        "\n",
        "from catboost import CatBoostClassifier\n",
        "from xgboost import XGBClassifier\n",
        "from lightgbm import LGBMClassifier\n",
        "\n",
        "from sklearn.metrics import accuracy_score, classification_report, roc_auc_score, roc_curve\n",
        "import scikitplot as skplt\n",
        "\n",
        "import optuna\n",
        "\n",
        "import tensorflow as tf"
      ]
    },
    {
      "cell_type": "code",
      "source": [],
      "metadata": {
        "id": "RFCEBB5z_XdY"
      },
      "id": "RFCEBB5z_XdY",
      "execution_count": null,
      "outputs": []
    },
    {
      "cell_type": "markdown",
      "id": "119bc9f1",
      "metadata": {
        "id": "119bc9f1"
      },
      "source": [
        "# Data Loading"
      ]
    },
    {
      "cell_type": "code",
      "execution_count": null,
      "id": "fc26d819",
      "metadata": {
        "id": "fc26d819"
      },
      "outputs": [],
      "source": [
        "data = pd.read_csv('WA_Fn-UseC_-Telco-Customer-Churn.csv')"
      ]
    },
    {
      "cell_type": "code",
      "execution_count": null,
      "id": "793a1368",
      "metadata": {
        "colab": {
          "base_uri": "https://localhost:8080/",
          "height": 342
        },
        "id": "793a1368",
        "outputId": "07645201-402a-41eb-f7d6-d8336061dd84"
      },
      "outputs": [
        {
          "output_type": "execute_result",
          "data": {
            "text/plain": [
              "   customerID  gender  SeniorCitizen Partner Dependents  tenure PhoneService  \\\n",
              "0  7590-VHVEG  Female              0     Yes         No       1           No   \n",
              "1  5575-GNVDE    Male              0      No         No      34          Yes   \n",
              "2  3668-QPYBK    Male              0      No         No       2          Yes   \n",
              "3  7795-CFOCW    Male              0      No         No      45           No   \n",
              "4  9237-HQITU  Female              0      No         No       2          Yes   \n",
              "\n",
              "      MultipleLines InternetService OnlineSecurity  ... DeviceProtection  \\\n",
              "0  No phone service             DSL             No  ...               No   \n",
              "1                No             DSL            Yes  ...              Yes   \n",
              "2                No             DSL            Yes  ...               No   \n",
              "3  No phone service             DSL            Yes  ...              Yes   \n",
              "4                No     Fiber optic             No  ...               No   \n",
              "\n",
              "  TechSupport StreamingTV StreamingMovies        Contract PaperlessBilling  \\\n",
              "0          No          No              No  Month-to-month              Yes   \n",
              "1          No          No              No        One year               No   \n",
              "2          No          No              No  Month-to-month              Yes   \n",
              "3         Yes          No              No        One year               No   \n",
              "4          No          No              No  Month-to-month              Yes   \n",
              "\n",
              "               PaymentMethod MonthlyCharges  TotalCharges Churn  \n",
              "0           Electronic check          29.85         29.85    No  \n",
              "1               Mailed check          56.95        1889.5    No  \n",
              "2               Mailed check          53.85        108.15   Yes  \n",
              "3  Bank transfer (automatic)          42.30       1840.75    No  \n",
              "4           Electronic check          70.70        151.65   Yes  \n",
              "\n",
              "[5 rows x 21 columns]"
            ],
            "text/html": [
              "\n",
              "  <div id=\"df-edc68c93-5870-4cec-ad40-946e748eb251\" class=\"colab-df-container\">\n",
              "    <div>\n",
              "<style scoped>\n",
              "    .dataframe tbody tr th:only-of-type {\n",
              "        vertical-align: middle;\n",
              "    }\n",
              "\n",
              "    .dataframe tbody tr th {\n",
              "        vertical-align: top;\n",
              "    }\n",
              "\n",
              "    .dataframe thead th {\n",
              "        text-align: right;\n",
              "    }\n",
              "</style>\n",
              "<table border=\"1\" class=\"dataframe\">\n",
              "  <thead>\n",
              "    <tr style=\"text-align: right;\">\n",
              "      <th></th>\n",
              "      <th>customerID</th>\n",
              "      <th>gender</th>\n",
              "      <th>SeniorCitizen</th>\n",
              "      <th>Partner</th>\n",
              "      <th>Dependents</th>\n",
              "      <th>tenure</th>\n",
              "      <th>PhoneService</th>\n",
              "      <th>MultipleLines</th>\n",
              "      <th>InternetService</th>\n",
              "      <th>OnlineSecurity</th>\n",
              "      <th>...</th>\n",
              "      <th>DeviceProtection</th>\n",
              "      <th>TechSupport</th>\n",
              "      <th>StreamingTV</th>\n",
              "      <th>StreamingMovies</th>\n",
              "      <th>Contract</th>\n",
              "      <th>PaperlessBilling</th>\n",
              "      <th>PaymentMethod</th>\n",
              "      <th>MonthlyCharges</th>\n",
              "      <th>TotalCharges</th>\n",
              "      <th>Churn</th>\n",
              "    </tr>\n",
              "  </thead>\n",
              "  <tbody>\n",
              "    <tr>\n",
              "      <th>0</th>\n",
              "      <td>7590-VHVEG</td>\n",
              "      <td>Female</td>\n",
              "      <td>0</td>\n",
              "      <td>Yes</td>\n",
              "      <td>No</td>\n",
              "      <td>1</td>\n",
              "      <td>No</td>\n",
              "      <td>No phone service</td>\n",
              "      <td>DSL</td>\n",
              "      <td>No</td>\n",
              "      <td>...</td>\n",
              "      <td>No</td>\n",
              "      <td>No</td>\n",
              "      <td>No</td>\n",
              "      <td>No</td>\n",
              "      <td>Month-to-month</td>\n",
              "      <td>Yes</td>\n",
              "      <td>Electronic check</td>\n",
              "      <td>29.85</td>\n",
              "      <td>29.85</td>\n",
              "      <td>No</td>\n",
              "    </tr>\n",
              "    <tr>\n",
              "      <th>1</th>\n",
              "      <td>5575-GNVDE</td>\n",
              "      <td>Male</td>\n",
              "      <td>0</td>\n",
              "      <td>No</td>\n",
              "      <td>No</td>\n",
              "      <td>34</td>\n",
              "      <td>Yes</td>\n",
              "      <td>No</td>\n",
              "      <td>DSL</td>\n",
              "      <td>Yes</td>\n",
              "      <td>...</td>\n",
              "      <td>Yes</td>\n",
              "      <td>No</td>\n",
              "      <td>No</td>\n",
              "      <td>No</td>\n",
              "      <td>One year</td>\n",
              "      <td>No</td>\n",
              "      <td>Mailed check</td>\n",
              "      <td>56.95</td>\n",
              "      <td>1889.5</td>\n",
              "      <td>No</td>\n",
              "    </tr>\n",
              "    <tr>\n",
              "      <th>2</th>\n",
              "      <td>3668-QPYBK</td>\n",
              "      <td>Male</td>\n",
              "      <td>0</td>\n",
              "      <td>No</td>\n",
              "      <td>No</td>\n",
              "      <td>2</td>\n",
              "      <td>Yes</td>\n",
              "      <td>No</td>\n",
              "      <td>DSL</td>\n",
              "      <td>Yes</td>\n",
              "      <td>...</td>\n",
              "      <td>No</td>\n",
              "      <td>No</td>\n",
              "      <td>No</td>\n",
              "      <td>No</td>\n",
              "      <td>Month-to-month</td>\n",
              "      <td>Yes</td>\n",
              "      <td>Mailed check</td>\n",
              "      <td>53.85</td>\n",
              "      <td>108.15</td>\n",
              "      <td>Yes</td>\n",
              "    </tr>\n",
              "    <tr>\n",
              "      <th>3</th>\n",
              "      <td>7795-CFOCW</td>\n",
              "      <td>Male</td>\n",
              "      <td>0</td>\n",
              "      <td>No</td>\n",
              "      <td>No</td>\n",
              "      <td>45</td>\n",
              "      <td>No</td>\n",
              "      <td>No phone service</td>\n",
              "      <td>DSL</td>\n",
              "      <td>Yes</td>\n",
              "      <td>...</td>\n",
              "      <td>Yes</td>\n",
              "      <td>Yes</td>\n",
              "      <td>No</td>\n",
              "      <td>No</td>\n",
              "      <td>One year</td>\n",
              "      <td>No</td>\n",
              "      <td>Bank transfer (automatic)</td>\n",
              "      <td>42.30</td>\n",
              "      <td>1840.75</td>\n",
              "      <td>No</td>\n",
              "    </tr>\n",
              "    <tr>\n",
              "      <th>4</th>\n",
              "      <td>9237-HQITU</td>\n",
              "      <td>Female</td>\n",
              "      <td>0</td>\n",
              "      <td>No</td>\n",
              "      <td>No</td>\n",
              "      <td>2</td>\n",
              "      <td>Yes</td>\n",
              "      <td>No</td>\n",
              "      <td>Fiber optic</td>\n",
              "      <td>No</td>\n",
              "      <td>...</td>\n",
              "      <td>No</td>\n",
              "      <td>No</td>\n",
              "      <td>No</td>\n",
              "      <td>No</td>\n",
              "      <td>Month-to-month</td>\n",
              "      <td>Yes</td>\n",
              "      <td>Electronic check</td>\n",
              "      <td>70.70</td>\n",
              "      <td>151.65</td>\n",
              "      <td>Yes</td>\n",
              "    </tr>\n",
              "  </tbody>\n",
              "</table>\n",
              "<p>5 rows × 21 columns</p>\n",
              "</div>\n",
              "    <div class=\"colab-df-buttons\">\n",
              "\n",
              "  <div class=\"colab-df-container\">\n",
              "    <button class=\"colab-df-convert\" onclick=\"convertToInteractive('df-edc68c93-5870-4cec-ad40-946e748eb251')\"\n",
              "            title=\"Convert this dataframe to an interactive table.\"\n",
              "            style=\"display:none;\">\n",
              "\n",
              "  <svg xmlns=\"http://www.w3.org/2000/svg\" height=\"24px\" viewBox=\"0 -960 960 960\">\n",
              "    <path d=\"M120-120v-720h720v720H120Zm60-500h600v-160H180v160Zm220 220h160v-160H400v160Zm0 220h160v-160H400v160ZM180-400h160v-160H180v160Zm440 0h160v-160H620v160ZM180-180h160v-160H180v160Zm440 0h160v-160H620v160Z\"/>\n",
              "  </svg>\n",
              "    </button>\n",
              "\n",
              "  <style>\n",
              "    .colab-df-container {\n",
              "      display:flex;\n",
              "      gap: 12px;\n",
              "    }\n",
              "\n",
              "    .colab-df-convert {\n",
              "      background-color: #E8F0FE;\n",
              "      border: none;\n",
              "      border-radius: 50%;\n",
              "      cursor: pointer;\n",
              "      display: none;\n",
              "      fill: #1967D2;\n",
              "      height: 32px;\n",
              "      padding: 0 0 0 0;\n",
              "      width: 32px;\n",
              "    }\n",
              "\n",
              "    .colab-df-convert:hover {\n",
              "      background-color: #E2EBFA;\n",
              "      box-shadow: 0px 1px 2px rgba(60, 64, 67, 0.3), 0px 1px 3px 1px rgba(60, 64, 67, 0.15);\n",
              "      fill: #174EA6;\n",
              "    }\n",
              "\n",
              "    .colab-df-buttons div {\n",
              "      margin-bottom: 4px;\n",
              "    }\n",
              "\n",
              "    [theme=dark] .colab-df-convert {\n",
              "      background-color: #3B4455;\n",
              "      fill: #D2E3FC;\n",
              "    }\n",
              "\n",
              "    [theme=dark] .colab-df-convert:hover {\n",
              "      background-color: #434B5C;\n",
              "      box-shadow: 0px 1px 3px 1px rgba(0, 0, 0, 0.15);\n",
              "      filter: drop-shadow(0px 1px 2px rgba(0, 0, 0, 0.3));\n",
              "      fill: #FFFFFF;\n",
              "    }\n",
              "  </style>\n",
              "\n",
              "    <script>\n",
              "      const buttonEl =\n",
              "        document.querySelector('#df-edc68c93-5870-4cec-ad40-946e748eb251 button.colab-df-convert');\n",
              "      buttonEl.style.display =\n",
              "        google.colab.kernel.accessAllowed ? 'block' : 'none';\n",
              "\n",
              "      async function convertToInteractive(key) {\n",
              "        const element = document.querySelector('#df-edc68c93-5870-4cec-ad40-946e748eb251');\n",
              "        const dataTable =\n",
              "          await google.colab.kernel.invokeFunction('convertToInteractive',\n",
              "                                                    [key], {});\n",
              "        if (!dataTable) return;\n",
              "\n",
              "        const docLinkHtml = 'Like what you see? Visit the ' +\n",
              "          '<a target=\"_blank\" href=https://colab.research.google.com/notebooks/data_table.ipynb>data table notebook</a>'\n",
              "          + ' to learn more about interactive tables.';\n",
              "        element.innerHTML = '';\n",
              "        dataTable['output_type'] = 'display_data';\n",
              "        await google.colab.output.renderOutput(dataTable, element);\n",
              "        const docLink = document.createElement('div');\n",
              "        docLink.innerHTML = docLinkHtml;\n",
              "        element.appendChild(docLink);\n",
              "      }\n",
              "    </script>\n",
              "  </div>\n",
              "\n",
              "\n",
              "<div id=\"df-94ccf1c2-b864-40b5-9109-e476bc5d2408\">\n",
              "  <button class=\"colab-df-quickchart\" onclick=\"quickchart('df-94ccf1c2-b864-40b5-9109-e476bc5d2408')\"\n",
              "            title=\"Suggest charts\"\n",
              "            style=\"display:none;\">\n",
              "\n",
              "<svg xmlns=\"http://www.w3.org/2000/svg\" height=\"24px\"viewBox=\"0 0 24 24\"\n",
              "     width=\"24px\">\n",
              "    <g>\n",
              "        <path d=\"M19 3H5c-1.1 0-2 .9-2 2v14c0 1.1.9 2 2 2h14c1.1 0 2-.9 2-2V5c0-1.1-.9-2-2-2zM9 17H7v-7h2v7zm4 0h-2V7h2v10zm4 0h-2v-4h2v4z\"/>\n",
              "    </g>\n",
              "</svg>\n",
              "  </button>\n",
              "\n",
              "<style>\n",
              "  .colab-df-quickchart {\n",
              "      --bg-color: #E8F0FE;\n",
              "      --fill-color: #1967D2;\n",
              "      --hover-bg-color: #E2EBFA;\n",
              "      --hover-fill-color: #174EA6;\n",
              "      --disabled-fill-color: #AAA;\n",
              "      --disabled-bg-color: #DDD;\n",
              "  }\n",
              "\n",
              "  [theme=dark] .colab-df-quickchart {\n",
              "      --bg-color: #3B4455;\n",
              "      --fill-color: #D2E3FC;\n",
              "      --hover-bg-color: #434B5C;\n",
              "      --hover-fill-color: #FFFFFF;\n",
              "      --disabled-bg-color: #3B4455;\n",
              "      --disabled-fill-color: #666;\n",
              "  }\n",
              "\n",
              "  .colab-df-quickchart {\n",
              "    background-color: var(--bg-color);\n",
              "    border: none;\n",
              "    border-radius: 50%;\n",
              "    cursor: pointer;\n",
              "    display: none;\n",
              "    fill: var(--fill-color);\n",
              "    height: 32px;\n",
              "    padding: 0;\n",
              "    width: 32px;\n",
              "  }\n",
              "\n",
              "  .colab-df-quickchart:hover {\n",
              "    background-color: var(--hover-bg-color);\n",
              "    box-shadow: 0 1px 2px rgba(60, 64, 67, 0.3), 0 1px 3px 1px rgba(60, 64, 67, 0.15);\n",
              "    fill: var(--button-hover-fill-color);\n",
              "  }\n",
              "\n",
              "  .colab-df-quickchart-complete:disabled,\n",
              "  .colab-df-quickchart-complete:disabled:hover {\n",
              "    background-color: var(--disabled-bg-color);\n",
              "    fill: var(--disabled-fill-color);\n",
              "    box-shadow: none;\n",
              "  }\n",
              "\n",
              "  .colab-df-spinner {\n",
              "    border: 2px solid var(--fill-color);\n",
              "    border-color: transparent;\n",
              "    border-bottom-color: var(--fill-color);\n",
              "    animation:\n",
              "      spin 1s steps(1) infinite;\n",
              "  }\n",
              "\n",
              "  @keyframes spin {\n",
              "    0% {\n",
              "      border-color: transparent;\n",
              "      border-bottom-color: var(--fill-color);\n",
              "      border-left-color: var(--fill-color);\n",
              "    }\n",
              "    20% {\n",
              "      border-color: transparent;\n",
              "      border-left-color: var(--fill-color);\n",
              "      border-top-color: var(--fill-color);\n",
              "    }\n",
              "    30% {\n",
              "      border-color: transparent;\n",
              "      border-left-color: var(--fill-color);\n",
              "      border-top-color: var(--fill-color);\n",
              "      border-right-color: var(--fill-color);\n",
              "    }\n",
              "    40% {\n",
              "      border-color: transparent;\n",
              "      border-right-color: var(--fill-color);\n",
              "      border-top-color: var(--fill-color);\n",
              "    }\n",
              "    60% {\n",
              "      border-color: transparent;\n",
              "      border-right-color: var(--fill-color);\n",
              "    }\n",
              "    80% {\n",
              "      border-color: transparent;\n",
              "      border-right-color: var(--fill-color);\n",
              "      border-bottom-color: var(--fill-color);\n",
              "    }\n",
              "    90% {\n",
              "      border-color: transparent;\n",
              "      border-bottom-color: var(--fill-color);\n",
              "    }\n",
              "  }\n",
              "</style>\n",
              "\n",
              "  <script>\n",
              "    async function quickchart(key) {\n",
              "      const quickchartButtonEl =\n",
              "        document.querySelector('#' + key + ' button');\n",
              "      quickchartButtonEl.disabled = true;  // To prevent multiple clicks.\n",
              "      quickchartButtonEl.classList.add('colab-df-spinner');\n",
              "      try {\n",
              "        const charts = await google.colab.kernel.invokeFunction(\n",
              "            'suggestCharts', [key], {});\n",
              "      } catch (error) {\n",
              "        console.error('Error during call to suggestCharts:', error);\n",
              "      }\n",
              "      quickchartButtonEl.classList.remove('colab-df-spinner');\n",
              "      quickchartButtonEl.classList.add('colab-df-quickchart-complete');\n",
              "    }\n",
              "    (() => {\n",
              "      let quickchartButtonEl =\n",
              "        document.querySelector('#df-94ccf1c2-b864-40b5-9109-e476bc5d2408 button');\n",
              "      quickchartButtonEl.style.display =\n",
              "        google.colab.kernel.accessAllowed ? 'block' : 'none';\n",
              "    })();\n",
              "  </script>\n",
              "</div>\n",
              "\n",
              "    </div>\n",
              "  </div>\n"
            ],
            "application/vnd.google.colaboratory.intrinsic+json": {
              "type": "dataframe",
              "variable_name": "data"
            }
          },
          "metadata": {},
          "execution_count": 11
        }
      ],
      "source": [
        "data.head()"
      ]
    },
    {
      "cell_type": "code",
      "execution_count": null,
      "id": "30ef5790",
      "metadata": {
        "colab": {
          "base_uri": "https://localhost:8080/",
          "height": 342
        },
        "id": "30ef5790",
        "outputId": "e69a99b5-78f8-4697-f85c-5bc8b8e2d31b"
      },
      "outputs": [
        {
          "output_type": "execute_result",
          "data": {
            "text/plain": [
              "      customerID  gender  SeniorCitizen Partner Dependents  tenure  \\\n",
              "7038  6840-RESVB    Male              0     Yes        Yes      24   \n",
              "7039  2234-XADUH  Female              0     Yes        Yes      72   \n",
              "7040  4801-JZAZL  Female              0     Yes        Yes      11   \n",
              "7041  8361-LTMKD    Male              1     Yes         No       4   \n",
              "7042  3186-AJIEK    Male              0      No         No      66   \n",
              "\n",
              "     PhoneService     MultipleLines InternetService OnlineSecurity  ...  \\\n",
              "7038          Yes               Yes             DSL            Yes  ...   \n",
              "7039          Yes               Yes     Fiber optic             No  ...   \n",
              "7040           No  No phone service             DSL            Yes  ...   \n",
              "7041          Yes               Yes     Fiber optic             No  ...   \n",
              "7042          Yes                No     Fiber optic            Yes  ...   \n",
              "\n",
              "     DeviceProtection TechSupport StreamingTV StreamingMovies        Contract  \\\n",
              "7038              Yes         Yes         Yes             Yes        One year   \n",
              "7039              Yes          No         Yes             Yes        One year   \n",
              "7040               No          No          No              No  Month-to-month   \n",
              "7041               No          No          No              No  Month-to-month   \n",
              "7042              Yes         Yes         Yes             Yes        Two year   \n",
              "\n",
              "     PaperlessBilling              PaymentMethod MonthlyCharges  TotalCharges  \\\n",
              "7038              Yes               Mailed check          84.80        1990.5   \n",
              "7039              Yes    Credit card (automatic)         103.20        7362.9   \n",
              "7040              Yes           Electronic check          29.60        346.45   \n",
              "7041              Yes               Mailed check          74.40         306.6   \n",
              "7042              Yes  Bank transfer (automatic)         105.65        6844.5   \n",
              "\n",
              "     Churn  \n",
              "7038    No  \n",
              "7039    No  \n",
              "7040    No  \n",
              "7041   Yes  \n",
              "7042    No  \n",
              "\n",
              "[5 rows x 21 columns]"
            ],
            "text/html": [
              "\n",
              "  <div id=\"df-83305955-e963-493e-b808-675888b14838\" class=\"colab-df-container\">\n",
              "    <div>\n",
              "<style scoped>\n",
              "    .dataframe tbody tr th:only-of-type {\n",
              "        vertical-align: middle;\n",
              "    }\n",
              "\n",
              "    .dataframe tbody tr th {\n",
              "        vertical-align: top;\n",
              "    }\n",
              "\n",
              "    .dataframe thead th {\n",
              "        text-align: right;\n",
              "    }\n",
              "</style>\n",
              "<table border=\"1\" class=\"dataframe\">\n",
              "  <thead>\n",
              "    <tr style=\"text-align: right;\">\n",
              "      <th></th>\n",
              "      <th>customerID</th>\n",
              "      <th>gender</th>\n",
              "      <th>SeniorCitizen</th>\n",
              "      <th>Partner</th>\n",
              "      <th>Dependents</th>\n",
              "      <th>tenure</th>\n",
              "      <th>PhoneService</th>\n",
              "      <th>MultipleLines</th>\n",
              "      <th>InternetService</th>\n",
              "      <th>OnlineSecurity</th>\n",
              "      <th>...</th>\n",
              "      <th>DeviceProtection</th>\n",
              "      <th>TechSupport</th>\n",
              "      <th>StreamingTV</th>\n",
              "      <th>StreamingMovies</th>\n",
              "      <th>Contract</th>\n",
              "      <th>PaperlessBilling</th>\n",
              "      <th>PaymentMethod</th>\n",
              "      <th>MonthlyCharges</th>\n",
              "      <th>TotalCharges</th>\n",
              "      <th>Churn</th>\n",
              "    </tr>\n",
              "  </thead>\n",
              "  <tbody>\n",
              "    <tr>\n",
              "      <th>7038</th>\n",
              "      <td>6840-RESVB</td>\n",
              "      <td>Male</td>\n",
              "      <td>0</td>\n",
              "      <td>Yes</td>\n",
              "      <td>Yes</td>\n",
              "      <td>24</td>\n",
              "      <td>Yes</td>\n",
              "      <td>Yes</td>\n",
              "      <td>DSL</td>\n",
              "      <td>Yes</td>\n",
              "      <td>...</td>\n",
              "      <td>Yes</td>\n",
              "      <td>Yes</td>\n",
              "      <td>Yes</td>\n",
              "      <td>Yes</td>\n",
              "      <td>One year</td>\n",
              "      <td>Yes</td>\n",
              "      <td>Mailed check</td>\n",
              "      <td>84.80</td>\n",
              "      <td>1990.5</td>\n",
              "      <td>No</td>\n",
              "    </tr>\n",
              "    <tr>\n",
              "      <th>7039</th>\n",
              "      <td>2234-XADUH</td>\n",
              "      <td>Female</td>\n",
              "      <td>0</td>\n",
              "      <td>Yes</td>\n",
              "      <td>Yes</td>\n",
              "      <td>72</td>\n",
              "      <td>Yes</td>\n",
              "      <td>Yes</td>\n",
              "      <td>Fiber optic</td>\n",
              "      <td>No</td>\n",
              "      <td>...</td>\n",
              "      <td>Yes</td>\n",
              "      <td>No</td>\n",
              "      <td>Yes</td>\n",
              "      <td>Yes</td>\n",
              "      <td>One year</td>\n",
              "      <td>Yes</td>\n",
              "      <td>Credit card (automatic)</td>\n",
              "      <td>103.20</td>\n",
              "      <td>7362.9</td>\n",
              "      <td>No</td>\n",
              "    </tr>\n",
              "    <tr>\n",
              "      <th>7040</th>\n",
              "      <td>4801-JZAZL</td>\n",
              "      <td>Female</td>\n",
              "      <td>0</td>\n",
              "      <td>Yes</td>\n",
              "      <td>Yes</td>\n",
              "      <td>11</td>\n",
              "      <td>No</td>\n",
              "      <td>No phone service</td>\n",
              "      <td>DSL</td>\n",
              "      <td>Yes</td>\n",
              "      <td>...</td>\n",
              "      <td>No</td>\n",
              "      <td>No</td>\n",
              "      <td>No</td>\n",
              "      <td>No</td>\n",
              "      <td>Month-to-month</td>\n",
              "      <td>Yes</td>\n",
              "      <td>Electronic check</td>\n",
              "      <td>29.60</td>\n",
              "      <td>346.45</td>\n",
              "      <td>No</td>\n",
              "    </tr>\n",
              "    <tr>\n",
              "      <th>7041</th>\n",
              "      <td>8361-LTMKD</td>\n",
              "      <td>Male</td>\n",
              "      <td>1</td>\n",
              "      <td>Yes</td>\n",
              "      <td>No</td>\n",
              "      <td>4</td>\n",
              "      <td>Yes</td>\n",
              "      <td>Yes</td>\n",
              "      <td>Fiber optic</td>\n",
              "      <td>No</td>\n",
              "      <td>...</td>\n",
              "      <td>No</td>\n",
              "      <td>No</td>\n",
              "      <td>No</td>\n",
              "      <td>No</td>\n",
              "      <td>Month-to-month</td>\n",
              "      <td>Yes</td>\n",
              "      <td>Mailed check</td>\n",
              "      <td>74.40</td>\n",
              "      <td>306.6</td>\n",
              "      <td>Yes</td>\n",
              "    </tr>\n",
              "    <tr>\n",
              "      <th>7042</th>\n",
              "      <td>3186-AJIEK</td>\n",
              "      <td>Male</td>\n",
              "      <td>0</td>\n",
              "      <td>No</td>\n",
              "      <td>No</td>\n",
              "      <td>66</td>\n",
              "      <td>Yes</td>\n",
              "      <td>No</td>\n",
              "      <td>Fiber optic</td>\n",
              "      <td>Yes</td>\n",
              "      <td>...</td>\n",
              "      <td>Yes</td>\n",
              "      <td>Yes</td>\n",
              "      <td>Yes</td>\n",
              "      <td>Yes</td>\n",
              "      <td>Two year</td>\n",
              "      <td>Yes</td>\n",
              "      <td>Bank transfer (automatic)</td>\n",
              "      <td>105.65</td>\n",
              "      <td>6844.5</td>\n",
              "      <td>No</td>\n",
              "    </tr>\n",
              "  </tbody>\n",
              "</table>\n",
              "<p>5 rows × 21 columns</p>\n",
              "</div>\n",
              "    <div class=\"colab-df-buttons\">\n",
              "\n",
              "  <div class=\"colab-df-container\">\n",
              "    <button class=\"colab-df-convert\" onclick=\"convertToInteractive('df-83305955-e963-493e-b808-675888b14838')\"\n",
              "            title=\"Convert this dataframe to an interactive table.\"\n",
              "            style=\"display:none;\">\n",
              "\n",
              "  <svg xmlns=\"http://www.w3.org/2000/svg\" height=\"24px\" viewBox=\"0 -960 960 960\">\n",
              "    <path d=\"M120-120v-720h720v720H120Zm60-500h600v-160H180v160Zm220 220h160v-160H400v160Zm0 220h160v-160H400v160ZM180-400h160v-160H180v160Zm440 0h160v-160H620v160ZM180-180h160v-160H180v160Zm440 0h160v-160H620v160Z\"/>\n",
              "  </svg>\n",
              "    </button>\n",
              "\n",
              "  <style>\n",
              "    .colab-df-container {\n",
              "      display:flex;\n",
              "      gap: 12px;\n",
              "    }\n",
              "\n",
              "    .colab-df-convert {\n",
              "      background-color: #E8F0FE;\n",
              "      border: none;\n",
              "      border-radius: 50%;\n",
              "      cursor: pointer;\n",
              "      display: none;\n",
              "      fill: #1967D2;\n",
              "      height: 32px;\n",
              "      padding: 0 0 0 0;\n",
              "      width: 32px;\n",
              "    }\n",
              "\n",
              "    .colab-df-convert:hover {\n",
              "      background-color: #E2EBFA;\n",
              "      box-shadow: 0px 1px 2px rgba(60, 64, 67, 0.3), 0px 1px 3px 1px rgba(60, 64, 67, 0.15);\n",
              "      fill: #174EA6;\n",
              "    }\n",
              "\n",
              "    .colab-df-buttons div {\n",
              "      margin-bottom: 4px;\n",
              "    }\n",
              "\n",
              "    [theme=dark] .colab-df-convert {\n",
              "      background-color: #3B4455;\n",
              "      fill: #D2E3FC;\n",
              "    }\n",
              "\n",
              "    [theme=dark] .colab-df-convert:hover {\n",
              "      background-color: #434B5C;\n",
              "      box-shadow: 0px 1px 3px 1px rgba(0, 0, 0, 0.15);\n",
              "      filter: drop-shadow(0px 1px 2px rgba(0, 0, 0, 0.3));\n",
              "      fill: #FFFFFF;\n",
              "    }\n",
              "  </style>\n",
              "\n",
              "    <script>\n",
              "      const buttonEl =\n",
              "        document.querySelector('#df-83305955-e963-493e-b808-675888b14838 button.colab-df-convert');\n",
              "      buttonEl.style.display =\n",
              "        google.colab.kernel.accessAllowed ? 'block' : 'none';\n",
              "\n",
              "      async function convertToInteractive(key) {\n",
              "        const element = document.querySelector('#df-83305955-e963-493e-b808-675888b14838');\n",
              "        const dataTable =\n",
              "          await google.colab.kernel.invokeFunction('convertToInteractive',\n",
              "                                                    [key], {});\n",
              "        if (!dataTable) return;\n",
              "\n",
              "        const docLinkHtml = 'Like what you see? Visit the ' +\n",
              "          '<a target=\"_blank\" href=https://colab.research.google.com/notebooks/data_table.ipynb>data table notebook</a>'\n",
              "          + ' to learn more about interactive tables.';\n",
              "        element.innerHTML = '';\n",
              "        dataTable['output_type'] = 'display_data';\n",
              "        await google.colab.output.renderOutput(dataTable, element);\n",
              "        const docLink = document.createElement('div');\n",
              "        docLink.innerHTML = docLinkHtml;\n",
              "        element.appendChild(docLink);\n",
              "      }\n",
              "    </script>\n",
              "  </div>\n",
              "\n",
              "\n",
              "<div id=\"df-66c9944a-ffc1-435c-8199-b4e70072eb8c\">\n",
              "  <button class=\"colab-df-quickchart\" onclick=\"quickchart('df-66c9944a-ffc1-435c-8199-b4e70072eb8c')\"\n",
              "            title=\"Suggest charts\"\n",
              "            style=\"display:none;\">\n",
              "\n",
              "<svg xmlns=\"http://www.w3.org/2000/svg\" height=\"24px\"viewBox=\"0 0 24 24\"\n",
              "     width=\"24px\">\n",
              "    <g>\n",
              "        <path d=\"M19 3H5c-1.1 0-2 .9-2 2v14c0 1.1.9 2 2 2h14c1.1 0 2-.9 2-2V5c0-1.1-.9-2-2-2zM9 17H7v-7h2v7zm4 0h-2V7h2v10zm4 0h-2v-4h2v4z\"/>\n",
              "    </g>\n",
              "</svg>\n",
              "  </button>\n",
              "\n",
              "<style>\n",
              "  .colab-df-quickchart {\n",
              "      --bg-color: #E8F0FE;\n",
              "      --fill-color: #1967D2;\n",
              "      --hover-bg-color: #E2EBFA;\n",
              "      --hover-fill-color: #174EA6;\n",
              "      --disabled-fill-color: #AAA;\n",
              "      --disabled-bg-color: #DDD;\n",
              "  }\n",
              "\n",
              "  [theme=dark] .colab-df-quickchart {\n",
              "      --bg-color: #3B4455;\n",
              "      --fill-color: #D2E3FC;\n",
              "      --hover-bg-color: #434B5C;\n",
              "      --hover-fill-color: #FFFFFF;\n",
              "      --disabled-bg-color: #3B4455;\n",
              "      --disabled-fill-color: #666;\n",
              "  }\n",
              "\n",
              "  .colab-df-quickchart {\n",
              "    background-color: var(--bg-color);\n",
              "    border: none;\n",
              "    border-radius: 50%;\n",
              "    cursor: pointer;\n",
              "    display: none;\n",
              "    fill: var(--fill-color);\n",
              "    height: 32px;\n",
              "    padding: 0;\n",
              "    width: 32px;\n",
              "  }\n",
              "\n",
              "  .colab-df-quickchart:hover {\n",
              "    background-color: var(--hover-bg-color);\n",
              "    box-shadow: 0 1px 2px rgba(60, 64, 67, 0.3), 0 1px 3px 1px rgba(60, 64, 67, 0.15);\n",
              "    fill: var(--button-hover-fill-color);\n",
              "  }\n",
              "\n",
              "  .colab-df-quickchart-complete:disabled,\n",
              "  .colab-df-quickchart-complete:disabled:hover {\n",
              "    background-color: var(--disabled-bg-color);\n",
              "    fill: var(--disabled-fill-color);\n",
              "    box-shadow: none;\n",
              "  }\n",
              "\n",
              "  .colab-df-spinner {\n",
              "    border: 2px solid var(--fill-color);\n",
              "    border-color: transparent;\n",
              "    border-bottom-color: var(--fill-color);\n",
              "    animation:\n",
              "      spin 1s steps(1) infinite;\n",
              "  }\n",
              "\n",
              "  @keyframes spin {\n",
              "    0% {\n",
              "      border-color: transparent;\n",
              "      border-bottom-color: var(--fill-color);\n",
              "      border-left-color: var(--fill-color);\n",
              "    }\n",
              "    20% {\n",
              "      border-color: transparent;\n",
              "      border-left-color: var(--fill-color);\n",
              "      border-top-color: var(--fill-color);\n",
              "    }\n",
              "    30% {\n",
              "      border-color: transparent;\n",
              "      border-left-color: var(--fill-color);\n",
              "      border-top-color: var(--fill-color);\n",
              "      border-right-color: var(--fill-color);\n",
              "    }\n",
              "    40% {\n",
              "      border-color: transparent;\n",
              "      border-right-color: var(--fill-color);\n",
              "      border-top-color: var(--fill-color);\n",
              "    }\n",
              "    60% {\n",
              "      border-color: transparent;\n",
              "      border-right-color: var(--fill-color);\n",
              "    }\n",
              "    80% {\n",
              "      border-color: transparent;\n",
              "      border-right-color: var(--fill-color);\n",
              "      border-bottom-color: var(--fill-color);\n",
              "    }\n",
              "    90% {\n",
              "      border-color: transparent;\n",
              "      border-bottom-color: var(--fill-color);\n",
              "    }\n",
              "  }\n",
              "</style>\n",
              "\n",
              "  <script>\n",
              "    async function quickchart(key) {\n",
              "      const quickchartButtonEl =\n",
              "        document.querySelector('#' + key + ' button');\n",
              "      quickchartButtonEl.disabled = true;  // To prevent multiple clicks.\n",
              "      quickchartButtonEl.classList.add('colab-df-spinner');\n",
              "      try {\n",
              "        const charts = await google.colab.kernel.invokeFunction(\n",
              "            'suggestCharts', [key], {});\n",
              "      } catch (error) {\n",
              "        console.error('Error during call to suggestCharts:', error);\n",
              "      }\n",
              "      quickchartButtonEl.classList.remove('colab-df-spinner');\n",
              "      quickchartButtonEl.classList.add('colab-df-quickchart-complete');\n",
              "    }\n",
              "    (() => {\n",
              "      let quickchartButtonEl =\n",
              "        document.querySelector('#df-66c9944a-ffc1-435c-8199-b4e70072eb8c button');\n",
              "      quickchartButtonEl.style.display =\n",
              "        google.colab.kernel.accessAllowed ? 'block' : 'none';\n",
              "    })();\n",
              "  </script>\n",
              "</div>\n",
              "\n",
              "    </div>\n",
              "  </div>\n"
            ],
            "application/vnd.google.colaboratory.intrinsic+json": {
              "type": "dataframe"
            }
          },
          "metadata": {},
          "execution_count": 12
        }
      ],
      "source": [
        "data.tail()"
      ]
    },
    {
      "cell_type": "markdown",
      "id": "912b0b45",
      "metadata": {
        "id": "912b0b45"
      },
      "source": [
        "# Data PreProcessing"
      ]
    },
    {
      "cell_type": "markdown",
      "id": "f5d80edc",
      "metadata": {
        "id": "f5d80edc"
      },
      "source": [
        "we have to drop the unnecessary columns here we can find the customerid remove that"
      ]
    },
    {
      "cell_type": "code",
      "execution_count": null,
      "id": "d31b86fa",
      "metadata": {
        "id": "d31b86fa"
      },
      "outputs": [],
      "source": [
        "data.drop('customerID', axis=1, inplace= True)"
      ]
    },
    {
      "cell_type": "code",
      "execution_count": null,
      "id": "2e9984ab",
      "metadata": {
        "colab": {
          "base_uri": "https://localhost:8080/"
        },
        "id": "2e9984ab",
        "outputId": "b691be88-7e30-42a8-c6c3-8ff5b5805eb0"
      },
      "outputs": [
        {
          "output_type": "stream",
          "name": "stdout",
          "text": [
            "<class 'pandas.core.frame.DataFrame'>\n",
            "RangeIndex: 7043 entries, 0 to 7042\n",
            "Data columns (total 20 columns):\n",
            " #   Column            Non-Null Count  Dtype  \n",
            "---  ------            --------------  -----  \n",
            " 0   gender            7043 non-null   object \n",
            " 1   SeniorCitizen     7043 non-null   int64  \n",
            " 2   Partner           7043 non-null   object \n",
            " 3   Dependents        7043 non-null   object \n",
            " 4   tenure            7043 non-null   int64  \n",
            " 5   PhoneService      7043 non-null   object \n",
            " 6   MultipleLines     7043 non-null   object \n",
            " 7   InternetService   7043 non-null   object \n",
            " 8   OnlineSecurity    7043 non-null   object \n",
            " 9   OnlineBackup      7043 non-null   object \n",
            " 10  DeviceProtection  7043 non-null   object \n",
            " 11  TechSupport       7043 non-null   object \n",
            " 12  StreamingTV       7043 non-null   object \n",
            " 13  StreamingMovies   7043 non-null   object \n",
            " 14  Contract          7043 non-null   object \n",
            " 15  PaperlessBilling  7043 non-null   object \n",
            " 16  PaymentMethod     7043 non-null   object \n",
            " 17  MonthlyCharges    7043 non-null   float64\n",
            " 18  TotalCharges      7043 non-null   object \n",
            " 19  Churn             7043 non-null   object \n",
            "dtypes: float64(1), int64(2), object(17)\n",
            "memory usage: 1.1+ MB\n"
          ]
        }
      ],
      "source": [
        "data.info()"
      ]
    },
    {
      "cell_type": "markdown",
      "id": "cc822665",
      "metadata": {
        "id": "cc822665"
      },
      "source": [
        "we have to Find unique values in a column helps understand data diversity, identify inconsistencies, and prepare data for analysis and modeling."
      ]
    },
    {
      "cell_type": "code",
      "execution_count": null,
      "id": "8c0da9ff",
      "metadata": {
        "colab": {
          "base_uri": "https://localhost:8080/"
        },
        "id": "8c0da9ff",
        "outputId": "c241cab5-514c-4f36-b748-280d9315de6d"
      },
      "outputs": [
        {
          "output_type": "stream",
          "name": "stdout",
          "text": [
            "[0 1]\n",
            "6531\n"
          ]
        }
      ],
      "source": [
        "print(data['SeniorCitizen'].unique())\n",
        "print(data['TotalCharges'].nunique())"
      ]
    },
    {
      "cell_type": "markdown",
      "id": "74527ee2",
      "metadata": {
        "id": "74527ee2"
      },
      "source": [
        "we have to do the required type castings and have to handle the NAn values"
      ]
    },
    {
      "cell_type": "code",
      "execution_count": null,
      "id": "c8c598b7",
      "metadata": {
        "id": "c8c598b7"
      },
      "outputs": [],
      "source": [
        "data['SeniorCitizen'] = data['SeniorCitizen'].astype(str)\n",
        "data['TotalCharges'] = data['TotalCharges'].replace(' ', np.NaN) # This column had missing values represented by ' '. I noticed it when I tried converting it to float and it gave me an error that it could not convert string to float\n",
        "data['TotalCharges'] = data['TotalCharges'].astype(float)\n",
        "data['TotalCharges'] = data['TotalCharges'].fillna(data['TotalCharges'].median())"
      ]
    },
    {
      "cell_type": "markdown",
      "id": "6d3a7a9a",
      "metadata": {
        "id": "6d3a7a9a"
      },
      "source": [
        "understanding unique values"
      ]
    },
    {
      "cell_type": "code",
      "execution_count": null,
      "id": "3743cead",
      "metadata": {
        "colab": {
          "base_uri": "https://localhost:8080/"
        },
        "id": "3743cead",
        "outputId": "8c824434-4f73-428a-e214-b43bdfa65d63"
      },
      "outputs": [
        {
          "output_type": "stream",
          "name": "stdout",
          "text": [
            "gender : ['Female', 'Male']\n",
            "SeniorCitizen : ['0', '1']\n",
            "Partner : ['Yes', 'No']\n",
            "Dependents : ['No', 'Yes']\n",
            "PhoneService : ['No', 'Yes']\n",
            "MultipleLines : ['No phone service', 'No', 'Yes']\n",
            "InternetService : ['DSL', 'Fiber optic', 'No']\n",
            "OnlineSecurity : ['No', 'Yes', 'No internet service']\n",
            "OnlineBackup : ['Yes', 'No', 'No internet service']\n",
            "DeviceProtection : ['No', 'Yes', 'No internet service']\n",
            "TechSupport : ['No', 'Yes', 'No internet service']\n",
            "StreamingTV : ['No', 'Yes', 'No internet service']\n",
            "StreamingMovies : ['No', 'Yes', 'No internet service']\n",
            "Contract : ['Month-to-month', 'One year', 'Two year']\n",
            "PaperlessBilling : ['Yes', 'No']\n",
            "PaymentMethod : ['Electronic check', 'Mailed check', 'Bank transfer (automatic)', 'Credit card (automatic)']\n",
            "Churn : ['No', 'Yes']\n"
          ]
        }
      ],
      "source": [
        "unique_values = {column: list(data[column].unique()) for column in data.select_dtypes(object).columns}\n",
        "for key, value in unique_values.items():\n",
        "    print(f'{key} : {value}')"
      ]
    },
    {
      "cell_type": "markdown",
      "id": "89223294",
      "metadata": {
        "id": "89223294"
      },
      "source": [
        "# **Standardizing Categorical Features**"
      ]
    },
    {
      "cell_type": "code",
      "execution_count": null,
      "id": "53fb8f15",
      "metadata": {
        "id": "53fb8f15"
      },
      "outputs": [],
      "source": [
        "data['MultipleLines'] = data['MultipleLines'].replace('No phone service', 'No')\n",
        "data[['OnlineSecurity', 'OnlineBackup', 'DeviceProtection',\n",
        "      'TechSupport', 'StreamingTV', 'StreamingMovies']] = data[['OnlineSecurity', 'OnlineBackup',\n",
        "                                                                'DeviceProtection', 'TechSupport',\n",
        "                                                                'StreamingTV', 'StreamingMovies']].replace('No internet service', 'No')"
      ]
    },
    {
      "cell_type": "code",
      "execution_count": null,
      "id": "034023c2",
      "metadata": {
        "colab": {
          "base_uri": "https://localhost:8080/"
        },
        "id": "034023c2",
        "outputId": "df5ed094-7933-43ce-af68-73a97177e61b"
      },
      "outputs": [
        {
          "output_type": "stream",
          "name": "stdout",
          "text": [
            "gender : ['Female', 'Male']\n",
            "SeniorCitizen : ['0', '1']\n",
            "Partner : ['Yes', 'No']\n",
            "Dependents : ['No', 'Yes']\n",
            "PhoneService : ['No', 'Yes']\n",
            "MultipleLines : ['No', 'Yes']\n",
            "InternetService : ['DSL', 'Fiber optic', 'No']\n",
            "OnlineSecurity : ['No', 'Yes']\n",
            "OnlineBackup : ['Yes', 'No']\n",
            "DeviceProtection : ['No', 'Yes']\n",
            "TechSupport : ['No', 'Yes']\n",
            "StreamingTV : ['No', 'Yes']\n",
            "StreamingMovies : ['No', 'Yes']\n",
            "Contract : ['Month-to-month', 'One year', 'Two year']\n",
            "PaperlessBilling : ['Yes', 'No']\n",
            "PaymentMethod : ['Electronic check', 'Mailed check', 'Bank transfer (automatic)', 'Credit card (automatic)']\n",
            "Churn : ['No', 'Yes']\n"
          ]
        }
      ],
      "source": [
        "unique_values = {column: list(data[column].unique()) for column in data.select_dtypes(object).columns}\n",
        "for key, value in unique_values.items():\n",
        "    print(f'{key} : {value}')"
      ]
    },
    {
      "cell_type": "code",
      "execution_count": null,
      "id": "8f961846",
      "metadata": {
        "colab": {
          "base_uri": "https://localhost:8080/",
          "height": 489
        },
        "id": "8f961846",
        "outputId": "7984bf6b-00ed-47a6-b1be-67a4386d7029"
      },
      "outputs": [
        {
          "output_type": "execute_result",
          "data": {
            "text/plain": [
              "tenure\n",
              "1     613\n",
              "72    362\n",
              "2     238\n",
              "3     200\n",
              "4     176\n",
              "     ... \n",
              "28     57\n",
              "39     56\n",
              "44     51\n",
              "36     50\n",
              "0      11\n",
              "Name: count, Length: 73, dtype: int64"
            ],
            "text/html": [
              "<div>\n",
              "<style scoped>\n",
              "    .dataframe tbody tr th:only-of-type {\n",
              "        vertical-align: middle;\n",
              "    }\n",
              "\n",
              "    .dataframe tbody tr th {\n",
              "        vertical-align: top;\n",
              "    }\n",
              "\n",
              "    .dataframe thead th {\n",
              "        text-align: right;\n",
              "    }\n",
              "</style>\n",
              "<table border=\"1\" class=\"dataframe\">\n",
              "  <thead>\n",
              "    <tr style=\"text-align: right;\">\n",
              "      <th></th>\n",
              "      <th>count</th>\n",
              "    </tr>\n",
              "    <tr>\n",
              "      <th>tenure</th>\n",
              "      <th></th>\n",
              "    </tr>\n",
              "  </thead>\n",
              "  <tbody>\n",
              "    <tr>\n",
              "      <th>1</th>\n",
              "      <td>613</td>\n",
              "    </tr>\n",
              "    <tr>\n",
              "      <th>72</th>\n",
              "      <td>362</td>\n",
              "    </tr>\n",
              "    <tr>\n",
              "      <th>2</th>\n",
              "      <td>238</td>\n",
              "    </tr>\n",
              "    <tr>\n",
              "      <th>3</th>\n",
              "      <td>200</td>\n",
              "    </tr>\n",
              "    <tr>\n",
              "      <th>4</th>\n",
              "      <td>176</td>\n",
              "    </tr>\n",
              "    <tr>\n",
              "      <th>...</th>\n",
              "      <td>...</td>\n",
              "    </tr>\n",
              "    <tr>\n",
              "      <th>28</th>\n",
              "      <td>57</td>\n",
              "    </tr>\n",
              "    <tr>\n",
              "      <th>39</th>\n",
              "      <td>56</td>\n",
              "    </tr>\n",
              "    <tr>\n",
              "      <th>44</th>\n",
              "      <td>51</td>\n",
              "    </tr>\n",
              "    <tr>\n",
              "      <th>36</th>\n",
              "      <td>50</td>\n",
              "    </tr>\n",
              "    <tr>\n",
              "      <th>0</th>\n",
              "      <td>11</td>\n",
              "    </tr>\n",
              "  </tbody>\n",
              "</table>\n",
              "<p>73 rows × 1 columns</p>\n",
              "</div><br><label><b>dtype:</b> int64</label>"
            ]
          },
          "metadata": {},
          "execution_count": 20
        }
      ],
      "source": [
        "data['tenure'].value_counts(ascending= False)"
      ]
    },
    {
      "cell_type": "markdown",
      "id": "094a7843",
      "metadata": {
        "id": "094a7843"
      },
      "source": [
        "handling missing values in the columns"
      ]
    },
    {
      "cell_type": "markdown",
      "id": "6152cdfd",
      "metadata": {
        "id": "6152cdfd"
      },
      "source": [
        "this is one example, we can apply this to the columns according to our needs"
      ]
    },
    {
      "cell_type": "code",
      "execution_count": null,
      "id": "119cacf8",
      "metadata": {
        "id": "119cacf8"
      },
      "outputs": [],
      "source": [
        "data['tenure']  = data['tenure'].replace(0, np.NaN)\n",
        "data['tenure'] = data['tenure'].fillna(data['tenure'].median())"
      ]
    },
    {
      "cell_type": "code",
      "execution_count": null,
      "id": "ec7058b0",
      "metadata": {
        "colab": {
          "base_uri": "https://localhost:8080/",
          "height": 178
        },
        "id": "ec7058b0",
        "outputId": "9ccf91eb-a5c3-431a-8a8e-dcd312cbbc3e"
      },
      "outputs": [
        {
          "output_type": "execute_result",
          "data": {
            "text/plain": [
              "Churn\n",
              "No     5174\n",
              "Yes    1869\n",
              "Name: count, dtype: int64"
            ],
            "text/html": [
              "<div>\n",
              "<style scoped>\n",
              "    .dataframe tbody tr th:only-of-type {\n",
              "        vertical-align: middle;\n",
              "    }\n",
              "\n",
              "    .dataframe tbody tr th {\n",
              "        vertical-align: top;\n",
              "    }\n",
              "\n",
              "    .dataframe thead th {\n",
              "        text-align: right;\n",
              "    }\n",
              "</style>\n",
              "<table border=\"1\" class=\"dataframe\">\n",
              "  <thead>\n",
              "    <tr style=\"text-align: right;\">\n",
              "      <th></th>\n",
              "      <th>count</th>\n",
              "    </tr>\n",
              "    <tr>\n",
              "      <th>Churn</th>\n",
              "      <th></th>\n",
              "    </tr>\n",
              "  </thead>\n",
              "  <tbody>\n",
              "    <tr>\n",
              "      <th>No</th>\n",
              "      <td>5174</td>\n",
              "    </tr>\n",
              "    <tr>\n",
              "      <th>Yes</th>\n",
              "      <td>1869</td>\n",
              "    </tr>\n",
              "  </tbody>\n",
              "</table>\n",
              "</div><br><label><b>dtype:</b> int64</label>"
            ]
          },
          "metadata": {},
          "execution_count": 22
        }
      ],
      "source": [
        "data['Churn'].value_counts()\n"
      ]
    },
    {
      "cell_type": "markdown",
      "id": "f926233b",
      "metadata": {
        "id": "f926233b"
      },
      "source": [
        "this means we are having churn yes as 1869 among 7043 and no as 5174 amoing 7043"
      ]
    },
    {
      "cell_type": "code",
      "execution_count": null,
      "id": "074d59cc",
      "metadata": {
        "colab": {
          "base_uri": "https://localhost:8080/",
          "height": 489
        },
        "id": "074d59cc",
        "outputId": "228c77c2-7649-4b0f-bff7-3c5e2e022045"
      },
      "outputs": [
        {
          "output_type": "execute_result",
          "data": {
            "text/plain": [
              "tenure\n",
              "1.0     613\n",
              "72.0    362\n",
              "2.0     238\n",
              "3.0     200\n",
              "4.0     176\n",
              "       ... \n",
              "38.0     59\n",
              "28.0     57\n",
              "39.0     56\n",
              "44.0     51\n",
              "36.0     50\n",
              "Name: count, Length: 72, dtype: int64"
            ],
            "text/html": [
              "<div>\n",
              "<style scoped>\n",
              "    .dataframe tbody tr th:only-of-type {\n",
              "        vertical-align: middle;\n",
              "    }\n",
              "\n",
              "    .dataframe tbody tr th {\n",
              "        vertical-align: top;\n",
              "    }\n",
              "\n",
              "    .dataframe thead th {\n",
              "        text-align: right;\n",
              "    }\n",
              "</style>\n",
              "<table border=\"1\" class=\"dataframe\">\n",
              "  <thead>\n",
              "    <tr style=\"text-align: right;\">\n",
              "      <th></th>\n",
              "      <th>count</th>\n",
              "    </tr>\n",
              "    <tr>\n",
              "      <th>tenure</th>\n",
              "      <th></th>\n",
              "    </tr>\n",
              "  </thead>\n",
              "  <tbody>\n",
              "    <tr>\n",
              "      <th>1.0</th>\n",
              "      <td>613</td>\n",
              "    </tr>\n",
              "    <tr>\n",
              "      <th>72.0</th>\n",
              "      <td>362</td>\n",
              "    </tr>\n",
              "    <tr>\n",
              "      <th>2.0</th>\n",
              "      <td>238</td>\n",
              "    </tr>\n",
              "    <tr>\n",
              "      <th>3.0</th>\n",
              "      <td>200</td>\n",
              "    </tr>\n",
              "    <tr>\n",
              "      <th>4.0</th>\n",
              "      <td>176</td>\n",
              "    </tr>\n",
              "    <tr>\n",
              "      <th>...</th>\n",
              "      <td>...</td>\n",
              "    </tr>\n",
              "    <tr>\n",
              "      <th>38.0</th>\n",
              "      <td>59</td>\n",
              "    </tr>\n",
              "    <tr>\n",
              "      <th>28.0</th>\n",
              "      <td>57</td>\n",
              "    </tr>\n",
              "    <tr>\n",
              "      <th>39.0</th>\n",
              "      <td>56</td>\n",
              "    </tr>\n",
              "    <tr>\n",
              "      <th>44.0</th>\n",
              "      <td>51</td>\n",
              "    </tr>\n",
              "    <tr>\n",
              "      <th>36.0</th>\n",
              "      <td>50</td>\n",
              "    </tr>\n",
              "  </tbody>\n",
              "</table>\n",
              "<p>72 rows × 1 columns</p>\n",
              "</div><br><label><b>dtype:</b> int64</label>"
            ]
          },
          "metadata": {},
          "execution_count": 23
        }
      ],
      "source": [
        "data['tenure'].value_counts()"
      ]
    },
    {
      "cell_type": "markdown",
      "source": [
        "# **Feature Scaling**"
      ],
      "metadata": {
        "id": "4OOD8M7J1BdM"
      },
      "id": "4OOD8M7J1BdM"
    },
    {
      "cell_type": "markdown",
      "id": "7533507d",
      "metadata": {
        "id": "7533507d"
      },
      "source": [
        "we can do lot of things like Exploratory data analysis and feature scaling ...etc"
      ]
    },
    {
      "cell_type": "code",
      "source": [
        "# Feature Scaling for numeric columns\n",
        "\n",
        "from sklearn.preprocessing import StandardScaler\n",
        "\n",
        "# Columns to be scaled\n",
        "numeric_cols = ['tenure', 'MonthlyCharges', 'TotalCharges']\n",
        "\n",
        "# Convert 'TotalCharges' to numeric, handle errors\n",
        "data['TotalCharges'] = pd.to_numeric(data['TotalCharges'], errors='coerce')\n",
        "\n",
        "# Fill missing values in 'TotalCharges' with the median value\n",
        "data['TotalCharges'].fillna(data['TotalCharges'].median(), inplace=True)\n",
        "\n",
        "# Standard Scaling\n",
        "scaler = StandardScaler()\n",
        "data[numeric_cols] = scaler.fit_transform(data[numeric_cols])\n",
        "\n",
        "# Display the first few rows to check scaled values\n",
        "print(data[numeric_cols].head())\n"
      ],
      "metadata": {
        "colab": {
          "base_uri": "https://localhost:8080/"
        },
        "id": "k1y1O0Pl1Uyg",
        "outputId": "d8abe23f-da9d-4048-a3c1-c73ab1c7b4ef"
      },
      "id": "k1y1O0Pl1Uyg",
      "execution_count": null,
      "outputs": [
        {
          "output_type": "stream",
          "name": "stdout",
          "text": [
            "     tenure  MonthlyCharges  TotalCharges\n",
            "0 -1.281012       -1.160323     -0.994242\n",
            "1  0.064570       -0.259629     -0.173244\n",
            "2 -1.240236       -0.362660     -0.959674\n",
            "3  0.513097       -0.746535     -0.194766\n",
            "4 -1.240236        0.197365     -0.940470\n"
          ]
        }
      ]
    },
    {
      "cell_type": "markdown",
      "source": [
        "# **Feature Engineering**"
      ],
      "metadata": {
        "id": "OGjdlAP54fiw"
      },
      "id": "OGjdlAP54fiw"
    },
    {
      "cell_type": "markdown",
      "id": "018347a1",
      "metadata": {
        "id": "018347a1"
      },
      "source": [
        "# Exploratory Data Analysis"
      ]
    },
    {
      "cell_type": "code",
      "source": [
        "# Feature Engineering - Create tenure groups\n",
        "data['tenure_group'] = pd.cut(data['tenure'], bins=[0, 12, 24, 48, 60, 72],\n",
        "                              labels=['0-12', '12-24', '24-48', '48-60', '60-72'])\n",
        "\n",
        "# Display the first few rows to check the tenure group\n",
        "print(data[['tenure', 'tenure_group']].head())\n",
        "\n",
        "# Create interaction terms (Optional - advanced feature engineering)\n",
        "data['MonthlyCharges_Tenure_Interaction'] = data['MonthlyCharges'] * data['tenure']\n",
        "\n",
        "# Check the interaction term\n",
        "print(data[['MonthlyCharges', 'tenure', 'MonthlyCharges_Tenure_Interaction']].head())\n"
      ],
      "metadata": {
        "colab": {
          "base_uri": "https://localhost:8080/"
        },
        "id": "gkXR8mhi4oz6",
        "outputId": "5173057b-d3d6-4ba7-f876-185bf57dc7d0"
      },
      "id": "gkXR8mhi4oz6",
      "execution_count": null,
      "outputs": [
        {
          "output_type": "stream",
          "name": "stdout",
          "text": [
            "     tenure tenure_group\n",
            "0 -1.281012          NaN\n",
            "1  0.064570         0-12\n",
            "2 -1.240236          NaN\n",
            "3  0.513097         0-12\n",
            "4 -1.240236          NaN\n",
            "   MonthlyCharges    tenure  MonthlyCharges_Tenure_Interaction\n",
            "0       -1.160323 -1.281012                           1.486387\n",
            "1       -0.259629  0.064570                          -0.016764\n",
            "2       -0.362660 -1.240236                           0.449785\n",
            "3       -0.746535  0.513097                          -0.383045\n",
            "4        0.197365 -1.240236                          -0.244780\n"
          ]
        }
      ]
    },
    {
      "cell_type": "code",
      "execution_count": null,
      "id": "8b0f3fb7",
      "metadata": {
        "colab": {
          "base_uri": "https://localhost:8080/",
          "height": 521
        },
        "id": "8b0f3fb7",
        "outputId": "204705ff-41af-453c-ae58-c813ae54232e"
      },
      "outputs": [
        {
          "output_type": "display_data",
          "data": {
            "text/plain": [
              "<Figure size 600x600 with 1 Axes>"
            ],
            "image/png": "[encoded data removed]"
          },
          "metadata": {}
        }
      ],
      "source": [
        "\n",
        "# Count the occurrences of 'Churn'\n",
        "churn_counts = data['Churn'].value_counts()\n",
        "\n",
        "# Pie Chart with explode\n",
        "plt.figure(figsize=(6, 6))\n",
        "explode = [0.1 if label == 'Yes' else 0 for label in churn_counts.index]  # Explode the 'Yes' (churned) slice\n",
        "plt.pie(churn_counts, labels=churn_counts.index, autopct='%1.1f%%', startangle=90, explode=explode, colors=['blue', 'yellow'])\n",
        "plt.title('Churn Distribution')\n",
        "plt.legend()\n",
        "plt.axis('equal')  # Equal aspect ratio ensures the pie is drawn as a circle.\n",
        "plt.show()"
      ]
    },
    {
      "cell_type": "code",
      "execution_count": null,
      "id": "adb2bdc0",
      "metadata": {
        "colab": {
          "base_uri": "https://localhost:8080/",
          "height": 526
        },
        "id": "adb2bdc0",
        "outputId": "0e3a79cc-3de5-4b5f-d044-96b5b0d4724a"
      },
      "outputs": [
        {
          "output_type": "stream",
          "name": "stderr",
          "text": [
            "<ipython-input-26-153dd0252d41>:6: FutureWarning: \n",
            "\n",
            "Passing `palette` without assigning `hue` is deprecated and will be removed in v0.14.0. Assign the `x` variable to `hue` and set `legend=False` for the same effect.\n",
            "\n",
            "  sns.barplot(x=churn_counts.index, y=churn_counts.values, palette=['orange', 'green'])\n"
          ]
        },
        {
          "output_type": "display_data",
          "data": {
            "text/plain": [
              "<Figure size 600x400 with 1 Axes>"
            ],
            "image/png": "[encoded data removed]"
          },
          "metadata": {}
        }
      ],
      "source": [
        "\n",
        "# Count the occurrences of 'Churn'\n",
        "churn_counts = data['Churn'].value_counts()\n",
        "\n",
        "# Bar Plot with custom colors\n",
        "plt.figure(figsize=(6, 4))\n",
        "sns.barplot(x=churn_counts.index, y=churn_counts.values, palette=['orange', 'green'])\n",
        "plt.title('Churn Distribution')\n",
        "plt.xlabel('Churn')\n",
        "plt.ylabel('Count')\n",
        "plt.show()\n"
      ]
    },
    {
      "cell_type": "code",
      "execution_count": null,
      "id": "d5223011",
      "metadata": {
        "colab": {
          "base_uri": "https://localhost:8080/",
          "height": 619
        },
        "id": "d5223011",
        "outputId": "8ac33a3a-b366-4dbd-f0da-eaec3819179e"
      },
      "outputs": [
        {
          "output_type": "display_data",
          "data": {
            "text/plain": [
              "<Figure size 2000x1500 with 9 Axes>"
            ],
            "image/png": "[encoded data removed]"
          },
          "metadata": {}
        }
      ],
      "source": [
        "fig, ax = plt.subplots(3, 3, figsize = (20, 15))\n",
        "\n",
        "plt.suptitle('Count plot for various categorical features', fontsize = 30, color= 'teal')\n",
        "\n",
        "ax1 = sns.countplot(x ='PhoneService', data= data, hue= 'Churn', ax= ax[0, 0], palette= 'spring')\n",
        "ax1.set(xlabel = 'Phone Service')\n",
        "\n",
        "ax2 = sns.countplot(x ='MultipleLines', data= data, hue= 'Churn', ax= ax[0, 1], palette= 'winter')\n",
        "ax2.set(xlabel = 'MultipleLines')\n",
        "\n",
        "ax3 = sns.countplot(x ='InternetService', data= data, hue= 'Churn', ax= ax[0, 2], palette= 'summer')\n",
        "ax3.set(xlabel = 'Internet Service')\n",
        "\n",
        "ax4 = sns.countplot(x ='OnlineSecurity', data= data, hue= 'Churn', ax= ax[1, 0], palette= 'ocean')\n",
        "ax4.set(xlabel = 'Online Security')\n",
        "\n",
        "ax5 = sns.countplot(x ='OnlineBackup', data= data, hue= 'Churn', ax= ax[1, 1], palette= 'autumn')\n",
        "ax5.set(xlabel = 'Online Backup')\n",
        "\n",
        "ax6 = sns.countplot(x ='DeviceProtection', data= data, hue= 'Churn', ax= ax[1, 2], palette= 'YlGnBu')\n",
        "ax6.set(xlabel = 'Device Protection')\n",
        "\n",
        "ax7 = sns.countplot(x ='TechSupport', data= data, hue= 'Churn', ax= ax[2, 0], palette= 'copper')\n",
        "ax7.set(xlabel = 'Tech support')\n",
        "\n",
        "ax8 = sns.countplot(x ='StreamingTV', data= data, hue= 'Churn', ax= ax[2, 1], palette= 'plasma')\n",
        "ax8.set(xlabel = 'Streaming TV')\n",
        "\n",
        "ax9 = sns.countplot(x ='StreamingMovies', data= data, hue= 'Churn', ax= ax[2, 2], palette= 'bone')\n",
        "ax9.set(xlabel = 'Streaming Movies')\n",
        "\n",
        "plt.tight_layout()\n",
        "plt.show()\n"
      ]
    },
    {
      "cell_type": "code",
      "execution_count": null,
      "id": "48cb1ac0",
      "metadata": {
        "colab": {
          "base_uri": "https://localhost:8080/",
          "height": 711
        },
        "id": "48cb1ac0",
        "outputId": "491008c6-27ca-40c9-d7f3-68bbedc3ae24"
      },
      "outputs": [
        {
          "output_type": "execute_result",
          "data": {
            "text/plain": [
              "gender              0\n",
              "SeniorCitizen       0\n",
              "Partner             0\n",
              "Dependents          0\n",
              "tenure              0\n",
              "PhoneService        0\n",
              "MultipleLines       0\n",
              "InternetService     0\n",
              "OnlineSecurity      0\n",
              "OnlineBackup        0\n",
              "DeviceProtection    0\n",
              "TechSupport         0\n",
              "StreamingTV         0\n",
              "StreamingMovies     0\n",
              "Contract            0\n",
              "PaperlessBilling    0\n",
              "PaymentMethod       0\n",
              "MonthlyCharges      0\n",
              "TotalCharges        0\n",
              "Churn               0\n",
              "dtype: int64"
            ],
            "text/html": [
              "<div>\n",
              "<style scoped>\n",
              "    .dataframe tbody tr th:only-of-type {\n",
              "        vertical-align: middle;\n",
              "    }\n",
              "\n",
              "    .dataframe tbody tr th {\n",
              "        vertical-align: top;\n",
              "    }\n",
              "\n",
              "    .dataframe thead th {\n",
              "        text-align: right;\n",
              "    }\n",
              "</style>\n",
              "<table border=\"1\" class=\"dataframe\">\n",
              "  <thead>\n",
              "    <tr style=\"text-align: right;\">\n",
              "      <th></th>\n",
              "      <th>0</th>\n",
              "    </tr>\n",
              "  </thead>\n",
              "  <tbody>\n",
              "    <tr>\n",
              "      <th>gender</th>\n",
              "      <td>0</td>\n",
              "    </tr>\n",
              "    <tr>\n",
              "      <th>SeniorCitizen</th>\n",
              "      <td>0</td>\n",
              "    </tr>\n",
              "    <tr>\n",
              "      <th>Partner</th>\n",
              "      <td>0</td>\n",
              "    </tr>\n",
              "    <tr>\n",
              "      <th>Dependents</th>\n",
              "      <td>0</td>\n",
              "    </tr>\n",
              "    <tr>\n",
              "      <th>tenure</th>\n",
              "      <td>0</td>\n",
              "    </tr>\n",
              "    <tr>\n",
              "      <th>PhoneService</th>\n",
              "      <td>0</td>\n",
              "    </tr>\n",
              "    <tr>\n",
              "      <th>MultipleLines</th>\n",
              "      <td>0</td>\n",
              "    </tr>\n",
              "    <tr>\n",
              "      <th>InternetService</th>\n",
              "      <td>0</td>\n",
              "    </tr>\n",
              "    <tr>\n",
              "      <th>OnlineSecurity</th>\n",
              "      <td>0</td>\n",
              "    </tr>\n",
              "    <tr>\n",
              "      <th>OnlineBackup</th>\n",
              "      <td>0</td>\n",
              "    </tr>\n",
              "    <tr>\n",
              "      <th>DeviceProtection</th>\n",
              "      <td>0</td>\n",
              "    </tr>\n",
              "    <tr>\n",
              "      <th>TechSupport</th>\n",
              "      <td>0</td>\n",
              "    </tr>\n",
              "    <tr>\n",
              "      <th>StreamingTV</th>\n",
              "      <td>0</td>\n",
              "    </tr>\n",
              "    <tr>\n",
              "      <th>StreamingMovies</th>\n",
              "      <td>0</td>\n",
              "    </tr>\n",
              "    <tr>\n",
              "      <th>Contract</th>\n",
              "      <td>0</td>\n",
              "    </tr>\n",
              "    <tr>\n",
              "      <th>PaperlessBilling</th>\n",
              "      <td>0</td>\n",
              "    </tr>\n",
              "    <tr>\n",
              "      <th>PaymentMethod</th>\n",
              "      <td>0</td>\n",
              "    </tr>\n",
              "    <tr>\n",
              "      <th>MonthlyCharges</th>\n",
              "      <td>0</td>\n",
              "    </tr>\n",
              "    <tr>\n",
              "      <th>TotalCharges</th>\n",
              "      <td>0</td>\n",
              "    </tr>\n",
              "    <tr>\n",
              "      <th>Churn</th>\n",
              "      <td>0</td>\n",
              "    </tr>\n",
              "  </tbody>\n",
              "</table>\n",
              "</div><br><label><b>dtype:</b> int64</label>"
            ]
          },
          "metadata": {},
          "execution_count": 29
        }
      ],
      "source": [
        "data.isna().sum()"
      ]
    },
    {
      "cell_type": "markdown",
      "source": [
        "# **Principal Component Analysis (PCA)**"
      ],
      "metadata": {
        "id": "H37QszUS5D0Q"
      },
      "id": "H37QszUS5D0Q"
    },
    {
      "cell_type": "code",
      "source": [
        "from sklearn.decomposition import PCA\n",
        "\n",
        "# Applying PCA on scaled numeric columns (only numerical features are used)\n",
        "X_numeric = data[['tenure', 'MonthlyCharges', 'TotalCharges']]\n",
        "\n",
        "# Initialize PCA with 2 components\n",
        "pca = PCA(n_components=2)\n",
        "X_pca = pca.fit_transform(X_numeric)\n",
        "\n",
        "# PCA explained variance\n",
        "print(\"Explained variance by each component: \", pca.explained_variance_ratio_)\n",
        "\n",
        "# Add PCA components to the data\n",
        "data['PCA1'] = X_pca[:, 0]\n",
        "data['PCA2'] = X_pca[:, 1]\n",
        "\n",
        "# Display the first few rows to check PCA components\n",
        "print(data[['PCA1', 'PCA2']].head())\n"
      ],
      "metadata": {
        "colab": {
          "base_uri": "https://localhost:8080/"
        },
        "id": "lk1OnSYx5JCQ",
        "outputId": "5fa8ac9c-142d-47c1-8e63-ec0c37f71eb0"
      },
      "id": "lk1OnSYx5JCQ",
      "execution_count": null,
      "outputs": [
        {
          "output_type": "stream",
          "name": "stdout",
          "text": [
            "Explained variance by each component:  [0.72653838 0.25361243]\n",
            "       PCA1      PCA2\n",
            "0 -1.951449  0.081391\n",
            "1 -0.204689  0.234349\n",
            "2 -1.517937 -0.523869\n",
            "3 -0.201045  0.891080\n",
            "4 -1.233183 -0.966494\n"
          ]
        }
      ]
    },
    {
      "cell_type": "markdown",
      "id": "68cb6f58",
      "metadata": {
        "id": "68cb6f58"
      },
      "source": [
        "# skewness and outliers detection"
      ]
    },
    {
      "cell_type": "code",
      "execution_count": null,
      "id": "e4e7a3d1",
      "metadata": {
        "colab": {
          "base_uri": "https://localhost:8080/",
          "height": 143
        },
        "id": "e4e7a3d1",
        "outputId": "a65a4ebf-17c5-437a-9eed-fee86cbb9199"
      },
      "outputs": [
        {
          "output_type": "execute_result",
          "data": {
            "text/plain": [
              "          Feature      Skew  Absolute Skew\n",
              "0          tenure  0.238505       0.238505\n",
              "1  MonthlyCharges -0.220477       0.220477\n",
              "2    TotalCharges  0.963584       0.963584"
            ],
            "text/html": [
              "\n",
              "  <div id=\"df-29dfd45c-9af0-42c3-ae65-5a29e20888a5\" class=\"colab-df-container\">\n",
              "    <div>\n",
              "<style scoped>\n",
              "    .dataframe tbody tr th:only-of-type {\n",
              "        vertical-align: middle;\n",
              "    }\n",
              "\n",
              "    .dataframe tbody tr th {\n",
              "        vertical-align: top;\n",
              "    }\n",
              "\n",
              "    .dataframe thead th {\n",
              "        text-align: right;\n",
              "    }\n",
              "</style>\n",
              "<table border=\"1\" class=\"dataframe\">\n",
              "  <thead>\n",
              "    <tr style=\"text-align: right;\">\n",
              "      <th></th>\n",
              "      <th>Feature</th>\n",
              "      <th>Skew</th>\n",
              "      <th>Absolute Skew</th>\n",
              "    </tr>\n",
              "  </thead>\n",
              "  <tbody>\n",
              "    <tr>\n",
              "      <th>0</th>\n",
              "      <td>tenure</td>\n",
              "      <td>0.238505</td>\n",
              "      <td>0.238505</td>\n",
              "    </tr>\n",
              "    <tr>\n",
              "      <th>1</th>\n",
              "      <td>MonthlyCharges</td>\n",
              "      <td>-0.220477</td>\n",
              "      <td>0.220477</td>\n",
              "    </tr>\n",
              "    <tr>\n",
              "      <th>2</th>\n",
              "      <td>TotalCharges</td>\n",
              "      <td>0.963584</td>\n",
              "      <td>0.963584</td>\n",
              "    </tr>\n",
              "  </tbody>\n",
              "</table>\n",
              "</div>\n",
              "    <div class=\"colab-df-buttons\">\n",
              "\n",
              "  <div class=\"colab-df-container\">\n",
              "    <button class=\"colab-df-convert\" onclick=\"convertToInteractive('df-29dfd45c-9af0-42c3-ae65-5a29e20888a5')\"\n",
              "            title=\"Convert this dataframe to an interactive table.\"\n",
              "            style=\"display:none;\">\n",
              "\n",
              "  <svg xmlns=\"http://www.w3.org/2000/svg\" height=\"24px\" viewBox=\"0 -960 960 960\">\n",
              "    <path d=\"M120-120v-720h720v720H120Zm60-500h600v-160H180v160Zm220 220h160v-160H400v160Zm0 220h160v-160H400v160ZM180-400h160v-160H180v160Zm440 0h160v-160H620v160ZM180-180h160v-160H180v160Zm440 0h160v-160H620v160Z\"/>\n",
              "  </svg>\n",
              "    </button>\n",
              "\n",
              "  <style>\n",
              "    .colab-df-container {\n",
              "      display:flex;\n",
              "      gap: 12px;\n",
              "    }\n",
              "\n",
              "    .colab-df-convert {\n",
              "      background-color: #E8F0FE;\n",
              "      border: none;\n",
              "      border-radius: 50%;\n",
              "      cursor: pointer;\n",
              "      display: none;\n",
              "      fill: #1967D2;\n",
              "      height: 32px;\n",
              "      padding: 0 0 0 0;\n",
              "      width: 32px;\n",
              "    }\n",
              "\n",
              "    .colab-df-convert:hover {\n",
              "      background-color: #E2EBFA;\n",
              "      box-shadow: 0px 1px 2px rgba(60, 64, 67, 0.3), 0px 1px 3px 1px rgba(60, 64, 67, 0.15);\n",
              "      fill: #174EA6;\n",
              "    }\n",
              "\n",
              "    .colab-df-buttons div {\n",
              "      margin-bottom: 4px;\n",
              "    }\n",
              "\n",
              "    [theme=dark] .colab-df-convert {\n",
              "      background-color: #3B4455;\n",
              "      fill: #D2E3FC;\n",
              "    }\n",
              "\n",
              "    [theme=dark] .colab-df-convert:hover {\n",
              "      background-color: #434B5C;\n",
              "      box-shadow: 0px 1px 3px 1px rgba(0, 0, 0, 0.15);\n",
              "      filter: drop-shadow(0px 1px 2px rgba(0, 0, 0, 0.3));\n",
              "      fill: #FFFFFF;\n",
              "    }\n",
              "  </style>\n",
              "\n",
              "    <script>\n",
              "      const buttonEl =\n",
              "        document.querySelector('#df-29dfd45c-9af0-42c3-ae65-5a29e20888a5 button.colab-df-convert');\n",
              "      buttonEl.style.display =\n",
              "        google.colab.kernel.accessAllowed ? 'block' : 'none';\n",
              "\n",
              "      async function convertToInteractive(key) {\n",
              "        const element = document.querySelector('#df-29dfd45c-9af0-42c3-ae65-5a29e20888a5');\n",
              "        const dataTable =\n",
              "          await google.colab.kernel.invokeFunction('convertToInteractive',\n",
              "                                                    [key], {});\n",
              "        if (!dataTable) return;\n",
              "\n",
              "        const docLinkHtml = 'Like what you see? Visit the ' +\n",
              "          '<a target=\"_blank\" href=https://colab.research.google.com/notebooks/data_table.ipynb>data table notebook</a>'\n",
              "          + ' to learn more about interactive tables.';\n",
              "        element.innerHTML = '';\n",
              "        dataTable['output_type'] = 'display_data';\n",
              "        await google.colab.output.renderOutput(dataTable, element);\n",
              "        const docLink = document.createElement('div');\n",
              "        docLink.innerHTML = docLinkHtml;\n",
              "        element.appendChild(docLink);\n",
              "      }\n",
              "    </script>\n",
              "  </div>\n",
              "\n",
              "\n",
              "<div id=\"df-e4515509-4681-46ce-b60c-098aa773a1a5\">\n",
              "  <button class=\"colab-df-quickchart\" onclick=\"quickchart('df-e4515509-4681-46ce-b60c-098aa773a1a5')\"\n",
              "            title=\"Suggest charts\"\n",
              "            style=\"display:none;\">\n",
              "\n",
              "<svg xmlns=\"http://www.w3.org/2000/svg\" height=\"24px\"viewBox=\"0 0 24 24\"\n",
              "     width=\"24px\">\n",
              "    <g>\n",
              "        <path d=\"M19 3H5c-1.1 0-2 .9-2 2v14c0 1.1.9 2 2 2h14c1.1 0 2-.9 2-2V5c0-1.1-.9-2-2-2zM9 17H7v-7h2v7zm4 0h-2V7h2v10zm4 0h-2v-4h2v4z\"/>\n",
              "    </g>\n",
              "</svg>\n",
              "  </button>\n",
              "\n",
              "<style>\n",
              "  .colab-df-quickchart {\n",
              "      --bg-color: #E8F0FE;\n",
              "      --fill-color: #1967D2;\n",
              "      --hover-bg-color: #E2EBFA;\n",
              "      --hover-fill-color: #174EA6;\n",
              "      --disabled-fill-color: #AAA;\n",
              "      --disabled-bg-color: #DDD;\n",
              "  }\n",
              "\n",
              "  [theme=dark] .colab-df-quickchart {\n",
              "      --bg-color: #3B4455;\n",
              "      --fill-color: #D2E3FC;\n",
              "      --hover-bg-color: #434B5C;\n",
              "      --hover-fill-color: #FFFFFF;\n",
              "      --disabled-bg-color: #3B4455;\n",
              "      --disabled-fill-color: #666;\n",
              "  }\n",
              "\n",
              "  .colab-df-quickchart {\n",
              "    background-color: var(--bg-color);\n",
              "    border: none;\n",
              "    border-radius: 50%;\n",
              "    cursor: pointer;\n",
              "    display: none;\n",
              "    fill: var(--fill-color);\n",
              "    height: 32px;\n",
              "    padding: 0;\n",
              "    width: 32px;\n",
              "  }\n",
              "\n",
              "  .colab-df-quickchart:hover {\n",
              "    background-color: var(--hover-bg-color);\n",
              "    box-shadow: 0 1px 2px rgba(60, 64, 67, 0.3), 0 1px 3px 1px rgba(60, 64, 67, 0.15);\n",
              "    fill: var(--button-hover-fill-color);\n",
              "  }\n",
              "\n",
              "  .colab-df-quickchart-complete:disabled,\n",
              "  .colab-df-quickchart-complete:disabled:hover {\n",
              "    background-color: var(--disabled-bg-color);\n",
              "    fill: var(--disabled-fill-color);\n",
              "    box-shadow: none;\n",
              "  }\n",
              "\n",
              "  .colab-df-spinner {\n",
              "    border: 2px solid var(--fill-color);\n",
              "    border-color: transparent;\n",
              "    border-bottom-color: var(--fill-color);\n",
              "    animation:\n",
              "      spin 1s steps(1) infinite;\n",
              "  }\n",
              "\n",
              "  @keyframes spin {\n",
              "    0% {\n",
              "      border-color: transparent;\n",
              "      border-bottom-color: var(--fill-color);\n",
              "      border-left-color: var(--fill-color);\n",
              "    }\n",
              "    20% {\n",
              "      border-color: transparent;\n",
              "      border-left-color: var(--fill-color);\n",
              "      border-top-color: var(--fill-color);\n",
              "    }\n",
              "    30% {\n",
              "      border-color: transparent;\n",
              "      border-left-color: var(--fill-color);\n",
              "      border-top-color: var(--fill-color);\n",
              "      border-right-color: var(--fill-color);\n",
              "    }\n",
              "    40% {\n",
              "      border-color: transparent;\n",
              "      border-right-color: var(--fill-color);\n",
              "      border-top-color: var(--fill-color);\n",
              "    }\n",
              "    60% {\n",
              "      border-color: transparent;\n",
              "      border-right-color: var(--fill-color);\n",
              "    }\n",
              "    80% {\n",
              "      border-color: transparent;\n",
              "      border-right-color: var(--fill-color);\n",
              "      border-bottom-color: var(--fill-color);\n",
              "    }\n",
              "    90% {\n",
              "      border-color: transparent;\n",
              "      border-bottom-color: var(--fill-color);\n",
              "    }\n",
              "  }\n",
              "</style>\n",
              "\n",
              "  <script>\n",
              "    async function quickchart(key) {\n",
              "      const quickchartButtonEl =\n",
              "        document.querySelector('#' + key + ' button');\n",
              "      quickchartButtonEl.disabled = true;  // To prevent multiple clicks.\n",
              "      quickchartButtonEl.classList.add('colab-df-spinner');\n",
              "      try {\n",
              "        const charts = await google.colab.kernel.invokeFunction(\n",
              "            'suggestCharts', [key], {});\n",
              "      } catch (error) {\n",
              "        console.error('Error during call to suggestCharts:', error);\n",
              "      }\n",
              "      quickchartButtonEl.classList.remove('colab-df-spinner');\n",
              "      quickchartButtonEl.classList.add('colab-df-quickchart-complete');\n",
              "    }\n",
              "    (() => {\n",
              "      let quickchartButtonEl =\n",
              "        document.querySelector('#df-e4515509-4681-46ce-b60c-098aa773a1a5 button');\n",
              "      quickchartButtonEl.style.display =\n",
              "        google.colab.kernel.accessAllowed ? 'block' : 'none';\n",
              "    })();\n",
              "  </script>\n",
              "</div>\n",
              "\n",
              "  <div id=\"id_031e435a-9166-4158-93de-55b413dbd90b\">\n",
              "    <style>\n",
              "      .colab-df-generate {\n",
              "        background-color: #E8F0FE;\n",
              "        border: none;\n",
              "        border-radius: 50%;\n",
              "        cursor: pointer;\n",
              "        display: none;\n",
              "        fill: #1967D2;\n",
              "        height: 32px;\n",
              "        padding: 0 0 0 0;\n",
              "        width: 32px;\n",
              "      }\n",
              "\n",
              "      .colab-df-generate:hover {\n",
              "        background-color: #E2EBFA;\n",
              "        box-shadow: 0px 1px 2px rgba(60, 64, 67, 0.3), 0px 1px 3px 1px rgba(60, 64, 67, 0.15);\n",
              "        fill: #174EA6;\n",
              "      }\n",
              "\n",
              "      [theme=dark] .colab-df-generate {\n",
              "        background-color: #3B4455;\n",
              "        fill: #D2E3FC;\n",
              "      }\n",
              "\n",
              "      [theme=dark] .colab-df-generate:hover {\n",
              "        background-color: #434B5C;\n",
              "        box-shadow: 0px 1px 3px 1px rgba(0, 0, 0, 0.15);\n",
              "        filter: drop-shadow(0px 1px 2px rgba(0, 0, 0, 0.3));\n",
              "        fill: #FFFFFF;\n",
              "      }\n",
              "    </style>\n",
              "    <button class=\"colab-df-generate\" onclick=\"generateWithVariable('skew_df')\"\n",
              "            title=\"Generate code using this dataframe.\"\n",
              "            style=\"display:none;\">\n",
              "\n",
              "  <svg xmlns=\"http://www.w3.org/2000/svg\" height=\"24px\"viewBox=\"0 0 24 24\"\n",
              "       width=\"24px\">\n",
              "    <path d=\"M7,19H8.4L18.45,9,17,7.55,7,17.6ZM5,21V16.75L18.45,3.32a2,2,0,0,1,2.83,0l1.4,1.43a1.91,1.91,0,0,1,.58,1.4,1.91,1.91,0,0,1-.58,1.4L9.25,21ZM18.45,9,17,7.55Zm-12,3A5.31,5.31,0,0,0,4.9,8.1,5.31,5.31,0,0,0,1,6.5,5.31,5.31,0,0,0,4.9,4.9,5.31,5.31,0,0,0,6.5,1,5.31,5.31,0,0,0,8.1,4.9,5.31,5.31,0,0,0,12,6.5,5.46,5.46,0,0,0,6.5,12Z\"/>\n",
              "  </svg>\n",
              "    </button>\n",
              "    <script>\n",
              "      (() => {\n",
              "      const buttonEl =\n",
              "        document.querySelector('#id_031e435a-9166-4158-93de-55b413dbd90b button.colab-df-generate');\n",
              "      buttonEl.style.display =\n",
              "        google.colab.kernel.accessAllowed ? 'block' : 'none';\n",
              "\n",
              "      buttonEl.onclick = () => {\n",
              "        google.colab.notebook.generateWithVariable('skew_df');\n",
              "      }\n",
              "      })();\n",
              "    </script>\n",
              "  </div>\n",
              "\n",
              "    </div>\n",
              "  </div>\n"
            ],
            "application/vnd.google.colaboratory.intrinsic+json": {
              "type": "dataframe",
              "variable_name": "skew_df",
              "summary": "{\n  \"name\": \"skew_df\",\n  \"rows\": 3,\n  \"fields\": [\n    {\n      \"column\": \"Feature\",\n      \"properties\": {\n        \"dtype\": \"string\",\n        \"num_unique_values\": 3,\n        \"samples\": [\n          \"tenure\",\n          \"MonthlyCharges\",\n          \"TotalCharges\"\n        ],\n        \"semantic_type\": \"\",\n        \"description\": \"\"\n      }\n    },\n    {\n      \"column\": \"Skew\",\n      \"properties\": {\n        \"dtype\": \"number\",\n        \"std\": 0.5969932321395803,\n        \"min\": -0.2204774644391769,\n        \"max\": 0.9635838161778828,\n        \"num_unique_values\": 3,\n        \"samples\": [\n          0.23850461154412306,\n          -0.2204774644391769,\n          0.9635838161778828\n        ],\n        \"semantic_type\": \"\",\n        \"description\": \"\"\n      }\n    },\n    {\n      \"column\": \"Absolute Skew\",\n      \"properties\": {\n        \"dtype\": \"number\",\n        \"std\": 0.42392449819503597,\n        \"min\": 0.2204774644391769,\n        \"max\": 0.9635838161778828,\n        \"num_unique_values\": 3,\n        \"samples\": [\n          0.23850461154412306,\n          0.2204774644391769,\n          0.9635838161778828\n        ],\n        \"semantic_type\": \"\",\n        \"description\": \"\"\n      }\n    }\n  ]\n}"
            }
          },
          "metadata": {},
          "execution_count": 30
        }
      ],
      "source": [
        "skew_df = pd.DataFrame(data.select_dtypes(np.number).columns, columns=['Feature'])\n",
        "skew_df['Skew'] = skew_df['Feature'].apply(lambda feature: skew(data[feature]))\n",
        "skew_df['Absolute Skew'] = skew_df['Skew'].apply(abs)\n",
        "skew_df"
      ]
    },
    {
      "cell_type": "code",
      "execution_count": null,
      "id": "685e2591",
      "metadata": {
        "id": "685e2591"
      },
      "outputs": [],
      "source": [
        "data['TotalCharges'] = np.log(data['TotalCharges'])"
      ]
    },
    {
      "cell_type": "code",
      "execution_count": null,
      "id": "a3ba0537",
      "metadata": {
        "colab": {
          "base_uri": "https://localhost:8080/",
          "height": 706
        },
        "id": "a3ba0537",
        "outputId": "b1801d9d-635c-4654-b0c9-ca64397bf28f"
      },
      "outputs": [
        {
          "output_type": "stream",
          "name": "stderr",
          "text": [
            "<ipython-input-32-53cd6ac316d5>:14: FutureWarning: \n",
            "\n",
            "Passing `palette` without assigning `hue` is deprecated and will be removed in v0.14.0. Assign the `x` variable to `hue` and set `legend=False` for the same effect.\n",
            "\n",
            "  ax1 = sns.boxplot(y=data['tenure'], x=data['Churn'], ax=ax[0], palette='Set2')\n",
            "<ipython-input-32-53cd6ac316d5>:17: FutureWarning: \n",
            "\n",
            "Passing `palette` without assigning `hue` is deprecated and will be removed in v0.14.0. Assign the `x` variable to `hue` and set `legend=False` for the same effect.\n",
            "\n",
            "  ax2 = sns.boxplot(y=data['MonthlyCharges'], x=data['Churn'], ax=ax[1], palette='Pastel1')\n",
            "<ipython-input-32-53cd6ac316d5>:20: FutureWarning: \n",
            "\n",
            "Passing `palette` without assigning `hue` is deprecated and will be removed in v0.14.0. Assign the `x` variable to `hue` and set `legend=False` for the same effect.\n",
            "\n",
            "  ax3 = sns.boxplot(y=data['TotalCharges'], x=data['Churn'], ax=ax[2], palette='Set1')\n"
          ]
        },
        {
          "output_type": "execute_result",
          "data": {
            "text/plain": [
              "<function matplotlib.pyplot.show(close=None, block=None)>"
            ],
            "text/html": [
              "<div style=\"max-width:800px; border: 1px solid var(--colab-border-color);\"><style>\n",
              "      pre.function-repr-contents {\n",
              "        overflow-x: auto;\n",
              "        padding: 8px 12px;\n",
              "        max-height: 500px;\n",
              "      }\n",
              "\n",
              "      pre.function-repr-contents.function-repr-contents-collapsed {\n",
              "        cursor: pointer;\n",
              "        max-height: 100px;\n",
              "      }\n",
              "    </style>\n",
              "    <pre style=\"white-space: initial; background:\n",
              "         var(--colab-secondary-surface-color); padding: 8px 12px;\n",
              "         border-bottom: 1px solid var(--colab-border-color);\"><b>matplotlib.pyplot.show</b><br/>def show(*args, **kwargs)</pre><pre class=\"function-repr-contents function-repr-contents-collapsed\" style=\"\"><a class=\"filepath\" style=\"display:none\" href=\"#\">/usr/local/lib/python3.10/dist-packages/matplotlib/pyplot.py</a>Display all open figures.\n",
              "\n",
              "Parameters\n",
              "----------\n",
              "block : bool, optional\n",
              "    Whether to wait for all figures to be closed before returning.\n",
              "\n",
              "    If `True` block and run the GUI main loop until all figure windows\n",
              "    are closed.\n",
              "\n",
              "    If `False` ensure that all figure windows are displayed and return\n",
              "    immediately.  In this case, you are responsible for ensuring\n",
              "    that the event loop is running to have responsive figures.\n",
              "\n",
              "    Defaults to True in non-interactive mode and to False in interactive\n",
              "    mode (see `.pyplot.isinteractive`).\n",
              "\n",
              "See Also\n",
              "--------\n",
              "ion : Enable interactive mode, which shows / updates the figure after\n",
              "      every plotting command, so that calling ``show()`` is not necessary.\n",
              "ioff : Disable interactive mode.\n",
              "savefig : Save the figure to an image file instead of showing it on screen.\n",
              "\n",
              "Notes\n",
              "-----\n",
              "**Saving figures to file and showing a window at the same time**\n",
              "\n",
              "If you want an image file as well as a user interface window, use\n",
              "`.pyplot.savefig` before `.pyplot.show`. At the end of (a blocking)\n",
              "``show()`` the figure is closed and thus unregistered from pyplot. Calling\n",
              "`.pyplot.savefig` afterwards would save a new and thus empty figure. This\n",
              "limitation of command order does not apply if the show is non-blocking or\n",
              "if you keep a reference to the figure and use `.Figure.savefig`.\n",
              "\n",
              "**Auto-show in jupyter notebooks**\n",
              "\n",
              "The jupyter backends (activated via ``%matplotlib inline``,\n",
              "``%matplotlib notebook``, or ``%matplotlib widget``), call ``show()`` at\n",
              "the end of every cell by default. Thus, you usually don&#x27;t have to call it\n",
              "explicitly there.</pre>\n",
              "      <script>\n",
              "      if (google.colab.kernel.accessAllowed && google.colab.files && google.colab.files.view) {\n",
              "        for (const element of document.querySelectorAll('.filepath')) {\n",
              "          element.style.display = 'block'\n",
              "          element.onclick = (event) => {\n",
              "            event.preventDefault();\n",
              "            event.stopPropagation();\n",
              "            google.colab.files.view(element.textContent, 401);\n",
              "          };\n",
              "        }\n",
              "      }\n",
              "      for (const element of document.querySelectorAll('.function-repr-contents')) {\n",
              "        element.onclick = (event) => {\n",
              "          event.preventDefault();\n",
              "          event.stopPropagation();\n",
              "          element.classList.toggle('function-repr-contents-collapsed');\n",
              "        };\n",
              "      }\n",
              "      </script>\n",
              "      </div>"
            ]
          },
          "metadata": {},
          "execution_count": 32
        },
        {
          "output_type": "display_data",
          "data": {
            "text/plain": [
              "<Figure size 2000x600 with 3 Axes>"
            ],
            "image/png": "[encoded data removed]"
          },
          "metadata": {}
        }
      ],
      "source": [
        "import seaborn as sns\n",
        "import matplotlib.pyplot as plt\n",
        "\n",
        "# Set context for plots\n",
        "sns.set_context('poster', font_scale=0.6)\n",
        "\n",
        "# Create subplots\n",
        "fig, ax = plt.subplots(1, 3, figsize=(20, 6))\n",
        "\n",
        "# Set the title for the entire figure\n",
        "plt.suptitle('Box Plots of Numerical Features by Churn', fontsize=20)\n",
        "\n",
        "# Plot box plots with customized colors\n",
        "ax1 = sns.boxplot(y=data['tenure'], x=data['Churn'], ax=ax[0], palette='Set2')\n",
        "ax1.set(xlabel='Churn', ylabel='Tenure')\n",
        "\n",
        "ax2 = sns.boxplot(y=data['MonthlyCharges'], x=data['Churn'], ax=ax[1], palette='Pastel1')\n",
        "ax2.set(xlabel='Churn', ylabel='Monthly Charges')\n",
        "\n",
        "ax3 = sns.boxplot(y=data['TotalCharges'], x=data['Churn'], ax=ax[2], palette='Set1')\n",
        "ax3.set(xlabel='Churn', ylabel='Total Charges')\n",
        "\n",
        "# Adjust layout\n",
        "plt.tight_layout(rect=[0, 0, 1, 0.96])  # Adjust to accommodate suptitle\n",
        "\n",
        "# Show plot\n",
        "plt.show\n"
      ]
    },
    {
      "cell_type": "markdown",
      "source": [
        "# **Binary encoding**"
      ],
      "metadata": {
        "id": "vfh9N1NJBliA"
      },
      "id": "vfh9N1NJBliA"
    },
    {
      "cell_type": "code",
      "execution_count": null,
      "id": "0e75bbe8",
      "metadata": {
        "id": "0e75bbe8"
      },
      "outputs": [],
      "source": [
        "binary_columns = ['gender', 'Partner', 'Dependents', 'PhoneService', 'MultipleLines',\n",
        "                   'OnlineSecurity', 'OnlineBackup', 'DeviceProtection', 'TechSupport',\n",
        "                   'StreamingTV', 'StreamingMovies', 'PaperlessBilling', 'Churn']\n",
        "\n",
        "le = LabelEncoder()\n",
        "for column in binary_columns:\n",
        "    data[column] = le.fit_transform(data[column])"
      ]
    },
    {
      "cell_type": "markdown",
      "source": [
        "### **one hot encoding**"
      ],
      "metadata": {
        "id": "7n42RoH5BpOv"
      },
      "id": "7n42RoH5BpOv"
    },
    {
      "cell_type": "code",
      "source": [
        "dummies_payment = pd.get_dummies(data['PaymentMethod'], drop_first= True)\n",
        "data = pd.concat([data, dummies_payment], axis=1)\n",
        "data.drop('PaymentMethod',axis =1 , inplace= True)"
      ],
      "metadata": {
        "id": "P4fVTWsxBrUk"
      },
      "id": "P4fVTWsxBrUk",
      "execution_count": null,
      "outputs": []
    },
    {
      "cell_type": "markdown",
      "source": [
        "## **Ordinal Encoding**"
      ],
      "metadata": {
        "id": "bgt9LDdzBuZP"
      },
      "id": "bgt9LDdzBuZP"
    },
    {
      "cell_type": "code",
      "source": [
        "internet_ordering = ['No', 'DSL', 'Fiber optic']\n",
        "contract_ordering = ['Month-to-month', 'One year', 'Two year']\n",
        "\n",
        "data['InternetService'] = data['InternetService'].apply(lambda x: internet_ordering.index(x))\n",
        "data['Contract'] = data['Contract'].apply(lambda x: contract_ordering.index(x))"
      ],
      "metadata": {
        "id": "rQZMTwBuBtUM"
      },
      "id": "rQZMTwBuBtUM",
      "execution_count": null,
      "outputs": []
    },
    {
      "cell_type": "markdown",
      "source": [
        "# **scaling**"
      ],
      "metadata": {
        "id": "MmOqo_W1BznH"
      },
      "id": "MmOqo_W1BznH"
    },
    {
      "cell_type": "code",
      "source": [
        "X = data.drop('Churn', axis= 1)\n",
        "y = data['Churn']"
      ],
      "metadata": {
        "id": "SHSYOvv3ByEK"
      },
      "id": "SHSYOvv3ByEK",
      "execution_count": null,
      "outputs": []
    },
    {
      "cell_type": "code",
      "source": [
        "sc = StandardScaler()\n",
        "X = sc.fit_transform(X)"
      ],
      "metadata": {
        "id": "rD4lE2wVB2M4"
      },
      "id": "rD4lE2wVB2M4",
      "execution_count": null,
      "outputs": []
    },
    {
      "cell_type": "markdown",
      "source": [
        "## **splitting**"
      ],
      "metadata": {
        "id": "uRSIqjADB6Kf"
      },
      "id": "uRSIqjADB6Kf"
    },
    {
      "cell_type": "code",
      "source": [
        "X_train, X_test, y_train, y_test = train_test_split(X, y, test_size= 0.2, stratify= y, random_state= 42)"
      ],
      "metadata": {
        "id": "dOgQxs4dB4UG"
      },
      "id": "dOgQxs4dB4UG",
      "execution_count": null,
      "outputs": []
    },
    {
      "cell_type": "code",
      "source": [
        "print(y_train.value_counts())\n",
        "print(y_test.value_counts())"
      ],
      "metadata": {
        "colab": {
          "base_uri": "https://localhost:8080/"
        },
        "id": "c9w6TNnRB934",
        "outputId": "5d5c21d1-3e50-4168-d757-97dbe3b00da1"
      },
      "id": "c9w6TNnRB934",
      "execution_count": null,
      "outputs": [
        {
          "output_type": "stream",
          "name": "stdout",
          "text": [
            "Churn\n",
            "0    4139\n",
            "1    1495\n",
            "Name: count, dtype: int64\n",
            "Churn\n",
            "0    1035\n",
            "1     374\n",
            "Name: count, dtype: int64\n"
          ]
        }
      ]
    },
    {
      "cell_type": "markdown",
      "source": [
        "## **Modelling**"
      ],
      "metadata": {
        "id": "JvdpVMJaCC7H"
      },
      "id": "JvdpVMJaCC7H"
    },
    {
      "cell_type": "code",
      "source": [
        "models = {\n",
        "    'logistic regression' : LogisticRegression(),\n",
        "    'xgboost' : XGBClassifier(),\n",
        "    'catboost' : CatBoostClassifier(verbose=0),\n",
        "    'lightbgm' : LGBMClassifier(),\n",
        "    'gradient boosing' : GradientBoostingClassifier(),\n",
        "    'naive bayes' : GaussianNB(),\n",
        "    'random forest' : RandomForestClassifier()\n",
        "}"
      ],
      "metadata": {
        "id": "4gR7jZYzB__b"
      },
      "id": "4gR7jZYzB__b",
      "execution_count": null,
      "outputs": []
    },
    {
      "cell_type": "code",
      "source": [
        "for name, model in models.items():\n",
        "    model.fit(X_train, y_train)\n",
        "    print(f'{name} trained')"
      ],
      "metadata": {
        "colab": {
          "base_uri": "https://localhost:8080/"
        },
        "id": "wmcNKd2zCF6R",
        "outputId": "a3fa1c26-605e-4e6a-de4c-2d61a731f613"
      },
      "id": "wmcNKd2zCF6R",
      "execution_count": null,
      "outputs": [
        {
          "output_type": "stream",
          "name": "stdout",
          "text": [
            "logistic regression trained\n",
            "xgboost trained\n",
            "catboost trained\n",
            "[LightGBM] [Info] Number of positive: 1495, number of negative: 4139\n",
            "[LightGBM] [Info] Auto-choosing row-wise multi-threading, the overhead of testing was 0.001409 seconds.\n",
            "You can set `force_row_wise=true` to remove the overhead.\n",
            "And if memory is not enough, you can set `force_col_wise=true`.\n",
            "[LightGBM] [Info] Total Bins 639\n",
            "[LightGBM] [Info] Number of data points in the train set: 5634, number of used features: 21\n",
            "[LightGBM] [Info] [binary:BoostFromScore]: pavg=0.265353 -> initscore=-1.018328\n",
            "[LightGBM] [Info] Start training from score -1.018328\n",
            "lightbgm trained\n",
            "gradient boosing trained\n",
            "naive bayes trained\n",
            "random forest trained\n"
          ]
        }
      ]
    },
    {
      "cell_type": "markdown",
      "source": [
        "## **Evaluation**"
      ],
      "metadata": {
        "id": "6ISIjtpfCWP4"
      },
      "id": "6ISIjtpfCWP4"
    },
    {
      "cell_type": "code",
      "source": [
        "results = {}\n",
        "\n",
        "kf = KFold(n_splits= 10)\n",
        "\n",
        "for name, model in models.items():\n",
        "    result = cross_val_score(model, X_train, y_train, scoring= 'roc_auc', cv= kf)\n",
        "    results[name] = result"
      ],
      "metadata": {
        "colab": {
          "base_uri": "https://localhost:8080/"
        },
        "id": "3entSjowCIS9",
        "outputId": "46dde548-8c6c-494e-ee07-cfeb772442c6"
      },
      "id": "3entSjowCIS9",
      "execution_count": null,
      "outputs": [
        {
          "output_type": "stream",
          "name": "stdout",
          "text": [
            "[LightGBM] [Info] Number of positive: 1348, number of negative: 3722\n",
            "[LightGBM] [Info] Auto-choosing row-wise multi-threading, the overhead of testing was 0.001422 seconds.\n",
            "You can set `force_row_wise=true` to remove the overhead.\n",
            "And if memory is not enough, you can set `force_col_wise=true`.\n",
            "[LightGBM] [Info] Total Bins 639\n",
            "[LightGBM] [Info] Number of data points in the train set: 5070, number of used features: 21\n",
            "[LightGBM] [Info] [binary:BoostFromScore]: pavg=0.265878 -> initscore=-1.015639\n",
            "[LightGBM] [Info] Start training from score -1.015639\n",
            "[LightGBM] [Info] Number of positive: 1351, number of negative: 3719\n",
            "[LightGBM] [Info] Auto-choosing row-wise multi-threading, the overhead of testing was 0.001426 seconds.\n",
            "You can set `force_row_wise=true` to remove the overhead.\n",
            "And if memory is not enough, you can set `force_col_wise=true`.\n",
            "[LightGBM] [Info] Total Bins 639\n",
            "[LightGBM] [Info] Number of data points in the train set: 5070, number of used features: 21\n",
            "[LightGBM] [Info] [binary:BoostFromScore]: pavg=0.266469 -> initscore=-1.012610\n",
            "[LightGBM] [Info] Start training from score -1.012610\n",
            "[LightGBM] [Info] Number of positive: 1363, number of negative: 3707\n",
            "[LightGBM] [Info] Auto-choosing row-wise multi-threading, the overhead of testing was 0.001430 seconds.\n",
            "You can set `force_row_wise=true` to remove the overhead.\n",
            "And if memory is not enough, you can set `force_col_wise=true`.\n",
            "[LightGBM] [Info] Total Bins 639\n",
            "[LightGBM] [Info] Number of data points in the train set: 5070, number of used features: 21\n",
            "[LightGBM] [Info] [binary:BoostFromScore]: pavg=0.268836 -> initscore=-1.000535\n",
            "[LightGBM] [Info] Start training from score -1.000535\n",
            "[LightGBM] [Info] Number of positive: 1343, number of negative: 3727\n",
            "[LightGBM] [Info] Auto-choosing row-wise multi-threading, the overhead of testing was 0.001414 seconds.\n",
            "You can set `force_row_wise=true` to remove the overhead.\n",
            "And if memory is not enough, you can set `force_col_wise=true`.\n",
            "[LightGBM] [Info] Total Bins 639\n",
            "[LightGBM] [Info] Number of data points in the train set: 5070, number of used features: 21\n",
            "[LightGBM] [Info] [binary:BoostFromScore]: pavg=0.264892 -> initscore=-1.020698\n",
            "[LightGBM] [Info] Start training from score -1.020698\n",
            "[LightGBM] [Info] Number of positive: 1342, number of negative: 3729\n",
            "[LightGBM] [Info] Auto-choosing row-wise multi-threading, the overhead of testing was 0.001403 seconds.\n",
            "You can set `force_row_wise=true` to remove the overhead.\n",
            "And if memory is not enough, you can set `force_col_wise=true`.\n",
            "[LightGBM] [Info] Total Bins 639\n",
            "[LightGBM] [Info] Number of data points in the train set: 5071, number of used features: 21\n",
            "[LightGBM] [Info] [binary:BoostFromScore]: pavg=0.264642 -> initscore=-1.021979\n",
            "[LightGBM] [Info] Start training from score -1.021979\n",
            "[LightGBM] [Info] Number of positive: 1327, number of negative: 3744\n",
            "[LightGBM] [Info] Auto-choosing row-wise multi-threading, the overhead of testing was 0.001407 seconds.\n",
            "You can set `force_row_wise=true` to remove the overhead.\n",
            "And if memory is not enough, you can set `force_col_wise=true`.\n",
            "[LightGBM] [Info] Total Bins 639\n",
            "[LightGBM] [Info] Number of data points in the train set: 5071, number of used features: 21\n",
            "[LightGBM] [Info] [binary:BoostFromScore]: pavg=0.261684 -> initscore=-1.037234\n",
            "[LightGBM] [Info] Start training from score -1.037234\n",
            "[LightGBM] [Info] Number of positive: 1340, number of negative: 3731\n",
            "[LightGBM] [Info] Auto-choosing row-wise multi-threading, the overhead of testing was 0.001198 seconds.\n",
            "You can set `force_row_wise=true` to remove the overhead.\n",
            "And if memory is not enough, you can set `force_col_wise=true`.\n",
            "[LightGBM] [Info] Total Bins 639\n",
            "[LightGBM] [Info] Number of data points in the train set: 5071, number of used features: 21\n",
            "[LightGBM] [Info] [binary:BoostFromScore]: pavg=0.264248 -> initscore=-1.024007\n",
            "[LightGBM] [Info] Start training from score -1.024007\n",
            "[LightGBM] [Info] Number of positive: 1346, number of negative: 3725\n",
            "[LightGBM] [Info] Auto-choosing row-wise multi-threading, the overhead of testing was 0.001155 seconds.\n",
            "You can set `force_row_wise=true` to remove the overhead.\n",
            "And if memory is not enough, you can set `force_col_wise=true`.\n",
            "[LightGBM] [Info] Total Bins 639\n",
            "[LightGBM] [Info] Number of data points in the train set: 5071, number of used features: 21\n",
            "[LightGBM] [Info] [binary:BoostFromScore]: pavg=0.265431 -> initscore=-1.017930\n",
            "[LightGBM] [Info] Start training from score -1.017930\n",
            "[LightGBM] [Info] Number of positive: 1344, number of negative: 3727\n",
            "[LightGBM] [Info] Auto-choosing row-wise multi-threading, the overhead of testing was 0.001186 seconds.\n",
            "You can set `force_row_wise=true` to remove the overhead.\n",
            "And if memory is not enough, you can set `force_col_wise=true`.\n",
            "[LightGBM] [Info] Total Bins 639\n",
            "[LightGBM] [Info] Number of data points in the train set: 5071, number of used features: 21\n",
            "[LightGBM] [Info] [binary:BoostFromScore]: pavg=0.265036 -> initscore=-1.019953\n",
            "[LightGBM] [Info] Start training from score -1.019953\n",
            "[LightGBM] [Info] Number of positive: 1351, number of negative: 3720\n",
            "[LightGBM] [Info] Auto-choosing row-wise multi-threading, the overhead of testing was 0.001169 seconds.\n",
            "You can set `force_row_wise=true` to remove the overhead.\n",
            "And if memory is not enough, you can set `force_col_wise=true`.\n",
            "[LightGBM] [Info] Total Bins 639\n",
            "[LightGBM] [Info] Number of data points in the train set: 5071, number of used features: 21\n",
            "[LightGBM] [Info] [binary:BoostFromScore]: pavg=0.266417 -> initscore=-1.012879\n",
            "[LightGBM] [Info] Start training from score -1.012879\n"
          ]
        }
      ]
    },
    {
      "cell_type": "code",
      "source": [
        "for name, result in results.items():\n",
        "    print(\"----------------\")\n",
        "    print(f'{name} : {np.mean(result)}')"
      ],
      "metadata": {
        "colab": {
          "base_uri": "https://localhost:8080/"
        },
        "id": "iuFbGwmpCZEu",
        "outputId": "0f320a08-4091-493d-f4e8-d21840100c52"
      },
      "id": "iuFbGwmpCZEu",
      "execution_count": null,
      "outputs": [
        {
          "output_type": "stream",
          "name": "stdout",
          "text": [
            "----------------\n",
            "logistic regression : 0.8508865553194583\n",
            "----------------\n",
            "xgboost : 0.8205718013642068\n",
            "----------------\n",
            "catboost : 0.8410796939951648\n",
            "----------------\n",
            "lightbgm : 0.8360262959501084\n",
            "----------------\n",
            "gradient boosing : 0.8451788469252293\n",
            "----------------\n",
            "naive bayes : 0.8338557401940768\n",
            "----------------\n",
            "random forest : 0.8235800773347502\n"
          ]
        }
      ]
    },
    {
      "cell_type": "markdown",
      "source": [
        "## **Parameter tuning**"
      ],
      "metadata": {
        "id": "kmVqmnRaC0Bf"
      },
      "id": "kmVqmnRaC0Bf"
    },
    {
      "cell_type": "code",
      "source": [
        "def lr_objective(trial):\n",
        "    tol = trial.suggest_loguniform('tol', 1e-7, 0.1)\n",
        "    C = trial.suggest_float('C', 0, 0.1)\n",
        "    max_iter = trial.suggest_int('max_iter', 50, 600)\n",
        "    penalty = trial.suggest_categorical('penalty', ['l1', 'l2'])\n",
        "\n",
        "    model = LogisticRegression(\n",
        "        solver= 'liblinear',\n",
        "        penalty = penalty,\n",
        "        tol= tol,\n",
        "        C= C,\n",
        "        max_iter= max_iter\n",
        "    )\n",
        "\n",
        "    model.fit(X_train, y_train)\n",
        "    cv_score = cross_val_score(model, X_train, y_train, scoring= 'roc_auc', cv= kf)\n",
        "\n",
        "    return np.mean(cv_score)\n",
        "\n",
        "study = optuna.create_study(direction= 'maximize')\n",
        "study.optimize(lr_objective, n_trials= 100)"
      ],
      "metadata": {
        "colab": {
          "base_uri": "https://localhost:8080/"
        },
        "id": "VRPYnkB8C8YE",
        "outputId": "5067989f-4f2a-44c2-ed40-d6625e099762"
      },
      "id": "VRPYnkB8C8YE",
      "execution_count": null,
      "outputs": [
        {
          "output_type": "stream",
          "name": "stderr",
          "text": [
            "[I 2024-09-08 19:11:01,156] A new study created in memory with name: no-name-0efac3da-1a35-4740-8275-acec319de091\n",
            "<ipython-input-44-df72d73ccb67>:2: FutureWarning: suggest_loguniform has been deprecated in v3.0.0. This feature will be removed in v6.0.0. See https://github.com/optuna/optuna/releases/tag/v3.0.0. Use suggest_float(..., log=True) instead.\n",
            "  tol = trial.suggest_loguniform('tol', 1e-7, 0.1)\n",
            "[I 2024-09-08 19:11:01,359] Trial 0 finished with value: 0.850440529102154 and parameters: {'tol': 0.05823054161332095, 'C': 0.03986881752671854, 'max_iter': 372, 'penalty': 'l2'}. Best is trial 0 with value: 0.850440529102154.\n",
            "<ipython-input-44-df72d73ccb67>:2: FutureWarning: suggest_loguniform has been deprecated in v3.0.0. This feature will be removed in v6.0.0. See https://github.com/optuna/optuna/releases/tag/v3.0.0. Use suggest_float(..., log=True) instead.\n",
            "  tol = trial.suggest_loguniform('tol', 1e-7, 0.1)\n",
            "[I 2024-09-08 19:11:01,526] Trial 1 finished with value: 0.8477654338299067 and parameters: {'tol': 0.06504416923012524, 'C': 0.016776360662508528, 'max_iter': 256, 'penalty': 'l1'}. Best is trial 0 with value: 0.850440529102154.\n",
            "<ipython-input-44-df72d73ccb67>:2: FutureWarning: suggest_loguniform has been deprecated in v3.0.0. This feature will be removed in v6.0.0. See https://github.com/optuna/optuna/releases/tag/v3.0.0. Use suggest_float(..., log=True) instead.\n",
            "  tol = trial.suggest_loguniform('tol', 1e-7, 0.1)\n",
            "[I 2024-09-08 19:11:01,878] Trial 2 finished with value: 0.8506322557681584 and parameters: {'tol': 5.205255909174344e-05, 'C': 0.032967129646092684, 'max_iter': 93, 'penalty': 'l2'}. Best is trial 2 with value: 0.8506322557681584.\n",
            "<ipython-input-44-df72d73ccb67>:2: FutureWarning: suggest_loguniform has been deprecated in v3.0.0. This feature will be removed in v6.0.0. See https://github.com/optuna/optuna/releases/tag/v3.0.0. Use suggest_float(..., log=True) instead.\n",
            "  tol = trial.suggest_loguniform('tol', 1e-7, 0.1)\n",
            "[I 2024-09-08 19:11:02,148] Trial 3 finished with value: 0.8507765755459543 and parameters: {'tol': 0.003801462219737666, 'C': 0.08541639674703144, 'max_iter': 95, 'penalty': 'l2'}. Best is trial 3 with value: 0.8507765755459543.\n",
            "<ipython-input-44-df72d73ccb67>:2: FutureWarning: suggest_loguniform has been deprecated in v3.0.0. This feature will be removed in v6.0.0. See https://github.com/optuna/optuna/releases/tag/v3.0.0. Use suggest_float(..., log=True) instead.\n",
            "  tol = trial.suggest_loguniform('tol', 1e-7, 0.1)\n",
            "[I 2024-09-08 19:11:02,385] Trial 4 finished with value: 0.85058880416269 and parameters: {'tol': 0.010464041258287855, 'C': 0.024520539580453173, 'max_iter': 554, 'penalty': 'l2'}. Best is trial 3 with value: 0.8507765755459543.\n",
            "<ipython-input-44-df72d73ccb67>:2: FutureWarning: suggest_loguniform has been deprecated in v3.0.0. This feature will be removed in v6.0.0. See https://github.com/optuna/optuna/releases/tag/v3.0.0. Use suggest_float(..., log=True) instead.\n",
            "  tol = trial.suggest_loguniform('tol', 1e-7, 0.1)\n",
            "[I 2024-09-08 19:11:02,873] Trial 5 finished with value: 0.8492201236265877 and parameters: {'tol': 4.370034350278903e-06, 'C': 0.015666409001023573, 'max_iter': 466, 'penalty': 'l1'}. Best is trial 3 with value: 0.8507765755459543.\n",
            "<ipython-input-44-df72d73ccb67>:2: FutureWarning: suggest_loguniform has been deprecated in v3.0.0. This feature will be removed in v6.0.0. See https://github.com/optuna/optuna/releases/tag/v3.0.0. Use suggest_float(..., log=True) instead.\n",
            "  tol = trial.suggest_loguniform('tol', 1e-7, 0.1)\n",
            "[I 2024-09-08 19:11:03,386] Trial 6 finished with value: 0.8504513932602306 and parameters: {'tol': 2.849380102455477e-06, 'C': 0.025714690005559183, 'max_iter': 227, 'penalty': 'l1'}. Best is trial 3 with value: 0.8507765755459543.\n",
            "<ipython-input-44-df72d73ccb67>:2: FutureWarning: suggest_loguniform has been deprecated in v3.0.0. This feature will be removed in v6.0.0. See https://github.com/optuna/optuna/releases/tag/v3.0.0. Use suggest_float(..., log=True) instead.\n",
            "  tol = trial.suggest_loguniform('tol', 1e-7, 0.1)\n",
            "[I 2024-09-08 19:11:03,681] Trial 7 finished with value: 0.8507945929549388 and parameters: {'tol': 0.001656453032775314, 'C': 0.0448769944797952, 'max_iter': 343, 'penalty': 'l2'}. Best is trial 7 with value: 0.8507945929549388.\n",
            "<ipython-input-44-df72d73ccb67>:2: FutureWarning: suggest_loguniform has been deprecated in v3.0.0. This feature will be removed in v6.0.0. See https://github.com/optuna/optuna/releases/tag/v3.0.0. Use suggest_float(..., log=True) instead.\n",
            "  tol = trial.suggest_loguniform('tol', 1e-7, 0.1)\n",
            "[I 2024-09-08 19:11:03,872] Trial 8 finished with value: 0.8508909009587284 and parameters: {'tol': 0.052156914392666384, 'C': 0.062222404316499905, 'max_iter': 107, 'penalty': 'l1'}. Best is trial 8 with value: 0.8508909009587284.\n",
            "<ipython-input-44-df72d73ccb67>:2: FutureWarning: suggest_loguniform has been deprecated in v3.0.0. This feature will be removed in v6.0.0. See https://github.com/optuna/optuna/releases/tag/v3.0.0. Use suggest_float(..., log=True) instead.\n",
            "  tol = trial.suggest_loguniform('tol', 1e-7, 0.1)\n",
            "[I 2024-09-08 19:11:04,427] Trial 9 finished with value: 0.8506078187274584 and parameters: {'tol': 1.920530179071215e-06, 'C': 0.03232843681767838, 'max_iter': 128, 'penalty': 'l1'}. Best is trial 8 with value: 0.8508909009587284.\n",
            "<ipython-input-44-df72d73ccb67>:2: FutureWarning: suggest_loguniform has been deprecated in v3.0.0. This feature will be removed in v6.0.0. See https://github.com/optuna/optuna/releases/tag/v3.0.0. Use suggest_float(..., log=True) instead.\n",
            "  tol = trial.suggest_loguniform('tol', 1e-7, 0.1)\n",
            "[I 2024-09-08 19:11:04,910] Trial 10 finished with value: 0.8510114742212238 and parameters: {'tol': 0.0002413804880658361, 'C': 0.07087065249908622, 'max_iter': 205, 'penalty': 'l1'}. Best is trial 10 with value: 0.8510114742212238.\n",
            "<ipython-input-44-df72d73ccb67>:2: FutureWarning: suggest_loguniform has been deprecated in v3.0.0. This feature will be removed in v6.0.0. See https://github.com/optuna/optuna/releases/tag/v3.0.0. Use suggest_float(..., log=True) instead.\n",
            "  tol = trial.suggest_loguniform('tol', 1e-7, 0.1)\n",
            "[I 2024-09-08 19:11:05,414] Trial 11 finished with value: 0.8510159283564105 and parameters: {'tol': 0.00018574966992157828, 'C': 0.06891333810771216, 'max_iter': 202, 'penalty': 'l1'}. Best is trial 11 with value: 0.8510159283564105.\n",
            "<ipython-input-44-df72d73ccb67>:2: FutureWarning: suggest_loguniform has been deprecated in v3.0.0. This feature will be removed in v6.0.0. See https://github.com/optuna/optuna/releases/tag/v3.0.0. Use suggest_float(..., log=True) instead.\n",
            "  tol = trial.suggest_loguniform('tol', 1e-7, 0.1)\n",
            "[I 2024-09-08 19:11:05,899] Trial 12 finished with value: 0.8510069379054501 and parameters: {'tol': 0.00016955642368641813, 'C': 0.06822585694685901, 'max_iter': 220, 'penalty': 'l1'}. Best is trial 11 with value: 0.8510159283564105.\n",
            "<ipython-input-44-df72d73ccb67>:2: FutureWarning: suggest_loguniform has been deprecated in v3.0.0. This feature will be removed in v6.0.0. See https://github.com/optuna/optuna/releases/tag/v3.0.0. Use suggest_float(..., log=True) instead.\n",
            "  tol = trial.suggest_loguniform('tol', 1e-7, 0.1)\n",
            "[I 2024-09-08 19:11:06,921] Trial 13 finished with value: 0.8510970704063459 and parameters: {'tol': 1.017230777947519e-07, 'C': 0.09720210415005553, 'max_iter': 180, 'penalty': 'l1'}. Best is trial 13 with value: 0.8510970704063459.\n",
            "<ipython-input-44-df72d73ccb67>:2: FutureWarning: suggest_loguniform has been deprecated in v3.0.0. This feature will be removed in v6.0.0. See https://github.com/optuna/optuna/releases/tag/v3.0.0. Use suggest_float(..., log=True) instead.\n",
            "  tol = trial.suggest_loguniform('tol', 1e-7, 0.1)\n",
            "[I 2024-09-08 19:11:08,261] Trial 14 finished with value: 0.8510877546586617 and parameters: {'tol': 1.5021395786171563e-07, 'C': 0.09870178476787847, 'max_iter': 294, 'penalty': 'l1'}. Best is trial 13 with value: 0.8510970704063459.\n",
            "<ipython-input-44-df72d73ccb67>:2: FutureWarning: suggest_loguniform has been deprecated in v3.0.0. This feature will be removed in v6.0.0. See https://github.com/optuna/optuna/releases/tag/v3.0.0. Use suggest_float(..., log=True) instead.\n",
            "  tol = trial.suggest_loguniform('tol', 1e-7, 0.1)\n",
            "[I 2024-09-08 19:11:09,525] Trial 15 finished with value: 0.851085950692984 and parameters: {'tol': 1.252209567914101e-07, 'C': 0.09946614341649507, 'max_iter': 411, 'penalty': 'l1'}. Best is trial 13 with value: 0.8510970704063459.\n",
            "<ipython-input-44-df72d73ccb67>:2: FutureWarning: suggest_loguniform has been deprecated in v3.0.0. This feature will be removed in v6.0.0. See https://github.com/optuna/optuna/releases/tag/v3.0.0. Use suggest_float(..., log=True) instead.\n",
            "  tol = trial.suggest_loguniform('tol', 1e-7, 0.1)\n",
            "[I 2024-09-08 19:11:10,808] Trial 16 finished with value: 0.8510834671321741 and parameters: {'tol': 1.197257553292209e-07, 'C': 0.09462871278077246, 'max_iter': 285, 'penalty': 'l1'}. Best is trial 13 with value: 0.8510970704063459.\n",
            "<ipython-input-44-df72d73ccb67>:2: FutureWarning: suggest_loguniform has been deprecated in v3.0.0. This feature will be removed in v6.0.0. See https://github.com/optuna/optuna/releases/tag/v3.0.0. Use suggest_float(..., log=True) instead.\n",
            "  tol = trial.suggest_loguniform('tol', 1e-7, 0.1)\n",
            "[I 2024-09-08 19:11:11,533] Trial 17 finished with value: 0.8510702220797846 and parameters: {'tol': 6.420118651041979e-07, 'C': 0.0839987555035523, 'max_iter': 301, 'penalty': 'l1'}. Best is trial 13 with value: 0.8510970704063459.\n",
            "<ipython-input-44-df72d73ccb67>:2: FutureWarning: suggest_loguniform has been deprecated in v3.0.0. This feature will be removed in v6.0.0. See https://github.com/optuna/optuna/releases/tag/v3.0.0. Use suggest_float(..., log=True) instead.\n",
            "  tol = trial.suggest_loguniform('tol', 1e-7, 0.1)\n",
            "[I 2024-09-08 19:11:11,789] Trial 18 finished with value: 0.8357781679396901 and parameters: {'tol': 1.9031229539193437e-05, 'C': 0.0037593067333628466, 'max_iter': 163, 'penalty': 'l1'}. Best is trial 13 with value: 0.8510970704063459.\n",
            "<ipython-input-44-df72d73ccb67>:2: FutureWarning: suggest_loguniform has been deprecated in v3.0.0. This feature will be removed in v6.0.0. See https://github.com/optuna/optuna/releases/tag/v3.0.0. Use suggest_float(..., log=True) instead.\n",
            "  tol = trial.suggest_loguniform('tol', 1e-7, 0.1)\n",
            "[I 2024-09-08 19:11:12,523] Trial 19 finished with value: 0.8510749665752186 and parameters: {'tol': 5.219919623648597e-07, 'C': 0.08471867689694274, 'max_iter': 51, 'penalty': 'l1'}. Best is trial 13 with value: 0.8510970704063459.\n",
            "<ipython-input-44-df72d73ccb67>:2: FutureWarning: suggest_loguniform has been deprecated in v3.0.0. This feature will be removed in v6.0.0. See https://github.com/optuna/optuna/releases/tag/v3.0.0. Use suggest_float(..., log=True) instead.\n",
            "  tol = trial.suggest_loguniform('tol', 1e-7, 0.1)\n",
            "[I 2024-09-08 19:11:13,224] Trial 20 finished with value: 0.8509674095052869 and parameters: {'tol': 4.699414571647805e-07, 'C': 0.057727841391699335, 'max_iter': 436, 'penalty': 'l1'}. Best is trial 13 with value: 0.8510970704063459.\n",
            "<ipython-input-44-df72d73ccb67>:2: FutureWarning: suggest_loguniform has been deprecated in v3.0.0. This feature will be removed in v6.0.0. See https://github.com/optuna/optuna/releases/tag/v3.0.0. Use suggest_float(..., log=True) instead.\n",
            "  tol = trial.suggest_loguniform('tol', 1e-7, 0.1)\n",
            "[I 2024-09-08 19:11:13,993] Trial 21 finished with value: 0.8510956702198502 and parameters: {'tol': 1.5352043363570908e-07, 'C': 0.09667183022882889, 'max_iter': 404, 'penalty': 'l1'}. Best is trial 13 with value: 0.8510970704063459.\n",
            "<ipython-input-44-df72d73ccb67>:2: FutureWarning: suggest_loguniform has been deprecated in v3.0.0. This feature will be removed in v6.0.0. See https://github.com/optuna/optuna/releases/tag/v3.0.0. Use suggest_float(..., log=True) instead.\n",
            "  tol = trial.suggest_loguniform('tol', 1e-7, 0.1)\n",
            "[I 2024-09-08 19:11:14,765] Trial 22 finished with value: 0.851058617225295 and parameters: {'tol': 1.1815686376908356e-07, 'C': 0.09045754586993428, 'max_iter': 501, 'penalty': 'l1'}. Best is trial 13 with value: 0.8510970704063459.\n",
            "<ipython-input-44-df72d73ccb67>:2: FutureWarning: suggest_loguniform has been deprecated in v3.0.0. This feature will be removed in v6.0.0. See https://github.com/optuna/optuna/releases/tag/v3.0.0. Use suggest_float(..., log=True) instead.\n",
            "  tol = trial.suggest_loguniform('tol', 1e-7, 0.1)\n",
            "[I 2024-09-08 19:11:15,382] Trial 23 finished with value: 0.8510649750493802 and parameters: {'tol': 9.94975411955168e-06, 'C': 0.07868908949899264, 'max_iter': 371, 'penalty': 'l1'}. Best is trial 13 with value: 0.8510970704063459.\n",
            "<ipython-input-44-df72d73ccb67>:2: FutureWarning: suggest_loguniform has been deprecated in v3.0.0. This feature will be removed in v6.0.0. See https://github.com/optuna/optuna/releases/tag/v3.0.0. Use suggest_float(..., log=True) instead.\n",
            "  tol = trial.suggest_loguniform('tol', 1e-7, 0.1)\n",
            "[I 2024-09-08 19:11:16,082] Trial 24 finished with value: 0.8510794331980186 and parameters: {'tol': 1.0543968112331056e-06, 'C': 0.09926448036701215, 'max_iter': 327, 'penalty': 'l1'}. Best is trial 13 with value: 0.8510970704063459.\n",
            "<ipython-input-44-df72d73ccb67>:2: FutureWarning: suggest_loguniform has been deprecated in v3.0.0. This feature will be removed in v6.0.0. See https://github.com/optuna/optuna/releases/tag/v3.0.0. Use suggest_float(..., log=True) instead.\n",
            "  tol = trial.suggest_loguniform('tol', 1e-7, 0.1)\n",
            "[I 2024-09-08 19:11:16,811] Trial 25 finished with value: 0.8510666269829936 and parameters: {'tol': 3.5830037265054343e-07, 'C': 0.07835541995526074, 'max_iter': 588, 'penalty': 'l1'}. Best is trial 13 with value: 0.8510970704063459.\n",
            "<ipython-input-44-df72d73ccb67>:2: FutureWarning: suggest_loguniform has been deprecated in v3.0.0. This feature will be removed in v6.0.0. See https://github.com/optuna/optuna/releases/tag/v3.0.0. Use suggest_float(..., log=True) instead.\n",
            "  tol = trial.suggest_loguniform('tol', 1e-7, 0.1)\n",
            "[I 2024-09-08 19:11:17,302] Trial 26 finished with value: 0.8507767263093866 and parameters: {'tol': 2.412111727585995e-07, 'C': 0.09262919905765893, 'max_iter': 267, 'penalty': 'l2'}. Best is trial 13 with value: 0.8510970704063459.\n",
            "<ipython-input-44-df72d73ccb67>:2: FutureWarning: suggest_loguniform has been deprecated in v3.0.0. This feature will be removed in v6.0.0. See https://github.com/optuna/optuna/releases/tag/v3.0.0. Use suggest_float(..., log=True) instead.\n",
            "  tol = trial.suggest_loguniform('tol', 1e-7, 0.1)\n",
            "[I 2024-09-08 19:11:17,905] Trial 27 finished with value: 0.8510459348250528 and parameters: {'tol': 7.714831153851693e-06, 'C': 0.07728672109462262, 'max_iter': 175, 'penalty': 'l1'}. Best is trial 13 with value: 0.8510970704063459.\n",
            "<ipython-input-44-df72d73ccb67>:2: FutureWarning: suggest_loguniform has been deprecated in v3.0.0. This feature will be removed in v6.0.0. See https://github.com/optuna/optuna/releases/tag/v3.0.0. Use suggest_float(..., log=True) instead.\n",
            "  tol = trial.suggest_loguniform('tol', 1e-7, 0.1)\n",
            "[I 2024-09-08 19:11:18,639] Trial 28 finished with value: 0.8510669970966109 and parameters: {'tol': 1.6352331820159667e-06, 'C': 0.08941900258357771, 'max_iter': 395, 'penalty': 'l1'}. Best is trial 13 with value: 0.8510970704063459.\n",
            "<ipython-input-44-df72d73ccb67>:2: FutureWarning: suggest_loguniform has been deprecated in v3.0.0. This feature will be removed in v6.0.0. See https://github.com/optuna/optuna/releases/tag/v3.0.0. Use suggest_float(..., log=True) instead.\n",
            "  tol = trial.suggest_loguniform('tol', 1e-7, 0.1)\n",
            "[I 2024-09-08 19:11:19,010] Trial 29 finished with value: 0.8507822886229206 and parameters: {'tol': 2.3337492481480462e-05, 'C': 0.051989834116052035, 'max_iter': 377, 'penalty': 'l2'}. Best is trial 13 with value: 0.8510970704063459.\n",
            "<ipython-input-44-df72d73ccb67>:2: FutureWarning: suggest_loguniform has been deprecated in v3.0.0. This feature will be removed in v6.0.0. See https://github.com/optuna/optuna/releases/tag/v3.0.0. Use suggest_float(..., log=True) instead.\n",
            "  tol = trial.suggest_loguniform('tol', 1e-7, 0.1)\n",
            "[I 2024-09-08 19:11:19,762] Trial 30 finished with value: 0.8510982858814019 and parameters: {'tol': 2.887801250199733e-07, 'C': 0.0954596851849947, 'max_iter': 335, 'penalty': 'l1'}. Best is trial 30 with value: 0.8510982858814019.\n",
            "<ipython-input-44-df72d73ccb67>:2: FutureWarning: suggest_loguniform has been deprecated in v3.0.0. This feature will be removed in v6.0.0. See https://github.com/optuna/optuna/releases/tag/v3.0.0. Use suggest_float(..., log=True) instead.\n",
            "  tol = trial.suggest_loguniform('tol', 1e-7, 0.1)\n",
            "[I 2024-09-08 19:11:20,517] Trial 31 finished with value: 0.8510859401179385 and parameters: {'tol': 2.540939579378191e-07, 'C': 0.09960237879671328, 'max_iter': 341, 'penalty': 'l1'}. Best is trial 30 with value: 0.8510982858814019.\n",
            "<ipython-input-44-df72d73ccb67>:2: FutureWarning: suggest_loguniform has been deprecated in v3.0.0. This feature will be removed in v6.0.0. See https://github.com/optuna/optuna/releases/tag/v3.0.0. Use suggest_float(..., log=True) instead.\n",
            "  tol = trial.suggest_loguniform('tol', 1e-7, 0.1)\n",
            "[I 2024-09-08 19:11:21,597] Trial 32 finished with value: 0.851086715647382 and parameters: {'tol': 1.0509084014930285e-06, 'C': 0.09444320018506043, 'max_iter': 470, 'penalty': 'l1'}. Best is trial 30 with value: 0.8510982858814019.\n",
            "<ipython-input-44-df72d73ccb67>:2: FutureWarning: suggest_loguniform has been deprecated in v3.0.0. This feature will be removed in v6.0.0. See https://github.com/optuna/optuna/releases/tag/v3.0.0. Use suggest_float(..., log=True) instead.\n",
            "  tol = trial.suggest_loguniform('tol', 1e-7, 0.1)\n",
            "[I 2024-09-08 19:11:22,797] Trial 33 finished with value: 0.851091332048964 and parameters: {'tol': 1.0680260604470116e-07, 'C': 0.08693590878919467, 'max_iter': 302, 'penalty': 'l1'}. Best is trial 30 with value: 0.8510982858814019.\n",
            "<ipython-input-44-df72d73ccb67>:2: FutureWarning: suggest_loguniform has been deprecated in v3.0.0. This feature will be removed in v6.0.0. See https://github.com/optuna/optuna/releases/tag/v3.0.0. Use suggest_float(..., log=True) instead.\n",
            "  tol = trial.suggest_loguniform('tol', 1e-7, 0.1)\n",
            "[I 2024-09-08 19:11:24,066] Trial 34 finished with value: 0.8510946810041652 and parameters: {'tol': 2.549567171419651e-07, 'C': 0.08674316110688075, 'max_iter': 256, 'penalty': 'l1'}. Best is trial 30 with value: 0.8510982858814019.\n",
            "<ipython-input-44-df72d73ccb67>:2: FutureWarning: suggest_loguniform has been deprecated in v3.0.0. This feature will be removed in v6.0.0. See https://github.com/optuna/optuna/releases/tag/v3.0.0. Use suggest_float(..., log=True) instead.\n",
            "  tol = trial.suggest_loguniform('tol', 1e-7, 0.1)\n",
            "[I 2024-09-08 19:11:24,964] Trial 35 finished with value: 0.85078918602905 and parameters: {'tol': 6.980373792509355e-07, 'C': 0.07948789742360601, 'max_iter': 254, 'penalty': 'l2'}. Best is trial 30 with value: 0.8510982858814019.\n",
            "<ipython-input-44-df72d73ccb67>:2: FutureWarning: suggest_loguniform has been deprecated in v3.0.0. This feature will be removed in v6.0.0. See https://github.com/optuna/optuna/releases/tag/v3.0.0. Use suggest_float(..., log=True) instead.\n",
            "  tol = trial.suggest_loguniform('tol', 1e-7, 0.1)\n",
            "[I 2024-09-08 19:11:25,831] Trial 36 finished with value: 0.8510680439712133 and parameters: {'tol': 2.8182377468612114e-07, 'C': 0.09068487286748932, 'max_iter': 154, 'penalty': 'l1'}. Best is trial 30 with value: 0.8510982858814019.\n",
            "<ipython-input-44-df72d73ccb67>:2: FutureWarning: suggest_loguniform has been deprecated in v3.0.0. This feature will be removed in v6.0.0. See https://github.com/optuna/optuna/releases/tag/v3.0.0. Use suggest_float(..., log=True) instead.\n",
            "  tol = trial.suggest_loguniform('tol', 1e-7, 0.1)\n",
            "[I 2024-09-08 19:11:26,196] Trial 37 finished with value: 0.8508529402423864 and parameters: {'tol': 0.0011228377160481782, 'C': 0.07251021819603792, 'max_iter': 241, 'penalty': 'l2'}. Best is trial 30 with value: 0.8510982858814019.\n",
            "<ipython-input-44-df72d73ccb67>:2: FutureWarning: suggest_loguniform has been deprecated in v3.0.0. This feature will be removed in v6.0.0. See https://github.com/optuna/optuna/releases/tag/v3.0.0. Use suggest_float(..., log=True) instead.\n",
            "  tol = trial.suggest_loguniform('tol', 1e-7, 0.1)\n",
            "[I 2024-09-08 19:11:26,847] Trial 38 finished with value: 0.851060520742006 and parameters: {'tol': 2.701181795709693e-06, 'C': 0.08309024338434386, 'max_iter': 508, 'penalty': 'l1'}. Best is trial 30 with value: 0.8510982858814019.\n",
            "<ipython-input-44-df72d73ccb67>:2: FutureWarning: suggest_loguniform has been deprecated in v3.0.0. This feature will be removed in v6.0.0. See https://github.com/optuna/optuna/releases/tag/v3.0.0. Use suggest_float(..., log=True) instead.\n",
            "  tol = trial.suggest_loguniform('tol', 1e-7, 0.1)\n",
            "[I 2024-09-08 19:11:27,489] Trial 39 finished with value: 0.8510818728505475 and parameters: {'tol': 5.1043063604573594e-06, 'C': 0.09368077141930393, 'max_iter': 366, 'penalty': 'l1'}. Best is trial 30 with value: 0.8510982858814019.\n",
            "<ipython-input-44-df72d73ccb67>:2: FutureWarning: suggest_loguniform has been deprecated in v3.0.0. This feature will be removed in v6.0.0. See https://github.com/optuna/optuna/releases/tag/v3.0.0. Use suggest_float(..., log=True) instead.\n",
            "  tol = trial.suggest_loguniform('tol', 1e-7, 0.1)\n",
            "[I 2024-09-08 19:11:27,936] Trial 40 finished with value: 0.8507771525338048 and parameters: {'tol': 1.1838829108515202e-06, 'C': 0.060552576843512076, 'max_iter': 418, 'penalty': 'l2'}. Best is trial 30 with value: 0.8510982858814019.\n",
            "<ipython-input-44-df72d73ccb67>:2: FutureWarning: suggest_loguniform has been deprecated in v3.0.0. This feature will be removed in v6.0.0. See https://github.com/optuna/optuna/releases/tag/v3.0.0. Use suggest_float(..., log=True) instead.\n",
            "  tol = trial.suggest_loguniform('tol', 1e-7, 0.1)\n",
            "[I 2024-09-08 19:11:28,712] Trial 41 finished with value: 0.8510898279155766 and parameters: {'tol': 1.0187831158479038e-07, 'C': 0.08709177130239734, 'max_iter': 315, 'penalty': 'l1'}. Best is trial 30 with value: 0.8510982858814019.\n",
            "<ipython-input-44-df72d73ccb67>:2: FutureWarning: suggest_loguniform has been deprecated in v3.0.0. This feature will be removed in v6.0.0. See https://github.com/optuna/optuna/releases/tag/v3.0.0. Use suggest_float(..., log=True) instead.\n",
            "  tol = trial.suggest_loguniform('tol', 1e-7, 0.1)\n",
            "[I 2024-09-08 19:11:29,484] Trial 42 finished with value: 0.8510961798179417 and parameters: {'tol': 2.5618299620764184e-07, 'C': 0.08666049105546034, 'max_iter': 333, 'penalty': 'l1'}. Best is trial 30 with value: 0.8510982858814019.\n",
            "<ipython-input-44-df72d73ccb67>:2: FutureWarning: suggest_loguniform has been deprecated in v3.0.0. This feature will be removed in v6.0.0. See https://github.com/optuna/optuna/releases/tag/v3.0.0. Use suggest_float(..., log=True) instead.\n",
            "  tol = trial.suggest_loguniform('tol', 1e-7, 0.1)\n",
            "[I 2024-09-08 19:11:30,223] Trial 43 finished with value: 0.8510468105716835 and parameters: {'tol': 1.9579136667530995e-07, 'C': 0.07410091513608855, 'max_iter': 349, 'penalty': 'l1'}. Best is trial 30 with value: 0.8510982858814019.\n",
            "<ipython-input-44-df72d73ccb67>:2: FutureWarning: suggest_loguniform has been deprecated in v3.0.0. This feature will be removed in v6.0.0. See https://github.com/optuna/optuna/releases/tag/v3.0.0. Use suggest_float(..., log=True) instead.\n",
            "  tol = trial.suggest_loguniform('tol', 1e-7, 0.1)\n",
            "[I 2024-09-08 19:11:30,953] Trial 44 finished with value: 0.8510850352284363 and parameters: {'tol': 4.516250779467055e-07, 'C': 0.0947509768099309, 'max_iter': 271, 'penalty': 'l1'}. Best is trial 30 with value: 0.8510982858814019.\n",
            "<ipython-input-44-df72d73ccb67>:2: FutureWarning: suggest_loguniform has been deprecated in v3.0.0. This feature will be removed in v6.0.0. See https://github.com/optuna/optuna/releases/tag/v3.0.0. Use suggest_float(..., log=True) instead.\n",
            "  tol = trial.suggest_loguniform('tol', 1e-7, 0.1)\n",
            "[I 2024-09-08 19:11:31,203] Trial 45 finished with value: 0.8508286878706544 and parameters: {'tol': 0.031105933267755227, 'C': 0.06568500925407303, 'max_iter': 456, 'penalty': 'l1'}. Best is trial 30 with value: 0.8510982858814019.\n",
            "<ipython-input-44-df72d73ccb67>:2: FutureWarning: suggest_loguniform has been deprecated in v3.0.0. This feature will be removed in v6.0.0. See https://github.com/optuna/optuna/releases/tag/v3.0.0. Use suggest_float(..., log=True) instead.\n",
            "  tol = trial.suggest_loguniform('tol', 1e-7, 0.1)\n",
            "[I 2024-09-08 19:11:31,938] Trial 46 finished with value: 0.8510519745029852 and parameters: {'tol': 2.5901223986504855e-07, 'C': 0.08178712195858352, 'max_iter': 221, 'penalty': 'l1'}. Best is trial 30 with value: 0.8510982858814019.\n",
            "<ipython-input-44-df72d73ccb67>:2: FutureWarning: suggest_loguniform has been deprecated in v3.0.0. This feature will be removed in v6.0.0. See https://github.com/optuna/optuna/releases/tag/v3.0.0. Use suggest_float(..., log=True) instead.\n",
            "  tol = trial.suggest_loguniform('tol', 1e-7, 0.1)\n",
            "[I 2024-09-08 19:11:32,548] Trial 47 finished with value: 0.8508810602621661 and parameters: {'tol': 3.11273702669757e-06, 'C': 0.04176529206352776, 'max_iter': 393, 'penalty': 'l1'}. Best is trial 30 with value: 0.8510982858814019.\n",
            "<ipython-input-44-df72d73ccb67>:2: FutureWarning: suggest_loguniform has been deprecated in v3.0.0. This feature will be removed in v6.0.0. See https://github.com/optuna/optuna/releases/tag/v3.0.0. Use suggest_float(..., log=True) instead.\n",
            "  tol = trial.suggest_loguniform('tol', 1e-7, 0.1)\n",
            "[I 2024-09-08 19:11:33,126] Trial 48 finished with value: 0.8511035474830688 and parameters: {'tol': 5.2827430323812656e-05, 'C': 0.09609357702517418, 'max_iter': 193, 'penalty': 'l1'}. Best is trial 48 with value: 0.8511035474830688.\n",
            "<ipython-input-44-df72d73ccb67>:2: FutureWarning: suggest_loguniform has been deprecated in v3.0.0. This feature will be removed in v6.0.0. See https://github.com/optuna/optuna/releases/tag/v3.0.0. Use suggest_float(..., log=True) instead.\n",
            "  tol = trial.suggest_loguniform('tol', 1e-7, 0.1)\n",
            "[I 2024-09-08 19:11:33,517] Trial 49 finished with value: 0.851076357340926 and parameters: {'tol': 0.004056002710185621, 'C': 0.09536532437092808, 'max_iter': 124, 'penalty': 'l1'}. Best is trial 48 with value: 0.8511035474830688.\n",
            "<ipython-input-44-df72d73ccb67>:2: FutureWarning: suggest_loguniform has been deprecated in v3.0.0. This feature will be removed in v6.0.0. See https://github.com/optuna/optuna/releases/tag/v3.0.0. Use suggest_float(..., log=True) instead.\n",
            "  tol = trial.suggest_loguniform('tol', 1e-7, 0.1)\n",
            "[I 2024-09-08 19:11:34,010] Trial 50 finished with value: 0.851082040342369 and parameters: {'tol': 0.00045940990501697676, 'C': 0.0959573535649769, 'max_iter': 182, 'penalty': 'l1'}. Best is trial 48 with value: 0.8511035474830688.\n",
            "<ipython-input-44-df72d73ccb67>:2: FutureWarning: suggest_loguniform has been deprecated in v3.0.0. This feature will be removed in v6.0.0. See https://github.com/optuna/optuna/releases/tag/v3.0.0. Use suggest_float(..., log=True) instead.\n",
            "  tol = trial.suggest_loguniform('tol', 1e-7, 0.1)\n",
            "[I 2024-09-08 19:11:34,570] Trial 51 finished with value: 0.8510931166488683 and parameters: {'tol': 3.658196179110301e-05, 'C': 0.08710797202424099, 'max_iter': 192, 'penalty': 'l1'}. Best is trial 48 with value: 0.8511035474830688.\n",
            "<ipython-input-44-df72d73ccb67>:2: FutureWarning: suggest_loguniform has been deprecated in v3.0.0. This feature will be removed in v6.0.0. See https://github.com/optuna/optuna/releases/tag/v3.0.0. Use suggest_float(..., log=True) instead.\n",
            "  tol = trial.suggest_loguniform('tol', 1e-7, 0.1)\n",
            "[I 2024-09-08 19:11:35,128] Trial 52 finished with value: 0.8510619057839085 and parameters: {'tol': 9.352990802145789e-05, 'C': 0.09035567023777716, 'max_iter': 241, 'penalty': 'l1'}. Best is trial 48 with value: 0.8511035474830688.\n",
            "<ipython-input-44-df72d73ccb67>:2: FutureWarning: suggest_loguniform has been deprecated in v3.0.0. This feature will be removed in v6.0.0. See https://github.com/optuna/optuna/releases/tag/v3.0.0. Use suggest_float(..., log=True) instead.\n",
            "  tol = trial.suggest_loguniform('tol', 1e-7, 0.1)\n",
            "[I 2024-09-08 19:11:36,261] Trial 53 finished with value: 0.8510970305706376 and parameters: {'tol': 8.832808366321768e-07, 'C': 0.09725672300834144, 'max_iter': 148, 'penalty': 'l1'}. Best is trial 48 with value: 0.8511035474830688.\n",
            "<ipython-input-44-df72d73ccb67>:2: FutureWarning: suggest_loguniform has been deprecated in v3.0.0. This feature will be removed in v6.0.0. See https://github.com/optuna/optuna/releases/tag/v3.0.0. Use suggest_float(..., log=True) instead.\n",
            "  tol = trial.suggest_loguniform('tol', 1e-7, 0.1)\n",
            "[I 2024-09-08 19:11:37,506] Trial 54 finished with value: 0.851085950692984 and parameters: {'tol': 7.92429676754226e-07, 'C': 0.09956390403856515, 'max_iter': 88, 'penalty': 'l1'}. Best is trial 48 with value: 0.8511035474830688.\n",
            "<ipython-input-44-df72d73ccb67>:2: FutureWarning: suggest_loguniform has been deprecated in v3.0.0. This feature will be removed in v6.0.0. See https://github.com/optuna/optuna/releases/tag/v3.0.0. Use suggest_float(..., log=True) instead.\n",
            "  tol = trial.suggest_loguniform('tol', 1e-7, 0.1)\n",
            "[I 2024-09-08 19:11:38,369] Trial 55 finished with value: 0.8506793166911029 and parameters: {'tol': 2.0583654430033227e-06, 'C': 0.03417217173515942, 'max_iter': 134, 'penalty': 'l1'}. Best is trial 48 with value: 0.8511035474830688.\n",
            "<ipython-input-44-df72d73ccb67>:2: FutureWarning: suggest_loguniform has been deprecated in v3.0.0. This feature will be removed in v6.0.0. See https://github.com/optuna/optuna/releases/tag/v3.0.0. Use suggest_float(..., log=True) instead.\n",
            "  tol = trial.suggest_loguniform('tol', 1e-7, 0.1)\n",
            "[I 2024-09-08 19:11:39,759] Trial 56 finished with value: 0.8510956702198502 and parameters: {'tol': 4.681732757539234e-07, 'C': 0.09672217912127783, 'max_iter': 153, 'penalty': 'l1'}. Best is trial 48 with value: 0.8511035474830688.\n",
            "<ipython-input-44-df72d73ccb67>:2: FutureWarning: suggest_loguniform has been deprecated in v3.0.0. This feature will be removed in v6.0.0. See https://github.com/optuna/optuna/releases/tag/v3.0.0. Use suggest_float(..., log=True) instead.\n",
            "  tol = trial.suggest_loguniform('tol', 1e-7, 0.1)\n",
            "[I 2024-09-08 19:11:40,583] Trial 57 finished with value: 0.8510633530795794 and parameters: {'tol': 1.586626123158025e-07, 'C': 0.09117305124603935, 'max_iter': 62, 'penalty': 'l1'}. Best is trial 48 with value: 0.8511035474830688.\n",
            "<ipython-input-44-df72d73ccb67>:2: FutureWarning: suggest_loguniform has been deprecated in v3.0.0. This feature will be removed in v6.0.0. See https://github.com/optuna/optuna/releases/tag/v3.0.0. Use suggest_float(..., log=True) instead.\n",
            "  tol = trial.suggest_loguniform('tol', 1e-7, 0.1)\n",
            "[I 2024-09-08 19:11:41,079] Trial 58 finished with value: 0.8507855853339095 and parameters: {'tol': 1.6409862029483514e-07, 'C': 0.08356389714854603, 'max_iter': 101, 'penalty': 'l2'}. Best is trial 48 with value: 0.8511035474830688.\n",
            "<ipython-input-44-df72d73ccb67>:2: FutureWarning: suggest_loguniform has been deprecated in v3.0.0. This feature will be removed in v6.0.0. See https://github.com/optuna/optuna/releases/tag/v3.0.0. Use suggest_float(..., log=True) instead.\n",
            "  tol = trial.suggest_loguniform('tol', 1e-7, 0.1)\n",
            "[I 2024-09-08 19:11:41,661] Trial 59 finished with value: 0.8483991285259517 and parameters: {'tol': 3.813739021777206e-07, 'C': 0.01374579700630666, 'max_iter': 318, 'penalty': 'l1'}. Best is trial 48 with value: 0.8511035474830688.\n",
            "<ipython-input-44-df72d73ccb67>:2: FutureWarning: suggest_loguniform has been deprecated in v3.0.0. This feature will be removed in v6.0.0. See https://github.com/optuna/optuna/releases/tag/v3.0.0. Use suggest_float(..., log=True) instead.\n",
            "  tol = trial.suggest_loguniform('tol', 1e-7, 0.1)\n",
            "[I 2024-09-08 19:11:42,270] Trial 60 finished with value: 0.8511002524620593 and parameters: {'tol': 1.2306124419436868e-05, 'C': 0.09746520437029964, 'max_iter': 213, 'penalty': 'l1'}. Best is trial 48 with value: 0.8511035474830688.\n",
            "<ipython-input-44-df72d73ccb67>:2: FutureWarning: suggest_loguniform has been deprecated in v3.0.0. This feature will be removed in v6.0.0. See https://github.com/optuna/optuna/releases/tag/v3.0.0. Use suggest_float(..., log=True) instead.\n",
            "  tol = trial.suggest_loguniform('tol', 1e-7, 0.1)\n",
            "[I 2024-09-08 19:11:42,863] Trial 61 finished with value: 0.8510742908497223 and parameters: {'tol': 1.7627093015294427e-05, 'C': 0.09284315664869153, 'max_iter': 142, 'penalty': 'l1'}. Best is trial 48 with value: 0.8511035474830688.\n",
            "<ipython-input-44-df72d73ccb67>:2: FutureWarning: suggest_loguniform has been deprecated in v3.0.0. This feature will be removed in v6.0.0. See https://github.com/optuna/optuna/releases/tag/v3.0.0. Use suggest_float(..., log=True) instead.\n",
            "  tol = trial.suggest_loguniform('tol', 1e-7, 0.1)\n",
            "[I 2024-09-08 19:11:43,376] Trial 62 finished with value: 0.8511037005340418 and parameters: {'tol': 0.0001001617119591504, 'C': 0.09662449949966785, 'max_iter': 211, 'penalty': 'l1'}. Best is trial 62 with value: 0.8511037005340418.\n",
            "<ipython-input-44-df72d73ccb67>:2: FutureWarning: suggest_loguniform has been deprecated in v3.0.0. This feature will be removed in v6.0.0. See https://github.com/optuna/optuna/releases/tag/v3.0.0. Use suggest_float(..., log=True) instead.\n",
            "  tol = trial.suggest_loguniform('tol', 1e-7, 0.1)\n",
            "[I 2024-09-08 19:11:43,925] Trial 63 finished with value: 0.8510842854369465 and parameters: {'tol': 7.547022398315564e-05, 'C': 0.0999949429670805, 'max_iter': 199, 'penalty': 'l1'}. Best is trial 62 with value: 0.8511037005340418.\n",
            "<ipython-input-44-df72d73ccb67>:2: FutureWarning: suggest_loguniform has been deprecated in v3.0.0. This feature will be removed in v6.0.0. See https://github.com/optuna/optuna/releases/tag/v3.0.0. Use suggest_float(..., log=True) instead.\n",
            "  tol = trial.suggest_loguniform('tol', 1e-7, 0.1)\n",
            "[I 2024-09-08 19:11:44,411] Trial 64 finished with value: 0.8510780319881011 and parameters: {'tol': 0.0002110905895885535, 'C': 0.08862372586625841, 'max_iter': 208, 'penalty': 'l1'}. Best is trial 62 with value: 0.8511037005340418.\n",
            "<ipython-input-44-df72d73ccb67>:2: FutureWarning: suggest_loguniform has been deprecated in v3.0.0. This feature will be removed in v6.0.0. See https://github.com/optuna/optuna/releases/tag/v3.0.0. Use suggest_float(..., log=True) instead.\n",
            "  tol = trial.suggest_loguniform('tol', 1e-7, 0.1)\n",
            "[I 2024-09-08 19:11:45,007] Trial 65 finished with value: 0.8510938692062698 and parameters: {'tol': 5.246549758166392e-05, 'C': 0.09670100577036497, 'max_iter': 231, 'penalty': 'l1'}. Best is trial 62 with value: 0.8511037005340418.\n",
            "<ipython-input-44-df72d73ccb67>:2: FutureWarning: suggest_loguniform has been deprecated in v3.0.0. This feature will be removed in v6.0.0. See https://github.com/optuna/optuna/releases/tag/v3.0.0. Use suggest_float(..., log=True) instead.\n",
            "  tol = trial.suggest_loguniform('tol', 1e-7, 0.1)\n",
            "[I 2024-09-08 19:11:45,525] Trial 66 finished with value: 0.851072912355424 and parameters: {'tol': 0.00013742890577697706, 'C': 0.09186829067522626, 'max_iter': 174, 'penalty': 'l1'}. Best is trial 62 with value: 0.8511037005340418.\n",
            "<ipython-input-44-df72d73ccb67>:2: FutureWarning: suggest_loguniform has been deprecated in v3.0.0. This feature will be removed in v6.0.0. See https://github.com/optuna/optuna/releases/tag/v3.0.0. Use suggest_float(..., log=True) instead.\n",
            "  tol = trial.suggest_loguniform('tol', 1e-7, 0.1)\n",
            "[I 2024-09-08 19:11:46,120] Trial 67 finished with value: 0.851054282544046 and parameters: {'tol': 1.0271452766518905e-05, 'C': 0.07554786637876956, 'max_iter': 166, 'penalty': 'l1'}. Best is trial 62 with value: 0.8511037005340418.\n",
            "<ipython-input-44-df72d73ccb67>:2: FutureWarning: suggest_loguniform has been deprecated in v3.0.0. This feature will be removed in v6.0.0. See https://github.com/optuna/optuna/releases/tag/v3.0.0. Use suggest_float(..., log=True) instead.\n",
            "  tol = trial.suggest_loguniform('tol', 1e-7, 0.1)\n",
            "[I 2024-09-08 19:11:46,755] Trial 68 finished with value: 0.8510472225050263 and parameters: {'tol': 3.0435567550013228e-05, 'C': 0.08213740833948752, 'max_iter': 283, 'penalty': 'l1'}. Best is trial 62 with value: 0.8511037005340418.\n",
            "<ipython-input-44-df72d73ccb67>:2: FutureWarning: suggest_loguniform has been deprecated in v3.0.0. This feature will be removed in v6.0.0. See https://github.com/optuna/optuna/releases/tag/v3.0.0. Use suggest_float(..., log=True) instead.\n",
            "  tol = trial.suggest_loguniform('tol', 1e-7, 0.1)\n",
            "[I 2024-09-08 19:11:47,274] Trial 69 finished with value: 0.8511099187771478 and parameters: {'tol': 0.00048199353089554254, 'C': 0.09804174871093434, 'max_iter': 209, 'penalty': 'l1'}. Best is trial 69 with value: 0.8511099187771478.\n",
            "<ipython-input-44-df72d73ccb67>:2: FutureWarning: suggest_loguniform has been deprecated in v3.0.0. This feature will be removed in v6.0.0. See https://github.com/optuna/optuna/releases/tag/v3.0.0. Use suggest_float(..., log=True) instead.\n",
            "  tol = trial.suggest_loguniform('tol', 1e-7, 0.1)\n",
            "[I 2024-09-08 19:11:47,629] Trial 70 finished with value: 0.8507992265761285 and parameters: {'tol': 0.0003696279716060143, 'C': 0.09780918392675607, 'max_iter': 115, 'penalty': 'l2'}. Best is trial 69 with value: 0.8511099187771478.\n",
            "<ipython-input-44-df72d73ccb67>:2: FutureWarning: suggest_loguniform has been deprecated in v3.0.0. This feature will be removed in v6.0.0. See https://github.com/optuna/optuna/releases/tag/v3.0.0. Use suggest_float(..., log=True) instead.\n",
            "  tol = trial.suggest_loguniform('tol', 1e-7, 0.1)\n",
            "[I 2024-09-08 19:11:48,109] Trial 71 finished with value: 0.8510863384290559 and parameters: {'tol': 0.0008197980448313572, 'C': 0.09321520233986036, 'max_iter': 188, 'penalty': 'l1'}. Best is trial 69 with value: 0.8511099187771478.\n",
            "<ipython-input-44-df72d73ccb67>:2: FutureWarning: suggest_loguniform has been deprecated in v3.0.0. This feature will be removed in v6.0.0. See https://github.com/optuna/optuna/releases/tag/v3.0.0. Use suggest_float(..., log=True) instead.\n",
            "  tol = trial.suggest_loguniform('tol', 1e-7, 0.1)\n",
            "[I 2024-09-08 19:11:48,591] Trial 72 finished with value: 0.8510996129590105 and parameters: {'tol': 0.0003916664975743905, 'C': 0.09673324328089551, 'max_iter': 211, 'penalty': 'l1'}. Best is trial 69 with value: 0.8511099187771478.\n",
            "<ipython-input-44-df72d73ccb67>:2: FutureWarning: suggest_loguniform has been deprecated in v3.0.0. This feature will be removed in v6.0.0. See https://github.com/optuna/optuna/releases/tag/v3.0.0. Use suggest_float(..., log=True) instead.\n",
            "  tol = trial.suggest_loguniform('tol', 1e-7, 0.1)\n",
            "[I 2024-09-08 19:11:49,030] Trial 73 finished with value: 0.8511126496687629 and parameters: {'tol': 0.003460971902925085, 'C': 0.09670741230551641, 'max_iter': 211, 'penalty': 'l1'}. Best is trial 73 with value: 0.8511126496687629.\n",
            "<ipython-input-44-df72d73ccb67>:2: FutureWarning: suggest_loguniform has been deprecated in v3.0.0. This feature will be removed in v6.0.0. See https://github.com/optuna/optuna/releases/tag/v3.0.0. Use suggest_float(..., log=True) instead.\n",
            "  tol = trial.suggest_loguniform('tol', 1e-7, 0.1)\n",
            "[I 2024-09-08 19:11:49,402] Trial 74 finished with value: 0.8510747733937176 and parameters: {'tol': 0.002871267396102029, 'C': 0.08868582157490547, 'max_iter': 237, 'penalty': 'l1'}. Best is trial 73 with value: 0.8511126496687629.\n",
            "<ipython-input-44-df72d73ccb67>:2: FutureWarning: suggest_loguniform has been deprecated in v3.0.0. This feature will be removed in v6.0.0. See https://github.com/optuna/optuna/releases/tag/v3.0.0. Use suggest_float(..., log=True) instead.\n",
            "  tol = trial.suggest_loguniform('tol', 1e-7, 0.1)\n",
            "[I 2024-09-08 19:11:49,840] Trial 75 finished with value: 0.8511902617100653 and parameters: {'tol': 0.00888429650708655, 'C': 0.09399522706301541, 'max_iter': 211, 'penalty': 'l1'}. Best is trial 75 with value: 0.8511902617100653.\n",
            "<ipython-input-44-df72d73ccb67>:2: FutureWarning: suggest_loguniform has been deprecated in v3.0.0. This feature will be removed in v6.0.0. See https://github.com/optuna/optuna/releases/tag/v3.0.0. Use suggest_float(..., log=True) instead.\n",
            "  tol = trial.suggest_loguniform('tol', 1e-7, 0.1)\n",
            "[I 2024-09-08 19:11:50,310] Trial 76 finished with value: 0.8509096504710547 and parameters: {'tol': 0.012304794636767615, 'C': 0.09336435454809905, 'max_iter': 213, 'penalty': 'l1'}. Best is trial 75 with value: 0.8511902617100653.\n",
            "<ipython-input-44-df72d73ccb67>:2: FutureWarning: suggest_loguniform has been deprecated in v3.0.0. This feature will be removed in v6.0.0. See https://github.com/optuna/optuna/releases/tag/v3.0.0. Use suggest_float(..., log=True) instead.\n",
            "  tol = trial.suggest_loguniform('tol', 1e-7, 0.1)\n",
            "[I 2024-09-08 19:11:50,989] Trial 77 finished with value: 0.8510594116284041 and parameters: {'tol': 0.006211474557887157, 'C': 0.0903518994925251, 'max_iter': 254, 'penalty': 'l1'}. Best is trial 75 with value: 0.8511902617100653.\n",
            "<ipython-input-44-df72d73ccb67>:2: FutureWarning: suggest_loguniform has been deprecated in v3.0.0. This feature will be removed in v6.0.0. See https://github.com/optuna/optuna/releases/tag/v3.0.0. Use suggest_float(..., log=True) instead.\n",
            "  tol = trial.suggest_loguniform('tol', 1e-7, 0.1)\n",
            "[I 2024-09-08 19:11:51,839] Trial 78 finished with value: 0.8510637816508135 and parameters: {'tol': 0.00034599271066254036, 'C': 0.08069041829356387, 'max_iter': 212, 'penalty': 'l1'}. Best is trial 75 with value: 0.8511902617100653.\n",
            "<ipython-input-44-df72d73ccb67>:2: FutureWarning: suggest_loguniform has been deprecated in v3.0.0. This feature will be removed in v6.0.0. See https://github.com/optuna/optuna/releases/tag/v3.0.0. Use suggest_float(..., log=True) instead.\n",
            "  tol = trial.suggest_loguniform('tol', 1e-7, 0.1)\n",
            "[I 2024-09-08 19:11:52,543] Trial 79 finished with value: 0.8510836707557712 and parameters: {'tol': 0.0006832636392718811, 'C': 0.09999920374208894, 'max_iter': 283, 'penalty': 'l1'}. Best is trial 75 with value: 0.8511902617100653.\n",
            "<ipython-input-44-df72d73ccb67>:2: FutureWarning: suggest_loguniform has been deprecated in v3.0.0. This feature will be removed in v6.0.0. See https://github.com/optuna/optuna/releases/tag/v3.0.0. Use suggest_float(..., log=True) instead.\n",
            "  tol = trial.suggest_loguniform('tol', 1e-7, 0.1)\n",
            "[I 2024-09-08 19:11:53,253] Trial 80 finished with value: 0.8510538917968544 and parameters: {'tol': 0.0018533330498416284, 'C': 0.08461731716316244, 'max_iter': 225, 'penalty': 'l1'}. Best is trial 75 with value: 0.8511902617100653.\n",
            "<ipython-input-44-df72d73ccb67>:2: FutureWarning: suggest_loguniform has been deprecated in v3.0.0. This feature will be removed in v6.0.0. See https://github.com/optuna/optuna/releases/tag/v3.0.0. Use suggest_float(..., log=True) instead.\n",
            "  tol = trial.suggest_loguniform('tol', 1e-7, 0.1)\n",
            "[I 2024-09-08 19:11:54,142] Trial 81 finished with value: 0.8510970817917528 and parameters: {'tol': 0.0001428457248118341, 'C': 0.09594221081654125, 'max_iter': 198, 'penalty': 'l1'}. Best is trial 75 with value: 0.8511902617100653.\n",
            "<ipython-input-44-df72d73ccb67>:2: FutureWarning: suggest_loguniform has been deprecated in v3.0.0. This feature will be removed in v6.0.0. See https://github.com/optuna/optuna/releases/tag/v3.0.0. Use suggest_float(..., log=True) instead.\n",
            "  tol = trial.suggest_loguniform('tol', 1e-7, 0.1)\n",
            "[I 2024-09-08 19:11:54,402] Trial 82 finished with value: 0.8507290387728078 and parameters: {'tol': 0.023410611436218625, 'C': 0.09511445453643334, 'max_iter': 198, 'penalty': 'l1'}. Best is trial 75 with value: 0.8511902617100653.\n",
            "<ipython-input-44-df72d73ccb67>:2: FutureWarning: suggest_loguniform has been deprecated in v3.0.0. This feature will be removed in v6.0.0. See https://github.com/optuna/optuna/releases/tag/v3.0.0. Use suggest_float(..., log=True) instead.\n",
            "  tol = trial.suggest_loguniform('tol', 1e-7, 0.1)\n",
            "[I 2024-09-08 19:11:54,891] Trial 83 finished with value: 0.8510906064858104 and parameters: {'tol': 0.00013491218521610585, 'C': 0.09695117558423916, 'max_iter': 264, 'penalty': 'l1'}. Best is trial 75 with value: 0.8511902617100653.\n",
            "<ipython-input-44-df72d73ccb67>:2: FutureWarning: suggest_loguniform has been deprecated in v3.0.0. This feature will be removed in v6.0.0. See https://github.com/optuna/optuna/releases/tag/v3.0.0. Use suggest_float(..., log=True) instead.\n",
            "  tol = trial.suggest_loguniform('tol', 1e-7, 0.1)\n",
            "[I 2024-09-08 19:11:55,409] Trial 84 finished with value: 0.8510914161486918 and parameters: {'tol': 0.0014476510446452524, 'C': 0.09225477579453557, 'max_iter': 172, 'penalty': 'l1'}. Best is trial 75 with value: 0.8511902617100653.\n",
            "<ipython-input-44-df72d73ccb67>:2: FutureWarning: suggest_loguniform has been deprecated in v3.0.0. This feature will be removed in v6.0.0. See https://github.com/optuna/optuna/releases/tag/v3.0.0. Use suggest_float(..., log=True) instead.\n",
            "  tol = trial.suggest_loguniform('tol', 1e-7, 0.1)\n",
            "[I 2024-09-08 19:11:55,827] Trial 85 finished with value: 0.850938104838988 and parameters: {'tol': 0.0002695107912458693, 'C': 0.050162738635030596, 'max_iter': 188, 'penalty': 'l1'}. Best is trial 75 with value: 0.8511902617100653.\n",
            "<ipython-input-44-df72d73ccb67>:2: FutureWarning: suggest_loguniform has been deprecated in v3.0.0. This feature will be removed in v6.0.0. See https://github.com/optuna/optuna/releases/tag/v3.0.0. Use suggest_float(..., log=True) instead.\n",
            "  tol = trial.suggest_loguniform('tol', 1e-7, 0.1)\n",
            "[I 2024-09-08 19:11:56,413] Trial 86 finished with value: 0.8510720349099952 and parameters: {'tol': 6.458220802414615e-05, 'C': 0.08865349707689928, 'max_iter': 250, 'penalty': 'l1'}. Best is trial 75 with value: 0.8511902617100653.\n",
            "<ipython-input-44-df72d73ccb67>:2: FutureWarning: suggest_loguniform has been deprecated in v3.0.0. This feature will be removed in v6.0.0. See https://github.com/optuna/optuna/releases/tag/v3.0.0. Use suggest_float(..., log=True) instead.\n",
            "  tol = trial.suggest_loguniform('tol', 1e-7, 0.1)\n",
            "[I 2024-09-08 19:11:56,766] Trial 87 finished with value: 0.8507713632654506 and parameters: {'tol': 0.0006196207207032432, 'C': 0.09526625145902774, 'max_iter': 222, 'penalty': 'l2'}. Best is trial 75 with value: 0.8511902617100653.\n",
            "<ipython-input-44-df72d73ccb67>:2: FutureWarning: suggest_loguniform has been deprecated in v3.0.0. This feature will be removed in v6.0.0. See https://github.com/optuna/optuna/releases/tag/v3.0.0. Use suggest_float(..., log=True) instead.\n",
            "  tol = trial.suggest_loguniform('tol', 1e-7, 0.1)\n",
            "[I 2024-09-08 19:11:57,324] Trial 88 finished with value: 0.8510874498219593 and parameters: {'tol': 9.976874200464014e-05, 'C': 0.0977321339890086, 'max_iter': 162, 'penalty': 'l1'}. Best is trial 75 with value: 0.8511902617100653.\n",
            "<ipython-input-44-df72d73ccb67>:2: FutureWarning: suggest_loguniform has been deprecated in v3.0.0. This feature will be removed in v6.0.0. See https://github.com/optuna/optuna/releases/tag/v3.0.0. Use suggest_float(..., log=True) instead.\n",
            "  tol = trial.suggest_loguniform('tol', 1e-7, 0.1)\n",
            "[I 2024-09-08 19:11:57,487] Trial 89 finished with value: 0.7390484327419111 and parameters: {'tol': 0.06768147432046882, 'C': 0.0011958021883707662, 'max_iter': 199, 'penalty': 'l1'}. Best is trial 75 with value: 0.8511902617100653.\n",
            "<ipython-input-44-df72d73ccb67>:2: FutureWarning: suggest_loguniform has been deprecated in v3.0.0. This feature will be removed in v6.0.0. See https://github.com/optuna/optuna/releases/tag/v3.0.0. Use suggest_float(..., log=True) instead.\n",
            "  tol = trial.suggest_loguniform('tol', 1e-7, 0.1)\n",
            "[I 2024-09-08 19:11:57,863] Trial 90 finished with value: 0.8510874956874345 and parameters: {'tol': 0.00604112020355382, 'C': 0.08538671120326681, 'max_iter': 298, 'penalty': 'l1'}. Best is trial 75 with value: 0.8511902617100653.\n",
            "<ipython-input-44-df72d73ccb67>:2: FutureWarning: suggest_loguniform has been deprecated in v3.0.0. This feature will be removed in v6.0.0. See https://github.com/optuna/optuna/releases/tag/v3.0.0. Use suggest_float(..., log=True) instead.\n",
            "  tol = trial.suggest_loguniform('tol', 1e-7, 0.1)\n",
            "[I 2024-09-08 19:11:58,186] Trial 91 finished with value: 0.8510984631416326 and parameters: {'tol': 0.012927830873818096, 'C': 0.09401291499102926, 'max_iter': 211, 'penalty': 'l1'}. Best is trial 75 with value: 0.8511902617100653.\n",
            "<ipython-input-44-df72d73ccb67>:2: FutureWarning: suggest_loguniform has been deprecated in v3.0.0. This feature will be removed in v6.0.0. See https://github.com/optuna/optuna/releases/tag/v3.0.0. Use suggest_float(..., log=True) instead.\n",
            "  tol = trial.suggest_loguniform('tol', 1e-7, 0.1)\n",
            "[I 2024-09-08 19:11:58,463] Trial 92 finished with value: 0.850945754113676 and parameters: {'tol': 0.021037464644378043, 'C': 0.0925568687813208, 'max_iter': 241, 'penalty': 'l1'}. Best is trial 75 with value: 0.8511902617100653.\n",
            "<ipython-input-44-df72d73ccb67>:2: FutureWarning: suggest_loguniform has been deprecated in v3.0.0. This feature will be removed in v6.0.0. See https://github.com/optuna/optuna/releases/tag/v3.0.0. Use suggest_float(..., log=True) instead.\n",
            "  tol = trial.suggest_loguniform('tol', 1e-7, 0.1)\n",
            "[I 2024-09-08 19:11:58,966] Trial 93 finished with value: 0.8510736262372613 and parameters: {'tol': 0.00016334370561054036, 'C': 0.09451685746246798, 'max_iter': 210, 'penalty': 'l1'}. Best is trial 75 with value: 0.8511902617100653.\n",
            "<ipython-input-44-df72d73ccb67>:2: FutureWarning: suggest_loguniform has been deprecated in v3.0.0. This feature will be removed in v6.0.0. See https://github.com/optuna/optuna/releases/tag/v3.0.0. Use suggest_float(..., log=True) instead.\n",
            "  tol = trial.suggest_loguniform('tol', 1e-7, 0.1)\n",
            "[I 2024-09-08 19:11:59,422] Trial 94 finished with value: 0.8510727314860199 and parameters: {'tol': 0.003027968302610421, 'C': 0.09810209439159581, 'max_iter': 180, 'penalty': 'l1'}. Best is trial 75 with value: 0.8511902617100653.\n",
            "<ipython-input-44-df72d73ccb67>:2: FutureWarning: suggest_loguniform has been deprecated in v3.0.0. This feature will be removed in v6.0.0. See https://github.com/optuna/optuna/releases/tag/v3.0.0. Use suggest_float(..., log=True) instead.\n",
            "  tol = trial.suggest_loguniform('tol', 1e-7, 0.1)\n",
            "[I 2024-09-08 19:11:59,722] Trial 95 finished with value: 0.8511663142973948 and parameters: {'tol': 0.01186002499219508, 'C': 0.08966886574371077, 'max_iter': 270, 'penalty': 'l1'}. Best is trial 75 with value: 0.8511902617100653.\n",
            "<ipython-input-44-df72d73ccb67>:2: FutureWarning: suggest_loguniform has been deprecated in v3.0.0. This feature will be removed in v6.0.0. See https://github.com/optuna/optuna/releases/tag/v3.0.0. Use suggest_float(..., log=True) instead.\n",
            "  tol = trial.suggest_loguniform('tol', 1e-7, 0.1)\n",
            "[I 2024-09-08 19:12:00,074] Trial 96 finished with value: 0.8509217895487264 and parameters: {'tol': 0.009674305082912404, 'C': 0.08914352592683339, 'max_iter': 269, 'penalty': 'l1'}. Best is trial 75 with value: 0.8511902617100653.\n",
            "<ipython-input-44-df72d73ccb67>:2: FutureWarning: suggest_loguniform has been deprecated in v3.0.0. This feature will be removed in v6.0.0. See https://github.com/optuna/optuna/releases/tag/v3.0.0. Use suggest_float(..., log=True) instead.\n",
            "  tol = trial.suggest_loguniform('tol', 1e-7, 0.1)\n",
            "[I 2024-09-08 19:12:00,382] Trial 97 finished with value: 0.8509967447270842 and parameters: {'tol': 0.014839237100200471, 'C': 0.09197288604479484, 'max_iter': 231, 'penalty': 'l1'}. Best is trial 75 with value: 0.8511902617100653.\n",
            "<ipython-input-44-df72d73ccb67>:2: FutureWarning: suggest_loguniform has been deprecated in v3.0.0. This feature will be removed in v6.0.0. See https://github.com/optuna/optuna/releases/tag/v3.0.0. Use suggest_float(..., log=True) instead.\n",
            "  tol = trial.suggest_loguniform('tol', 1e-7, 0.1)\n",
            "[I 2024-09-08 19:12:00,748] Trial 98 finished with value: 0.8510315281456549 and parameters: {'tol': 0.008471429876344983, 'C': 0.0867398731471029, 'max_iter': 309, 'penalty': 'l1'}. Best is trial 75 with value: 0.8511902617100653.\n",
            "<ipython-input-44-df72d73ccb67>:2: FutureWarning: suggest_loguniform has been deprecated in v3.0.0. This feature will be removed in v6.0.0. See https://github.com/optuna/optuna/releases/tag/v3.0.0. Use suggest_float(..., log=True) instead.\n",
            "  tol = trial.suggest_loguniform('tol', 1e-7, 0.1)\n",
            "[I 2024-09-08 19:12:00,993] Trial 99 finished with value: 0.8505916207806846 and parameters: {'tol': 0.048662003674412604, 'C': 0.09039330301412857, 'max_iter': 247, 'penalty': 'l1'}. Best is trial 75 with value: 0.8511902617100653.\n"
          ]
        }
      ]
    },
    {
      "cell_type": "code",
      "source": [
        "study.best_params"
      ],
      "metadata": {
        "colab": {
          "base_uri": "https://localhost:8080/"
        },
        "id": "gXuESH4CDG9D",
        "outputId": "80a55acf-f2e1-41f1-ea4f-a5a77ba4430d"
      },
      "id": "gXuESH4CDG9D",
      "execution_count": null,
      "outputs": [
        {
          "output_type": "execute_result",
          "data": {
            "text/plain": [
              "{'tol': 0.00888429650708655,\n",
              " 'C': 0.09399522706301541,\n",
              " 'max_iter': 211,\n",
              " 'penalty': 'l1'}"
            ]
          },
          "metadata": {},
          "execution_count": 45
        }
      ]
    },
    {
      "cell_type": "code",
      "source": [
        "lr = LogisticRegression(\n",
        "    solver = 'liblinear',\n",
        "    tol = 0.008408625396645686,\n",
        "    C = 0.08440490508701622,\n",
        "    max_iter = 434,\n",
        "    penalty = 'l1')\n",
        "\n",
        "lr.fit(X_train, y_train)\n",
        "y_pred = lr.predict(X_test)\n",
        "y_pred_prob = lr.predict_proba(X_test)[:, 1]"
      ],
      "metadata": {
        "id": "c__j9Y-7DQJa"
      },
      "id": "c__j9Y-7DQJa",
      "execution_count": null,
      "outputs": []
    },
    {
      "cell_type": "code",
      "source": [
        "print(\"Actual values    :\", y_test.values[:20])\n",
        "print(\"Predicted values :\", y_pred[:20])"
      ],
      "metadata": {
        "colab": {
          "base_uri": "https://localhost:8080/"
        },
        "id": "Mb22cPHgDY_i",
        "outputId": "e9491748-bf39-4e2f-9171-6a9ecd44f27c"
      },
      "id": "Mb22cPHgDY_i",
      "execution_count": null,
      "outputs": [
        {
          "output_type": "stream",
          "name": "stdout",
          "text": [
            "Actual values    : [0 0 0 0 0 0 0 0 0 1 0 0 0 1 0 0 0 0 0 0]\n",
            "Predicted values : [0 1 0 0 0 1 0 0 0 0 0 0 0 1 0 0 0 1 0 0]\n"
          ]
        }
      ]
    },
    {
      "cell_type": "markdown",
      "source": [
        "## here we can see the difference between actual and predicted values"
      ],
      "metadata": {
        "id": "pB5ZkspInbSv"
      },
      "id": "pB5ZkspInbSv"
    },
    {
      "cell_type": "code",
      "source": [
        "predictions = pd.DataFrame({'Probability of Customer Churning': y_pred_prob, 'Probability of customer not churning' : 1 - y_pred_prob})\n",
        "predictions.head()"
      ],
      "metadata": {
        "colab": {
          "base_uri": "https://localhost:8080/",
          "height": 206
        },
        "id": "fPeoF9cfDZqJ",
        "outputId": "d9d921e9-f445-4a7f-8b24-be986939c13d"
      },
      "id": "fPeoF9cfDZqJ",
      "execution_count": null,
      "outputs": [
        {
          "output_type": "execute_result",
          "data": {
            "text/plain": [
              "   Probability of Customer Churning  Probability of customer not churning\n",
              "0                          0.059138                              0.940862\n",
              "1                          0.681336                              0.318664\n",
              "2                          0.065112                              0.934888\n",
              "3                          0.325399                              0.674601\n",
              "4                          0.033453                              0.966547"
            ],
            "text/html": [
              "\n",
              "  <div id=\"df-85dcc060-9142-4e3e-bb22-f39032a9aaaf\" class=\"colab-df-container\">\n",
              "    <div>\n",
              "<style scoped>\n",
              "    .dataframe tbody tr th:only-of-type {\n",
              "        vertical-align: middle;\n",
              "    }\n",
              "\n",
              "    .dataframe tbody tr th {\n",
              "        vertical-align: top;\n",
              "    }\n",
              "\n",
              "    .dataframe thead th {\n",
              "        text-align: right;\n",
              "    }\n",
              "</style>\n",
              "<table border=\"1\" class=\"dataframe\">\n",
              "  <thead>\n",
              "    <tr style=\"text-align: right;\">\n",
              "      <th></th>\n",
              "      <th>Probability of Customer Churning</th>\n",
              "      <th>Probability of customer not churning</th>\n",
              "    </tr>\n",
              "  </thead>\n",
              "  <tbody>\n",
              "    <tr>\n",
              "      <th>0</th>\n",
              "      <td>0.059138</td>\n",
              "      <td>0.940862</td>\n",
              "    </tr>\n",
              "    <tr>\n",
              "      <th>1</th>\n",
              "      <td>0.681336</td>\n",
              "      <td>0.318664</td>\n",
              "    </tr>\n",
              "    <tr>\n",
              "      <th>2</th>\n",
              "      <td>0.065112</td>\n",
              "      <td>0.934888</td>\n",
              "    </tr>\n",
              "    <tr>\n",
              "      <th>3</th>\n",
              "      <td>0.325399</td>\n",
              "      <td>0.674601</td>\n",
              "    </tr>\n",
              "    <tr>\n",
              "      <th>4</th>\n",
              "      <td>0.033453</td>\n",
              "      <td>0.966547</td>\n",
              "    </tr>\n",
              "  </tbody>\n",
              "</table>\n",
              "</div>\n",
              "    <div class=\"colab-df-buttons\">\n",
              "\n",
              "  <div class=\"colab-df-container\">\n",
              "    <button class=\"colab-df-convert\" onclick=\"convertToInteractive('df-85dcc060-9142-4e3e-bb22-f39032a9aaaf')\"\n",
              "            title=\"Convert this dataframe to an interactive table.\"\n",
              "            style=\"display:none;\">\n",
              "\n",
              "  <svg xmlns=\"http://www.w3.org/2000/svg\" height=\"24px\" viewBox=\"0 -960 960 960\">\n",
              "    <path d=\"M120-120v-720h720v720H120Zm60-500h600v-160H180v160Zm220 220h160v-160H400v160Zm0 220h160v-160H400v160ZM180-400h160v-160H180v160Zm440 0h160v-160H620v160ZM180-180h160v-160H180v160Zm440 0h160v-160H620v160Z\"/>\n",
              "  </svg>\n",
              "    </button>\n",
              "\n",
              "  <style>\n",
              "    .colab-df-container {\n",
              "      display:flex;\n",
              "      gap: 12px;\n",
              "    }\n",
              "\n",
              "    .colab-df-convert {\n",
              "      background-color: #E8F0FE;\n",
              "      border: none;\n",
              "      border-radius: 50%;\n",
              "      cursor: pointer;\n",
              "      display: none;\n",
              "      fill: #1967D2;\n",
              "      height: 32px;\n",
              "      padding: 0 0 0 0;\n",
              "      width: 32px;\n",
              "    }\n",
              "\n",
              "    .colab-df-convert:hover {\n",
              "      background-color: #E2EBFA;\n",
              "      box-shadow: 0px 1px 2px rgba(60, 64, 67, 0.3), 0px 1px 3px 1px rgba(60, 64, 67, 0.15);\n",
              "      fill: #174EA6;\n",
              "    }\n",
              "\n",
              "    .colab-df-buttons div {\n",
              "      margin-bottom: 4px;\n",
              "    }\n",
              "\n",
              "    [theme=dark] .colab-df-convert {\n",
              "      background-color: #3B4455;\n",
              "      fill: #D2E3FC;\n",
              "    }\n",
              "\n",
              "    [theme=dark] .colab-df-convert:hover {\n",
              "      background-color: #434B5C;\n",
              "      box-shadow: 0px 1px 3px 1px rgba(0, 0, 0, 0.15);\n",
              "      filter: drop-shadow(0px 1px 2px rgba(0, 0, 0, 0.3));\n",
              "      fill: #FFFFFF;\n",
              "    }\n",
              "  </style>\n",
              "\n",
              "    <script>\n",
              "      const buttonEl =\n",
              "        document.querySelector('#df-85dcc060-9142-4e3e-bb22-f39032a9aaaf button.colab-df-convert');\n",
              "      buttonEl.style.display =\n",
              "        google.colab.kernel.accessAllowed ? 'block' : 'none';\n",
              "\n",
              "      async function convertToInteractive(key) {\n",
              "        const element = document.querySelector('#df-85dcc060-9142-4e3e-bb22-f39032a9aaaf');\n",
              "        const dataTable =\n",
              "          await google.colab.kernel.invokeFunction('convertToInteractive',\n",
              "                                                    [key], {});\n",
              "        if (!dataTable) return;\n",
              "\n",
              "        const docLinkHtml = 'Like what you see? Visit the ' +\n",
              "          '<a target=\"_blank\" href=https://colab.research.google.com/notebooks/data_table.ipynb>data table notebook</a>'\n",
              "          + ' to learn more about interactive tables.';\n",
              "        element.innerHTML = '';\n",
              "        dataTable['output_type'] = 'display_data';\n",
              "        await google.colab.output.renderOutput(dataTable, element);\n",
              "        const docLink = document.createElement('div');\n",
              "        docLink.innerHTML = docLinkHtml;\n",
              "        element.appendChild(docLink);\n",
              "      }\n",
              "    </script>\n",
              "  </div>\n",
              "\n",
              "\n",
              "<div id=\"df-3c1e939f-2d15-470f-a44c-0d8c3572bbdb\">\n",
              "  <button class=\"colab-df-quickchart\" onclick=\"quickchart('df-3c1e939f-2d15-470f-a44c-0d8c3572bbdb')\"\n",
              "            title=\"Suggest charts\"\n",
              "            style=\"display:none;\">\n",
              "\n",
              "<svg xmlns=\"http://www.w3.org/2000/svg\" height=\"24px\"viewBox=\"0 0 24 24\"\n",
              "     width=\"24px\">\n",
              "    <g>\n",
              "        <path d=\"M19 3H5c-1.1 0-2 .9-2 2v14c0 1.1.9 2 2 2h14c1.1 0 2-.9 2-2V5c0-1.1-.9-2-2-2zM9 17H7v-7h2v7zm4 0h-2V7h2v10zm4 0h-2v-4h2v4z\"/>\n",
              "    </g>\n",
              "</svg>\n",
              "  </button>\n",
              "\n",
              "<style>\n",
              "  .colab-df-quickchart {\n",
              "      --bg-color: #E8F0FE;\n",
              "      --fill-color: #1967D2;\n",
              "      --hover-bg-color: #E2EBFA;\n",
              "      --hover-fill-color: #174EA6;\n",
              "      --disabled-fill-color: #AAA;\n",
              "      --disabled-bg-color: #DDD;\n",
              "  }\n",
              "\n",
              "  [theme=dark] .colab-df-quickchart {\n",
              "      --bg-color: #3B4455;\n",
              "      --fill-color: #D2E3FC;\n",
              "      --hover-bg-color: #434B5C;\n",
              "      --hover-fill-color: #FFFFFF;\n",
              "      --disabled-bg-color: #3B4455;\n",
              "      --disabled-fill-color: #666;\n",
              "  }\n",
              "\n",
              "  .colab-df-quickchart {\n",
              "    background-color: var(--bg-color);\n",
              "    border: none;\n",
              "    border-radius: 50%;\n",
              "    cursor: pointer;\n",
              "    display: none;\n",
              "    fill: var(--fill-color);\n",
              "    height: 32px;\n",
              "    padding: 0;\n",
              "    width: 32px;\n",
              "  }\n",
              "\n",
              "  .colab-df-quickchart:hover {\n",
              "    background-color: var(--hover-bg-color);\n",
              "    box-shadow: 0 1px 2px rgba(60, 64, 67, 0.3), 0 1px 3px 1px rgba(60, 64, 67, 0.15);\n",
              "    fill: var(--button-hover-fill-color);\n",
              "  }\n",
              "\n",
              "  .colab-df-quickchart-complete:disabled,\n",
              "  .colab-df-quickchart-complete:disabled:hover {\n",
              "    background-color: var(--disabled-bg-color);\n",
              "    fill: var(--disabled-fill-color);\n",
              "    box-shadow: none;\n",
              "  }\n",
              "\n",
              "  .colab-df-spinner {\n",
              "    border: 2px solid var(--fill-color);\n",
              "    border-color: transparent;\n",
              "    border-bottom-color: var(--fill-color);\n",
              "    animation:\n",
              "      spin 1s steps(1) infinite;\n",
              "  }\n",
              "\n",
              "  @keyframes spin {\n",
              "    0% {\n",
              "      border-color: transparent;\n",
              "      border-bottom-color: var(--fill-color);\n",
              "      border-left-color: var(--fill-color);\n",
              "    }\n",
              "    20% {\n",
              "      border-color: transparent;\n",
              "      border-left-color: var(--fill-color);\n",
              "      border-top-color: var(--fill-color);\n",
              "    }\n",
              "    30% {\n",
              "      border-color: transparent;\n",
              "      border-left-color: var(--fill-color);\n",
              "      border-top-color: var(--fill-color);\n",
              "      border-right-color: var(--fill-color);\n",
              "    }\n",
              "    40% {\n",
              "      border-color: transparent;\n",
              "      border-right-color: var(--fill-color);\n",
              "      border-top-color: var(--fill-color);\n",
              "    }\n",
              "    60% {\n",
              "      border-color: transparent;\n",
              "      border-right-color: var(--fill-color);\n",
              "    }\n",
              "    80% {\n",
              "      border-color: transparent;\n",
              "      border-right-color: var(--fill-color);\n",
              "      border-bottom-color: var(--fill-color);\n",
              "    }\n",
              "    90% {\n",
              "      border-color: transparent;\n",
              "      border-bottom-color: var(--fill-color);\n",
              "    }\n",
              "  }\n",
              "</style>\n",
              "\n",
              "  <script>\n",
              "    async function quickchart(key) {\n",
              "      const quickchartButtonEl =\n",
              "        document.querySelector('#' + key + ' button');\n",
              "      quickchartButtonEl.disabled = true;  // To prevent multiple clicks.\n",
              "      quickchartButtonEl.classList.add('colab-df-spinner');\n",
              "      try {\n",
              "        const charts = await google.colab.kernel.invokeFunction(\n",
              "            'suggestCharts', [key], {});\n",
              "      } catch (error) {\n",
              "        console.error('Error during call to suggestCharts:', error);\n",
              "      }\n",
              "      quickchartButtonEl.classList.remove('colab-df-spinner');\n",
              "      quickchartButtonEl.classList.add('colab-df-quickchart-complete');\n",
              "    }\n",
              "    (() => {\n",
              "      let quickchartButtonEl =\n",
              "        document.querySelector('#df-3c1e939f-2d15-470f-a44c-0d8c3572bbdb button');\n",
              "      quickchartButtonEl.style.display =\n",
              "        google.colab.kernel.accessAllowed ? 'block' : 'none';\n",
              "    })();\n",
              "  </script>\n",
              "</div>\n",
              "\n",
              "    </div>\n",
              "  </div>\n"
            ],
            "application/vnd.google.colaboratory.intrinsic+json": {
              "type": "dataframe",
              "variable_name": "predictions",
              "summary": "{\n  \"name\": \"predictions\",\n  \"rows\": 1409,\n  \"fields\": [\n    {\n      \"column\": \"Probability of Customer Churning\",\n      \"properties\": {\n        \"dtype\": \"number\",\n        \"std\": 0.24683441255553884,\n        \"min\": 0.006277973057076463,\n        \"max\": 0.9214387579442999,\n        \"num_unique_values\": 1405,\n        \"samples\": [\n          0.09988726134700068,\n          0.011198958099887623,\n          0.18365596571679677\n        ],\n        \"semantic_type\": \"\",\n        \"description\": \"\"\n      }\n    },\n    {\n      \"column\": \"Probability of customer not churning\",\n      \"properties\": {\n        \"dtype\": \"number\",\n        \"std\": 0.24683441255553884,\n        \"min\": 0.07856124205570014,\n        \"max\": 0.9937220269429236,\n        \"num_unique_values\": 1405,\n        \"samples\": [\n          0.9001127386529993,\n          0.9888010419001124,\n          0.8163440342832032\n        ],\n        \"semantic_type\": \"\",\n        \"description\": \"\"\n      }\n    }\n  ]\n}"
            }
          },
          "metadata": {},
          "execution_count": 48
        }
      ]
    },
    {
      "cell_type": "code",
      "source": [
        "print('ROC AUC Score:', round(roc_auc_score(y_test, y_pred_prob), 3))"
      ],
      "metadata": {
        "colab": {
          "base_uri": "https://localhost:8080/"
        },
        "id": "CCqMxzTYDhQG",
        "outputId": "442cccb8-7abd-4c0a-afc5-33a0f5eed879"
      },
      "id": "CCqMxzTYDhQG",
      "execution_count": null,
      "outputs": [
        {
          "output_type": "stream",
          "name": "stdout",
          "text": [
            "ROC AUC Score: 0.849\n"
          ]
        }
      ]
    },
    {
      "cell_type": "code",
      "source": [
        "skplt.metrics.plot_confusion_matrix(y_test, y_pred, figsize=(6,6), cmap= 'YlGnBu');\n"
      ],
      "metadata": {
        "colab": {
          "base_uri": "https://localhost:8080/",
          "height": 519
        },
        "id": "g9HroD1MDmLN",
        "outputId": "2fdaa492-a0f3-4b59-ba9f-1911eb5377ae"
      },
      "id": "g9HroD1MDmLN",
      "execution_count": null,
      "outputs": [
        {
          "output_type": "display_data",
          "data": {
            "text/plain": [
              "<Figure size 600x600 with 2 Axes>"
            ],
            "image/png": "[encoded data removed]"
          },
          "metadata": {}
        }
      ]
    },
    {
      "cell_type": "code",
      "source": [
        "fpr, tpr, thresholds = roc_curve(y_test, y_pred_prob)\n",
        "\n",
        "plt.figure(figsize=(6,4))\n",
        "plt.plot(fpr, tpr, linewidth=2, color= 'teal')\n",
        "plt.plot([0,1], [0,1], 'r--' )\n",
        "plt.title('ROC Curve')\n",
        "plt.xlabel('False Positive Rate')\n",
        "plt.ylabel('True Positive Rate')\n",
        "\n",
        "plt.show()"
      ],
      "metadata": {
        "colab": {
          "base_uri": "https://localhost:8080/",
          "height": 432
        },
        "id": "voxKzY9rD7L9",
        "outputId": "0ebac9dc-3e84-48d5-b25f-21b641b29cb9"
      },
      "id": "voxKzY9rD7L9",
      "execution_count": null,
      "outputs": [
        {
          "output_type": "display_data",
          "data": {
            "text/plain": [
              "<Figure size 600x400 with 1 Axes>"
            ],
            "image/png": "[encoded data removed]"
          },
          "metadata": {}
        }
      ]
    },
    {
      "cell_type": "markdown",
      "source": [
        "## **LETS TRY WITH ANN**"
      ],
      "metadata": {
        "id": "ZmuWu7rcEcjE"
      },
      "id": "ZmuWu7rcEcjE"
    },
    {
      "cell_type": "code",
      "source": [
        "X_train.shape"
      ],
      "metadata": {
        "colab": {
          "base_uri": "https://localhost:8080/"
        },
        "id": "blZoTy-EEfcE",
        "outputId": "1be892b2-1c31-4f4b-edbb-d9120f4593e4"
      },
      "id": "blZoTy-EEfcE",
      "execution_count": null,
      "outputs": [
        {
          "output_type": "execute_result",
          "data": {
            "text/plain": [
              "(5634, 21)"
            ]
          },
          "metadata": {},
          "execution_count": 55
        }
      ]
    },
    {
      "cell_type": "code",
      "source": [
        "model = tf.keras.Sequential([\n",
        "    tf.keras.Input(shape=(21,)),  # Correct input shape\n",
        "    tf.keras.layers.Dense(50, activation='relu'),\n",
        "    tf.keras.layers.Dense(50, activation='relu'),\n",
        "    tf.keras.layers.Dense(1, activation='sigmoid')\n",
        "])\n",
        "\n",
        "early_stopping = tf.keras.callbacks.EarlyStopping(\n",
        "    monitor='val_loss', min_delta=0, patience=5, verbose=0,\n",
        "    mode='auto', baseline=None, restore_best_weights=True\n",
        ")\n",
        "\n",
        "model.compile(\n",
        "    optimizer='adam',\n",
        "    loss='binary_crossentropy',\n",
        "    metrics=[tf.keras.metrics.AUC(name='auc')]\n",
        ")\n",
        "\n",
        "BATCH_SIZE = 100\n",
        "EPOCHS = 10\n",
        "\n",
        "history = model.fit(\n",
        "    X_train,\n",
        "    y_train,\n",
        "    validation_split=0.20,\n",
        "    batch_size=BATCH_SIZE,\n",
        "    epochs=EPOCHS,\n",
        "    verbose=0,\n",
        "    callbacks=[early_stopping]\n",
        ")\n"
      ],
      "metadata": {
        "id": "bmhQZoAYFAaM"
      },
      "id": "bmhQZoAYFAaM",
      "execution_count": null,
      "outputs": []
    },
    {
      "cell_type": "code",
      "source": [
        "history.history.keys()"
      ],
      "metadata": {
        "colab": {
          "base_uri": "https://localhost:8080/"
        },
        "id": "czcsu7q4FHgs",
        "outputId": "20783b3b-cd24-4464-c6cc-12050bba5e5c"
      },
      "id": "czcsu7q4FHgs",
      "execution_count": null,
      "outputs": [
        {
          "output_type": "execute_result",
          "data": {
            "text/plain": [
              "dict_keys(['auc', 'loss', 'val_auc', 'val_loss'])"
            ]
          },
          "metadata": {},
          "execution_count": 58
        }
      ]
    },
    {
      "cell_type": "markdown",
      "source": [
        "### **Plotting Results**"
      ],
      "metadata": {
        "id": "AkB9q4EIFLn0"
      },
      "id": "AkB9q4EIFLn0"
    },
    {
      "cell_type": "code",
      "source": [
        "plt.figure(figsize=(10, 6))\n",
        "\n",
        "epochs = range(1, EPOCHS + 1)\n",
        "train_loss = history.history['loss']\n",
        "val_loss = history.history['val_loss']\n",
        "\n",
        "plt.plot(epochs, train_loss, label=\"Training Loss\")\n",
        "plt.plot(epochs, val_loss, label=\"Validation Loss\")\n",
        "\n",
        "plt.title(\"Training and Validation Loss\")\n",
        "plt.xlabel(\"Epoch\")\n",
        "plt.ylabel(\"Loss\")\n",
        "plt.legend()\n",
        "\n",
        "plt.show()"
      ],
      "metadata": {
        "colab": {
          "base_uri": "https://localhost:8080/",
          "height": 540
        },
        "id": "wYFOuR1wFMcg",
        "outputId": "b69cfdf7-3bc3-4042-9001-17ddf993cd5d"
      },
      "id": "wYFOuR1wFMcg",
      "execution_count": null,
      "outputs": [
        {
          "output_type": "display_data",
          "data": {
            "text/plain": [
              "<Figure size 1000x600 with 1 Axes>"
            ],
            "image/png": "[encoded data removed]"
          },
          "metadata": {}
        }
      ]
    },
    {
      "cell_type": "code",
      "source": [
        "np.argmin(val_loss)"
      ],
      "metadata": {
        "colab": {
          "base_uri": "https://localhost:8080/"
        },
        "id": "BUeTW_3GFRz0",
        "outputId": "08249a67-4407-4a11-be6d-76379afb7d3e"
      },
      "id": "BUeTW_3GFRz0",
      "execution_count": null,
      "outputs": [
        {
          "output_type": "execute_result",
          "data": {
            "text/plain": [
              "8"
            ]
          },
          "metadata": {},
          "execution_count": 60
        }
      ]
    },
    {
      "cell_type": "code",
      "source": [
        "model.evaluate(X_test, y_test)"
      ],
      "metadata": {
        "colab": {
          "base_uri": "https://localhost:8080/"
        },
        "id": "e-HLWWphFaC0",
        "outputId": "a1471ce2-f025-4d23-df09-213bcf4d35ba"
      },
      "id": "e-HLWWphFaC0",
      "execution_count": null,
      "outputs": [
        {
          "output_type": "stream",
          "name": "stdout",
          "text": [
            "\u001b[1m45/45\u001b[0m \u001b[32m━━━━━━━━━━━━━━━━━━━━\u001b[0m\u001b[37m\u001b[0m \u001b[1m0s\u001b[0m 2ms/step - auc: 0.8378 - loss: 0.4273\n"
          ]
        },
        {
          "output_type": "execute_result",
          "data": {
            "text/plain": [
              "[0.41894426941871643, 0.8432599902153015]"
            ]
          },
          "metadata": {},
          "execution_count": 61
        }
      ]
    },
    {
      "cell_type": "code",
      "source": [
        "from tensorflow.keras.layers import Dropout\n",
        "from tensorflow.keras.optimizers import Adam\n",
        "from sklearn.preprocessing import StandardScaler\n",
        "\n",
        "# Assuming X_train and y_train are already loaded\n",
        "\n",
        "# Normalize the input data\n",
        "scaler = StandardScaler()\n",
        "X_train_scaled = scaler.fit_transform(X_train)\n",
        "\n",
        "# Updated model with more units and dropout layers\n",
        "model = tf.keras.Sequential([\n",
        "    tf.keras.Input(shape=(21,)),\n",
        "    tf.keras.layers.Dense(128, activation='relu'),  # Increased units\n",
        "    Dropout(0.3),  # Dropout layer to prevent overfitting\n",
        "    tf.keras.layers.Dense(64, activation='relu'),\n",
        "    Dropout(0.3),\n",
        "    tf.keras.layers.Dense(32, activation='relu'),\n",
        "    tf.keras.layers.Dense(1, activation='sigmoid')\n",
        "])\n",
        "\n",
        "# Early stopping callback\n",
        "early_stopping = tf.keras.callbacks.EarlyStopping(\n",
        "    monitor='val_loss', min_delta=0.001, patience=10, verbose=1,\n",
        "    mode='auto', restore_best_weights=True\n",
        ")\n",
        "\n",
        "# Compile model with a custom learning rate\n",
        "model.compile(\n",
        "    optimizer=Adam(learning_rate=0.0005),  # Lower learning rate\n",
        "    loss='binary_crossentropy',\n",
        "    metrics=[tf.keras.metrics.AUC(name='auc')]\n",
        ")\n",
        "\n",
        "BATCH_SIZE = 100\n",
        "EPOCHS = 50  # Increased epochs\n",
        "\n",
        "history = model.fit(\n",
        "    X_train_scaled,  # Use normalized data\n",
        "    y_train,\n",
        "    validation_split=0.20,\n",
        "    batch_size=BATCH_SIZE,\n",
        "    epochs=EPOCHS,\n",
        "    verbose=1,\n",
        "    callbacks=[early_stopping]\n",
        ")\n"
      ],
      "metadata": {
        "colab": {
          "base_uri": "https://localhost:8080/"
        },
        "id": "Iv46-HE4GEFD",
        "outputId": "c909c832-9c5d-4d24-b1a8-1edf1ed45dac"
      },
      "id": "Iv46-HE4GEFD",
      "execution_count": null,
      "outputs": [
        {
          "output_type": "stream",
          "name": "stdout",
          "text": [
            "Epoch 1/50\n",
            "\u001b[1m46/46\u001b[0m \u001b[32m━━━━━━━━━━━━━━━━━━━━\u001b[0m\u001b[37m\u001b[0m \u001b[1m2s\u001b[0m 9ms/step - auc: 0.5956 - loss: 0.6130 - val_auc: 0.7959 - val_loss: 0.4779\n",
            "Epoch 2/50\n",
            "\u001b[1m46/46\u001b[0m \u001b[32m━━━━━━━━━━━━━━━━━━━━\u001b[0m\u001b[37m\u001b[0m \u001b[1m0s\u001b[0m 3ms/step - auc: 0.8107 - loss: 0.4636 - val_auc: 0.8182 - val_loss: 0.4428\n",
            "Epoch 3/50\n",
            "\u001b[1m46/46\u001b[0m \u001b[32m━━━━━━━━━━━━━━━━━━━━\u001b[0m\u001b[37m\u001b[0m \u001b[1m0s\u001b[0m 3ms/step - auc: 0.8263 - loss: 0.4467 - val_auc: 0.8239 - val_loss: 0.4366\n",
            "Epoch 4/50\n",
            "\u001b[1m46/46\u001b[0m \u001b[32m━━━━━━━━━━━━━━━━━━━━\u001b[0m\u001b[37m\u001b[0m \u001b[1m0s\u001b[0m 3ms/step - auc: 0.8423 - loss: 0.4231 - val_auc: 0.8279 - val_loss: 0.4335\n",
            "Epoch 5/50\n",
            "\u001b[1m46/46\u001b[0m \u001b[32m━━━━━━━━━━━━━━━━━━━━\u001b[0m\u001b[37m\u001b[0m \u001b[1m0s\u001b[0m 3ms/step - auc: 0.8438 - loss: 0.4170 - val_auc: 0.8291 - val_loss: 0.4318\n",
            "Epoch 6/50\n",
            "\u001b[1m46/46\u001b[0m \u001b[32m━━━━━━━━━━━━━━━━━━━━\u001b[0m\u001b[37m\u001b[0m \u001b[1m0s\u001b[0m 4ms/step - auc: 0.8479 - loss: 0.4099 - val_auc: 0.8305 - val_loss: 0.4322\n",
            "Epoch 7/50\n",
            "\u001b[1m46/46\u001b[0m \u001b[32m━━━━━━━━━━━━━━━━━━━━\u001b[0m\u001b[37m\u001b[0m \u001b[1m0s\u001b[0m 3ms/step - auc: 0.8468 - loss: 0.4132 - val_auc: 0.8302 - val_loss: 0.4318\n",
            "Epoch 8/50\n",
            "\u001b[1m46/46\u001b[0m \u001b[32m━━━━━━━━━━━━━━━━━━━━\u001b[0m\u001b[37m\u001b[0m \u001b[1m0s\u001b[0m 3ms/step - auc: 0.8468 - loss: 0.4171 - val_auc: 0.8300 - val_loss: 0.4314\n",
            "Epoch 9/50\n",
            "\u001b[1m46/46\u001b[0m \u001b[32m━━━━━━━━━━━━━━━━━━━━\u001b[0m\u001b[37m\u001b[0m \u001b[1m0s\u001b[0m 3ms/step - auc: 0.8467 - loss: 0.4136 - val_auc: 0.8300 - val_loss: 0.4302\n",
            "Epoch 10/50\n",
            "\u001b[1m46/46\u001b[0m \u001b[32m━━━━━━━━━━━━━━━━━━━━\u001b[0m\u001b[37m\u001b[0m \u001b[1m0s\u001b[0m 3ms/step - auc: 0.8546 - loss: 0.4030 - val_auc: 0.8302 - val_loss: 0.4310\n",
            "Epoch 11/50\n",
            "\u001b[1m46/46\u001b[0m \u001b[32m━━━━━━━━━━━━━━━━━━━━\u001b[0m\u001b[37m\u001b[0m \u001b[1m0s\u001b[0m 3ms/step - auc: 0.8489 - loss: 0.4055 - val_auc: 0.8306 - val_loss: 0.4311\n",
            "Epoch 12/50\n",
            "\u001b[1m46/46\u001b[0m \u001b[32m━━━━━━━━━━━━━━━━━━━━\u001b[0m\u001b[37m\u001b[0m \u001b[1m0s\u001b[0m 3ms/step - auc: 0.8553 - loss: 0.4057 - val_auc: 0.8311 - val_loss: 0.4301\n",
            "Epoch 13/50\n",
            "\u001b[1m46/46\u001b[0m \u001b[32m━━━━━━━━━━━━━━━━━━━━\u001b[0m\u001b[37m\u001b[0m \u001b[1m0s\u001b[0m 3ms/step - auc: 0.8502 - loss: 0.4192 - val_auc: 0.8305 - val_loss: 0.4291\n",
            "Epoch 14/50\n",
            "\u001b[1m46/46\u001b[0m \u001b[32m━━━━━━━━━━━━━━━━━━━━\u001b[0m\u001b[37m\u001b[0m \u001b[1m0s\u001b[0m 4ms/step - auc: 0.8566 - loss: 0.4019 - val_auc: 0.8303 - val_loss: 0.4313\n",
            "Epoch 15/50\n",
            "\u001b[1m46/46\u001b[0m \u001b[32m━━━━━━━━━━━━━━━━━━━━\u001b[0m\u001b[37m\u001b[0m \u001b[1m0s\u001b[0m 3ms/step - auc: 0.8571 - loss: 0.4080 - val_auc: 0.8294 - val_loss: 0.4317\n",
            "Epoch 16/50\n",
            "\u001b[1m46/46\u001b[0m \u001b[32m━━━━━━━━━━━━━━━━━━━━\u001b[0m\u001b[37m\u001b[0m \u001b[1m0s\u001b[0m 4ms/step - auc: 0.8550 - loss: 0.4120 - val_auc: 0.8299 - val_loss: 0.4304\n",
            "Epoch 17/50\n",
            "\u001b[1m46/46\u001b[0m \u001b[32m━━━━━━━━━━━━━━━━━━━━\u001b[0m\u001b[37m\u001b[0m \u001b[1m0s\u001b[0m 3ms/step - auc: 0.8591 - loss: 0.4053 - val_auc: 0.8310 - val_loss: 0.4303\n",
            "Epoch 18/50\n",
            "\u001b[1m46/46\u001b[0m \u001b[32m━━━━━━━━━━━━━━━━━━━━\u001b[0m\u001b[37m\u001b[0m \u001b[1m0s\u001b[0m 3ms/step - auc: 0.8455 - loss: 0.4200 - val_auc: 0.8302 - val_loss: 0.4292\n",
            "Epoch 19/50\n",
            "\u001b[1m46/46\u001b[0m \u001b[32m━━━━━━━━━━━━━━━━━━━━\u001b[0m\u001b[37m\u001b[0m \u001b[1m0s\u001b[0m 3ms/step - auc: 0.8512 - loss: 0.4040 - val_auc: 0.8305 - val_loss: 0.4314\n",
            "Epoch 20/50\n",
            "\u001b[1m46/46\u001b[0m \u001b[32m━━━━━━━━━━━━━━━━━━━━\u001b[0m\u001b[37m\u001b[0m \u001b[1m0s\u001b[0m 3ms/step - auc: 0.8585 - loss: 0.3993 - val_auc: 0.8298 - val_loss: 0.4303\n",
            "Epoch 21/50\n",
            "\u001b[1m46/46\u001b[0m \u001b[32m━━━━━━━━━━━━━━━━━━━━\u001b[0m\u001b[37m\u001b[0m \u001b[1m0s\u001b[0m 3ms/step - auc: 0.8645 - loss: 0.3968 - val_auc: 0.8296 - val_loss: 0.4302\n",
            "Epoch 22/50\n",
            "\u001b[1m46/46\u001b[0m \u001b[32m━━━━━━━━━━━━━━━━━━━━\u001b[0m\u001b[37m\u001b[0m \u001b[1m0s\u001b[0m 3ms/step - auc: 0.8679 - loss: 0.3893 - val_auc: 0.8291 - val_loss: 0.4317\n",
            "Epoch 23/50\n",
            "\u001b[1m46/46\u001b[0m \u001b[32m━━━━━━━━━━━━━━━━━━━━\u001b[0m\u001b[37m\u001b[0m \u001b[1m0s\u001b[0m 3ms/step - auc: 0.8760 - loss: 0.3789 - val_auc: 0.8289 - val_loss: 0.4326\n",
            "Epoch 23: early stopping\n",
            "Restoring model weights from the end of the best epoch: 13.\n"
          ]
        }
      ]
    },
    {
      "cell_type": "code",
      "source": [
        "history.history.keys()"
      ],
      "metadata": {
        "colab": {
          "base_uri": "https://localhost:8080/"
        },
        "id": "G7HIBu-dHWoK",
        "outputId": "ec8800eb-295e-418a-977f-d1a90197ea82"
      },
      "id": "G7HIBu-dHWoK",
      "execution_count": null,
      "outputs": [
        {
          "output_type": "execute_result",
          "data": {
            "text/plain": [
              "dict_keys(['auc', 'loss', 'val_auc', 'val_loss'])"
            ]
          },
          "metadata": {},
          "execution_count": 70
        }
      ]
    },
    {
      "cell_type": "code",
      "source": [
        "np.argmin(val_loss)\n"
      ],
      "metadata": {
        "colab": {
          "base_uri": "https://localhost:8080/"
        },
        "id": "_xdF_NX1IA9b",
        "outputId": "6fc19637-4127-4747-cf1a-7b8d9c780376"
      },
      "id": "_xdF_NX1IA9b",
      "execution_count": null,
      "outputs": [
        {
          "output_type": "execute_result",
          "data": {
            "text/plain": [
              "12"
            ]
          },
          "metadata": {},
          "execution_count": 72
        }
      ]
    },
    {
      "cell_type": "code",
      "source": [
        "model.evaluate(X_test, y_test)"
      ],
      "metadata": {
        "colab": {
          "base_uri": "https://localhost:8080/"
        },
        "id": "W4gNm_TMIER5",
        "outputId": "df77a9e9-7e41-4e54-91cc-543389e12aca"
      },
      "id": "W4gNm_TMIER5",
      "execution_count": null,
      "outputs": [
        {
          "output_type": "stream",
          "name": "stdout",
          "text": [
            "\u001b[1m45/45\u001b[0m \u001b[32m━━━━━━━━━━━━━━━━━━━━\u001b[0m\u001b[37m\u001b[0m \u001b[1m0s\u001b[0m 1ms/step - auc: 0.8418 - loss: 0.4219\n"
          ]
        },
        {
          "output_type": "execute_result",
          "data": {
            "text/plain": [
              "[0.41628047823905945, 0.8447750806808472]"
            ]
          },
          "metadata": {},
          "execution_count": 73
        }
      ]
    },
    {
      "cell_type": "code",
      "source": [
        "# Assuming X_test and y_test are the test datasets\n",
        "\n",
        "# Scale the test data using the same scaler used for training\n",
        "X_test_scaled = scaler.transform(X_test)\n",
        "\n",
        "# Evaluate the model on the test set\n",
        "test_loss, test_auc = model.evaluate(X_test_scaled, y_test, verbose=0)\n",
        "print(f\"Test Loss: {test_loss}\")\n",
        "print(f\"Test AUC: {test_auc}\")\n"
      ],
      "metadata": {
        "colab": {
          "base_uri": "https://localhost:8080/"
        },
        "id": "VpPqKYH-GEKD",
        "outputId": "11579154-8eec-4a3b-aa6c-c9281633cf37"
      },
      "id": "VpPqKYH-GEKD",
      "execution_count": null,
      "outputs": [
        {
          "output_type": "stream",
          "name": "stdout",
          "text": [
            "Test Loss: 0.4167633056640625\n",
            "Test AUC: 0.8451535701751709\n"
          ]
        }
      ]
    },
    {
      "cell_type": "code",
      "source": [
        "# Get predictions for test data\n",
        "y_pred = model.predict(X_test_scaled)\n",
        "y_pred_class = (y_pred > 0.5).astype(int)  # Convert probabilities to binary class (0 or 1)\n"
      ],
      "metadata": {
        "colab": {
          "base_uri": "https://localhost:8080/"
        },
        "id": "0IQjJvh4GrLj",
        "outputId": "2692f3b5-37f9-4909-dd7c-8a2234a003ee"
      },
      "id": "0IQjJvh4GrLj",
      "execution_count": null,
      "outputs": [
        {
          "output_type": "stream",
          "name": "stdout",
          "text": [
            "\u001b[1m45/45\u001b[0m \u001b[32m━━━━━━━━━━━━━━━━━━━━\u001b[0m\u001b[37m\u001b[0m \u001b[1m0s\u001b[0m 2ms/step\n"
          ]
        }
      ]
    },
    {
      "cell_type": "code",
      "source": [
        "import matplotlib.pyplot as plt\n",
        "from sklearn.metrics import roc_curve, auc\n",
        "\n",
        "# Compute ROC curve and AUC\n",
        "fpr, tpr, _ = roc_curve(y_test, y_pred)\n",
        "roc_auc = auc(fpr, tpr)\n",
        "\n",
        "# Plot ROC curve\n",
        "plt.figure()\n",
        "plt.plot(fpr, tpr, color='blue', lw=2, label=f'ROC curve (area = {roc_auc:0.2f})')\n",
        "plt.plot([0, 1], [0, 1], color='gray', lw=2, linestyle='--')\n",
        "plt.xlim([0.0, 1.0])\n",
        "plt.ylim([0.0, 1.05])\n",
        "plt.xlabel('False Positive Rate')\n",
        "plt.ylabel('True Positive Rate')\n",
        "plt.title('Receiver Operating Characteristic')\n",
        "plt.legend(loc=\"lower right\")\n",
        "plt.show()\n"
      ],
      "metadata": {
        "colab": {
          "base_uri": "https://localhost:8080/",
          "height": 494
        },
        "id": "w7Iw7Zo9G0L6",
        "outputId": "e75135e9-025e-4db3-ddd7-f49c0dac21e0"
      },
      "id": "w7Iw7Zo9G0L6",
      "execution_count": null,
      "outputs": [
        {
          "output_type": "display_data",
          "data": {
            "text/plain": [
              "<Figure size 640x480 with 1 Axes>"
            ],
            "image/png": "[encoded data removed]"
          },
          "metadata": {}
        }
      ]
    },
    {
      "cell_type": "code",
      "source": [
        "from tensorflow.keras.layers import BatchNormalization, LeakyReLU\n",
        "\n",
        "# Updated model architecture\n",
        "model = tf.keras.Sequential([\n",
        "    tf.keras.Input(shape=(21,)),\n",
        "    tf.keras.layers.Dense(128),\n",
        "    BatchNormalization(),  # Added Batch Normalization\n",
        "    LeakyReLU(),  # Changed activation function\n",
        "    Dropout(0.4),  # Adjusted Dropout rate\n",
        "    tf.keras.layers.Dense(64),\n",
        "    BatchNormalization(),\n",
        "    LeakyReLU(),\n",
        "    Dropout(0.4),\n",
        "    tf.keras.layers.Dense(32),\n",
        "    BatchNormalization(),\n",
        "    LeakyReLU(),\n",
        "    tf.keras.layers.Dense(1, activation='sigmoid')\n",
        "])\n",
        "\n",
        "# Early stopping callback\n",
        "early_stopping = tf.keras.callbacks.EarlyStopping(\n",
        "    monitor='val_loss', min_delta=0.0005, patience=15, verbose=1,\n",
        "    mode='auto', restore_best_weights=True\n",
        ")\n",
        "\n",
        "# Compile model with a lower learning rate\n",
        "model.compile(\n",
        "    optimizer=Adam(learning_rate=0.0003),  # Reduced learning rate slightly\n",
        "    loss='binary_crossentropy',\n",
        "    metrics=[tf.keras.metrics.AUC(name='auc')]\n",
        ")\n",
        "\n",
        "# Train the model\n",
        "history = model.fit(\n",
        "    X_train_scaled,  # Use normalized data\n",
        "    y_train,\n",
        "    validation_split=0.20,\n",
        "    batch_size=BATCH_SIZE,\n",
        "    epochs=100,  # Increased epochs\n",
        "    verbose=1,\n",
        "    callbacks=[early_stopping]\n",
        ")\n"
      ],
      "metadata": {
        "colab": {
          "base_uri": "https://localhost:8080/"
        },
        "id": "tfFtWHuRIxjp",
        "outputId": "ce516021-b101-41a9-bb65-c4989d7a08df"
      },
      "id": "tfFtWHuRIxjp",
      "execution_count": null,
      "outputs": [
        {
          "output_type": "stream",
          "name": "stdout",
          "text": [
            "Epoch 1/100\n",
            "\u001b[1m46/46\u001b[0m \u001b[32m━━━━━━━━━━━━━━━━━━━━\u001b[0m\u001b[37m\u001b[0m \u001b[1m4s\u001b[0m 11ms/step - auc: 0.5544 - loss: 0.7653 - val_auc: 0.8094 - val_loss: 0.5835\n",
            "Epoch 2/100\n",
            "\u001b[1m46/46\u001b[0m \u001b[32m━━━━━━━━━━━━━━━━━━━━\u001b[0m\u001b[37m\u001b[0m \u001b[1m0s\u001b[0m 4ms/step - auc: 0.7694 - loss: 0.5942 - val_auc: 0.8178 - val_loss: 0.5457\n",
            "Epoch 3/100\n",
            "\u001b[1m46/46\u001b[0m \u001b[32m━━━━━━━━━━━━━━━━━━━━\u001b[0m\u001b[37m\u001b[0m \u001b[1m0s\u001b[0m 4ms/step - auc: 0.7832 - loss: 0.5597 - val_auc: 0.8210 - val_loss: 0.5265\n",
            "Epoch 4/100\n",
            "\u001b[1m46/46\u001b[0m \u001b[32m━━━━━━━━━━━━━━━━━━━━\u001b[0m\u001b[37m\u001b[0m \u001b[1m0s\u001b[0m 4ms/step - auc: 0.8084 - loss: 0.5138 - val_auc: 0.8236 - val_loss: 0.5060\n",
            "Epoch 5/100\n",
            "\u001b[1m46/46\u001b[0m \u001b[32m━━━━━━━━━━━━━━━━━━━━\u001b[0m\u001b[37m\u001b[0m \u001b[1m0s\u001b[0m 4ms/step - auc: 0.8293 - loss: 0.4764 - val_auc: 0.8245 - val_loss: 0.4882\n",
            "Epoch 6/100\n",
            "\u001b[1m46/46\u001b[0m \u001b[32m━━━━━━━━━━━━━━━━━━━━\u001b[0m\u001b[37m\u001b[0m \u001b[1m0s\u001b[0m 4ms/step - auc: 0.8282 - loss: 0.4670 - val_auc: 0.8250 - val_loss: 0.4740\n",
            "Epoch 7/100\n",
            "\u001b[1m46/46\u001b[0m \u001b[32m━━━━━━━━━━━━━━━━━━━━\u001b[0m\u001b[37m\u001b[0m \u001b[1m0s\u001b[0m 5ms/step - auc: 0.8250 - loss: 0.4546 - val_auc: 0.8255 - val_loss: 0.4647\n",
            "Epoch 8/100\n",
            "\u001b[1m46/46\u001b[0m \u001b[32m━━━━━━━━━━━━━━━━━━━━\u001b[0m\u001b[37m\u001b[0m \u001b[1m0s\u001b[0m 4ms/step - auc: 0.8171 - loss: 0.4547 - val_auc: 0.8259 - val_loss: 0.4607\n",
            "Epoch 9/100\n",
            "\u001b[1m46/46\u001b[0m \u001b[32m━━━━━━━━━━━━━━━━━━━━\u001b[0m\u001b[37m\u001b[0m \u001b[1m0s\u001b[0m 4ms/step - auc: 0.8370 - loss: 0.4382 - val_auc: 0.8263 - val_loss: 0.4540\n",
            "Epoch 10/100\n",
            "\u001b[1m46/46\u001b[0m \u001b[32m━━━━━━━━━━━━━━━━━━━━\u001b[0m\u001b[37m\u001b[0m \u001b[1m0s\u001b[0m 4ms/step - auc: 0.8268 - loss: 0.4445 - val_auc: 0.8264 - val_loss: 0.4504\n",
            "Epoch 11/100\n",
            "\u001b[1m46/46\u001b[0m \u001b[32m━━━━━━━━━━━━━━━━━━━━\u001b[0m\u001b[37m\u001b[0m \u001b[1m0s\u001b[0m 5ms/step - auc: 0.8295 - loss: 0.4459 - val_auc: 0.8262 - val_loss: 0.4463\n",
            "Epoch 12/100\n",
            "\u001b[1m46/46\u001b[0m \u001b[32m━━━━━━━━━━━━━━━━━━━━\u001b[0m\u001b[37m\u001b[0m \u001b[1m0s\u001b[0m 4ms/step - auc: 0.8339 - loss: 0.4317 - val_auc: 0.8269 - val_loss: 0.4435\n",
            "Epoch 13/100\n",
            "\u001b[1m46/46\u001b[0m \u001b[32m━━━━━━━━━━━━━━━━━━━━\u001b[0m\u001b[37m\u001b[0m \u001b[1m0s\u001b[0m 4ms/step - auc: 0.8317 - loss: 0.4384 - val_auc: 0.8270 - val_loss: 0.4430\n",
            "Epoch 14/100\n",
            "\u001b[1m46/46\u001b[0m \u001b[32m━━━━━━━━━━━━━━━━━━━━\u001b[0m\u001b[37m\u001b[0m \u001b[1m0s\u001b[0m 5ms/step - auc: 0.8461 - loss: 0.4191 - val_auc: 0.8269 - val_loss: 0.4409\n",
            "Epoch 15/100\n",
            "\u001b[1m46/46\u001b[0m \u001b[32m━━━━━━━━━━━━━━━━━━━━\u001b[0m\u001b[37m\u001b[0m \u001b[1m0s\u001b[0m 5ms/step - auc: 0.8410 - loss: 0.4233 - val_auc: 0.8267 - val_loss: 0.4402\n",
            "Epoch 16/100\n",
            "\u001b[1m46/46\u001b[0m \u001b[32m━━━━━━━━━━━━━━━━━━━━\u001b[0m\u001b[37m\u001b[0m \u001b[1m0s\u001b[0m 4ms/step - auc: 0.8543 - loss: 0.4056 - val_auc: 0.8272 - val_loss: 0.4387\n",
            "Epoch 17/100\n",
            "\u001b[1m46/46\u001b[0m \u001b[32m━━━━━━━━━━━━━━━━━━━━\u001b[0m\u001b[37m\u001b[0m \u001b[1m0s\u001b[0m 4ms/step - auc: 0.8411 - loss: 0.4245 - val_auc: 0.8277 - val_loss: 0.4394\n",
            "Epoch 18/100\n",
            "\u001b[1m46/46\u001b[0m \u001b[32m━━━━━━━━━━━━━━━━━━━━\u001b[0m\u001b[37m\u001b[0m \u001b[1m0s\u001b[0m 4ms/step - auc: 0.8532 - loss: 0.4079 - val_auc: 0.8274 - val_loss: 0.4405\n",
            "Epoch 19/100\n",
            "\u001b[1m46/46\u001b[0m \u001b[32m━━━━━━━━━━━━━━━━━━━━\u001b[0m\u001b[37m\u001b[0m \u001b[1m0s\u001b[0m 5ms/step - auc: 0.8275 - loss: 0.4421 - val_auc: 0.8277 - val_loss: 0.4389\n",
            "Epoch 20/100\n",
            "\u001b[1m46/46\u001b[0m \u001b[32m━━━━━━━━━━━━━━━━━━━━\u001b[0m\u001b[37m\u001b[0m \u001b[1m0s\u001b[0m 4ms/step - auc: 0.8388 - loss: 0.4257 - val_auc: 0.8275 - val_loss: 0.4386\n",
            "Epoch 21/100\n",
            "\u001b[1m46/46\u001b[0m \u001b[32m━━━━━━━━━━━━━━━━━━━━\u001b[0m\u001b[37m\u001b[0m \u001b[1m0s\u001b[0m 4ms/step - auc: 0.8466 - loss: 0.4177 - val_auc: 0.8275 - val_loss: 0.4402\n",
            "Epoch 22/100\n",
            "\u001b[1m46/46\u001b[0m \u001b[32m━━━━━━━━━━━━━━━━━━━━\u001b[0m\u001b[37m\u001b[0m \u001b[1m0s\u001b[0m 4ms/step - auc: 0.8452 - loss: 0.4174 - val_auc: 0.8271 - val_loss: 0.4373\n",
            "Epoch 23/100\n",
            "\u001b[1m46/46\u001b[0m \u001b[32m━━━━━━━━━━━━━━━━━━━━\u001b[0m\u001b[37m\u001b[0m \u001b[1m0s\u001b[0m 4ms/step - auc: 0.8469 - loss: 0.4185 - val_auc: 0.8271 - val_loss: 0.4376\n",
            "Epoch 24/100\n",
            "\u001b[1m46/46\u001b[0m \u001b[32m━━━━━━━━━━━━━━━━━━━━\u001b[0m\u001b[37m\u001b[0m \u001b[1m0s\u001b[0m 4ms/step - auc: 0.8475 - loss: 0.4173 - val_auc: 0.8275 - val_loss: 0.4371\n",
            "Epoch 25/100\n",
            "\u001b[1m46/46\u001b[0m \u001b[32m━━━━━━━━━━━━━━━━━━━━\u001b[0m\u001b[37m\u001b[0m \u001b[1m0s\u001b[0m 4ms/step - auc: 0.8357 - loss: 0.4203 - val_auc: 0.8278 - val_loss: 0.4376\n",
            "Epoch 26/100\n",
            "\u001b[1m46/46\u001b[0m \u001b[32m━━━━━━━━━━━━━━━━━━━━\u001b[0m\u001b[37m\u001b[0m \u001b[1m0s\u001b[0m 4ms/step - auc: 0.8400 - loss: 0.4235 - val_auc: 0.8279 - val_loss: 0.4383\n",
            "Epoch 27/100\n",
            "\u001b[1m46/46\u001b[0m \u001b[32m━━━━━━━━━━━━━━━━━━━━\u001b[0m\u001b[37m\u001b[0m \u001b[1m0s\u001b[0m 5ms/step - auc: 0.8448 - loss: 0.4250 - val_auc: 0.8278 - val_loss: 0.4366\n",
            "Epoch 28/100\n",
            "\u001b[1m46/46\u001b[0m \u001b[32m━━━━━━━━━━━━━━━━━━━━\u001b[0m\u001b[37m\u001b[0m \u001b[1m0s\u001b[0m 4ms/step - auc: 0.8402 - loss: 0.4225 - val_auc: 0.8278 - val_loss: 0.4353\n",
            "Epoch 29/100\n",
            "\u001b[1m46/46\u001b[0m \u001b[32m━━━━━━━━━━━━━━━━━━━━\u001b[0m\u001b[37m\u001b[0m \u001b[1m0s\u001b[0m 6ms/step - auc: 0.8472 - loss: 0.4167 - val_auc: 0.8278 - val_loss: 0.4357\n",
            "Epoch 30/100\n",
            "\u001b[1m46/46\u001b[0m \u001b[32m━━━━━━━━━━━━━━━━━━━━\u001b[0m\u001b[37m\u001b[0m \u001b[1m1s\u001b[0m 6ms/step - auc: 0.8594 - loss: 0.3990 - val_auc: 0.8279 - val_loss: 0.4374\n",
            "Epoch 31/100\n",
            "\u001b[1m46/46\u001b[0m \u001b[32m━━━━━━━━━━━━━━━━━━━━\u001b[0m\u001b[37m\u001b[0m \u001b[1m0s\u001b[0m 5ms/step - auc: 0.8462 - loss: 0.4189 - val_auc: 0.8278 - val_loss: 0.4369\n",
            "Epoch 32/100\n",
            "\u001b[1m46/46\u001b[0m \u001b[32m━━━━━━━━━━━━━━━━━━━━\u001b[0m\u001b[37m\u001b[0m \u001b[1m0s\u001b[0m 7ms/step - auc: 0.8564 - loss: 0.4123 - val_auc: 0.8285 - val_loss: 0.4362\n",
            "Epoch 33/100\n",
            "\u001b[1m46/46\u001b[0m \u001b[32m━━━━━━━━━━━━━━━━━━━━\u001b[0m\u001b[37m\u001b[0m \u001b[1m0s\u001b[0m 8ms/step - auc: 0.8560 - loss: 0.4042 - val_auc: 0.8287 - val_loss: 0.4346\n",
            "Epoch 34/100\n",
            "\u001b[1m46/46\u001b[0m \u001b[32m━━━━━━━━━━━━━━━━━━━━\u001b[0m\u001b[37m\u001b[0m \u001b[1m1s\u001b[0m 8ms/step - auc: 0.8368 - loss: 0.4303 - val_auc: 0.8286 - val_loss: 0.4359\n",
            "Epoch 35/100\n",
            "\u001b[1m46/46\u001b[0m \u001b[32m━━━━━━━━━━━━━━━━━━━━\u001b[0m\u001b[37m\u001b[0m \u001b[1m0s\u001b[0m 7ms/step - auc: 0.8444 - loss: 0.4228 - val_auc: 0.8289 - val_loss: 0.4349\n",
            "Epoch 36/100\n",
            "\u001b[1m46/46\u001b[0m \u001b[32m━━━━━━━━━━━━━━━━━━━━\u001b[0m\u001b[37m\u001b[0m \u001b[1m1s\u001b[0m 4ms/step - auc: 0.8522 - loss: 0.4055 - val_auc: 0.8288 - val_loss: 0.4339\n",
            "Epoch 37/100\n",
            "\u001b[1m46/46\u001b[0m \u001b[32m━━━━━━━━━━━━━━━━━━━━\u001b[0m\u001b[37m\u001b[0m \u001b[1m0s\u001b[0m 5ms/step - auc: 0.8473 - loss: 0.4180 - val_auc: 0.8283 - val_loss: 0.4340\n",
            "Epoch 38/100\n",
            "\u001b[1m46/46\u001b[0m \u001b[32m━━━━━━━━━━━━━━━━━━━━\u001b[0m\u001b[37m\u001b[0m \u001b[1m0s\u001b[0m 4ms/step - auc: 0.8513 - loss: 0.4083 - val_auc: 0.8286 - val_loss: 0.4353\n",
            "Epoch 39/100\n",
            "\u001b[1m46/46\u001b[0m \u001b[32m━━━━━━━━━━━━━━━━━━━━\u001b[0m\u001b[37m\u001b[0m \u001b[1m0s\u001b[0m 4ms/step - auc: 0.8495 - loss: 0.4118 - val_auc: 0.8282 - val_loss: 0.4347\n",
            "Epoch 40/100\n",
            "\u001b[1m46/46\u001b[0m \u001b[32m━━━━━━━━━━━━━━━━━━━━\u001b[0m\u001b[37m\u001b[0m \u001b[1m0s\u001b[0m 4ms/step - auc: 0.8601 - loss: 0.4064 - val_auc: 0.8286 - val_loss: 0.4355\n",
            "Epoch 41/100\n",
            "\u001b[1m46/46\u001b[0m \u001b[32m━━━━━━━━━━━━━━━━━━━━\u001b[0m\u001b[37m\u001b[0m \u001b[1m0s\u001b[0m 4ms/step - auc: 0.8530 - loss: 0.4053 - val_auc: 0.8289 - val_loss: 0.4347\n",
            "Epoch 42/100\n",
            "\u001b[1m46/46\u001b[0m \u001b[32m━━━━━━━━━━━━━━━━━━━━\u001b[0m\u001b[37m\u001b[0m \u001b[1m0s\u001b[0m 4ms/step - auc: 0.8476 - loss: 0.4128 - val_auc: 0.8291 - val_loss: 0.4357\n",
            "Epoch 43/100\n",
            "\u001b[1m46/46\u001b[0m \u001b[32m━━━━━━━━━━━━━━━━━━━━\u001b[0m\u001b[37m\u001b[0m \u001b[1m0s\u001b[0m 5ms/step - auc: 0.8424 - loss: 0.4268 - val_auc: 0.8286 - val_loss: 0.4367\n",
            "Epoch 44/100\n",
            "\u001b[1m46/46\u001b[0m \u001b[32m━━━━━━━━━━━━━━━━━━━━\u001b[0m\u001b[37m\u001b[0m \u001b[1m0s\u001b[0m 4ms/step - auc: 0.8483 - loss: 0.4150 - val_auc: 0.8285 - val_loss: 0.4366\n",
            "Epoch 45/100\n",
            "\u001b[1m46/46\u001b[0m \u001b[32m━━━━━━━━━━━━━━━━━━━━\u001b[0m\u001b[37m\u001b[0m \u001b[1m0s\u001b[0m 4ms/step - auc: 0.8605 - loss: 0.3951 - val_auc: 0.8282 - val_loss: 0.4368\n",
            "Epoch 46/100\n",
            "\u001b[1m46/46\u001b[0m \u001b[32m━━━━━━━━━━━━━━━━━━━━\u001b[0m\u001b[37m\u001b[0m \u001b[1m0s\u001b[0m 4ms/step - auc: 0.8487 - loss: 0.4129 - val_auc: 0.8285 - val_loss: 0.4369\n",
            "Epoch 47/100\n",
            "\u001b[1m46/46\u001b[0m \u001b[32m━━━━━━━━━━━━━━━━━━━━\u001b[0m\u001b[37m\u001b[0m \u001b[1m0s\u001b[0m 4ms/step - auc: 0.8591 - loss: 0.4046 - val_auc: 0.8286 - val_loss: 0.4367\n",
            "Epoch 48/100\n",
            "\u001b[1m46/46\u001b[0m \u001b[32m━━━━━━━━━━━━━━━━━━━━\u001b[0m\u001b[37m\u001b[0m \u001b[1m0s\u001b[0m 4ms/step - auc: 0.8554 - loss: 0.3974 - val_auc: 0.8282 - val_loss: 0.4364\n",
            "Epoch 49/100\n",
            "\u001b[1m46/46\u001b[0m \u001b[32m━━━━━━━━━━━━━━━━━━━━\u001b[0m\u001b[37m\u001b[0m \u001b[1m0s\u001b[0m 4ms/step - auc: 0.8493 - loss: 0.4111 - val_auc: 0.8284 - val_loss: 0.4361\n",
            "Epoch 50/100\n",
            "\u001b[1m46/46\u001b[0m \u001b[32m━━━━━━━━━━━━━━━━━━━━\u001b[0m\u001b[37m\u001b[0m \u001b[1m0s\u001b[0m 4ms/step - auc: 0.8550 - loss: 0.4042 - val_auc: 0.8283 - val_loss: 0.4349\n",
            "Epoch 51/100\n",
            "\u001b[1m46/46\u001b[0m \u001b[32m━━━━━━━━━━━━━━━━━━━━\u001b[0m\u001b[37m\u001b[0m \u001b[1m0s\u001b[0m 5ms/step - auc: 0.8547 - loss: 0.4073 - val_auc: 0.8286 - val_loss: 0.4347\n",
            "Epoch 51: early stopping\n",
            "Restoring model weights from the end of the best epoch: 36.\n"
          ]
        }
      ]
    },
    {
      "cell_type": "code",
      "source": [
        "np.argmin(val_loss)\n"
      ],
      "metadata": {
        "colab": {
          "base_uri": "https://localhost:8080/"
        },
        "id": "fuisnn6JI59I",
        "outputId": "881bac7d-a665-48d3-994c-0738051f24fc"
      },
      "id": "fuisnn6JI59I",
      "execution_count": null,
      "outputs": [
        {
          "output_type": "execute_result",
          "data": {
            "text/plain": [
              "12"
            ]
          },
          "metadata": {},
          "execution_count": 75
        }
      ]
    },
    {
      "cell_type": "code",
      "source": [
        "history.history.keys()"
      ],
      "metadata": {
        "colab": {
          "base_uri": "https://localhost:8080/"
        },
        "id": "Meq2gJNLI-gB",
        "outputId": "74581222-4cb7-4183-eaeb-a3dde6a594fc"
      },
      "id": "Meq2gJNLI-gB",
      "execution_count": null,
      "outputs": [
        {
          "output_type": "execute_result",
          "data": {
            "text/plain": [
              "dict_keys(['auc', 'loss', 'val_auc', 'val_loss'])"
            ]
          },
          "metadata": {},
          "execution_count": 76
        }
      ]
    },
    {
      "cell_type": "code",
      "source": [
        "model.evaluate(X_test, y_test)"
      ],
      "metadata": {
        "colab": {
          "base_uri": "https://localhost:8080/"
        },
        "id": "f_S3V9iXJGrJ",
        "outputId": "2b70e4bf-f5a4-459b-8887-bfe1aef2f803"
      },
      "id": "f_S3V9iXJGrJ",
      "execution_count": null,
      "outputs": [
        {
          "output_type": "stream",
          "name": "stdout",
          "text": [
            "\u001b[1m45/45\u001b[0m \u001b[32m━━━━━━━━━━━━━━━━━━━━\u001b[0m\u001b[37m\u001b[0m \u001b[1m0s\u001b[0m 1ms/step - auc: 0.8445 - loss: 0.4216\n"
          ]
        },
        {
          "output_type": "execute_result",
          "data": {
            "text/plain": [
              "[0.41795814037323, 0.8461326360702515]"
            ]
          },
          "metadata": {},
          "execution_count": 77
        }
      ]
    },
    {
      "cell_type": "code",
      "source": [
        "from tensorflow.keras.layers import BatchNormalization, LeakyReLU\n",
        "from tensorflow.keras.regularizers import l2\n",
        "from tensorflow.keras.optimizers import RMSprop\n",
        "from sklearn.utils import class_weight\n",
        "from imblearn.over_sampling import SMOTE\n",
        "import numpy as np\n",
        "\n",
        "# Assuming X_train and y_train are already loaded and scaled\n",
        "# Balancing the dataset using SMOTE\n",
        "sm = SMOTE(random_state=42)\n",
        "X_train_resampled, y_train_resampled = sm.fit_resample(X_train_scaled, y_train)\n",
        "\n",
        "# Calculate class weights to handle class imbalance\n",
        "class_weights_dict = dict(enumerate(class_weight.compute_class_weight(\n",
        "    'balanced',\n",
        "    classes=np.unique(y_train_resampled),\n",
        "    y=y_train_resampled\n",
        ")))\n",
        "\n",
        "# Updated model architecture with deeper layers and L2 regularization\n",
        "model = tf.keras.Sequential([\n",
        "    tf.keras.Input(shape=(21,)),\n",
        "    tf.keras.layers.Dense(256, kernel_regularizer=l2(0.001)),  # Increased units, L2 regularization\n",
        "    BatchNormalization(),\n",
        "    LeakyReLU(),\n",
        "    Dropout(0.5),  # Increased dropout rate\n",
        "    tf.keras.layers.Dense(128, kernel_regularizer=l2(0.001)),\n",
        "    BatchNormalization(),\n",
        "    LeakyReLU(),\n",
        "    Dropout(0.5),\n",
        "    tf.keras.layers.Dense(64, kernel_regularizer=l2(0.001)),\n",
        "    BatchNormalization(),\n",
        "    LeakyReLU(),\n",
        "    Dropout(0.3),\n",
        "    tf.keras.layers.Dense(1, activation='sigmoid')\n",
        "])\n",
        "\n",
        "# Early stopping callback\n",
        "early_stopping = tf.keras.callbacks.EarlyStopping(\n",
        "    monitor='val_loss', min_delta=0.0005, patience=20, verbose=1,\n",
        "    mode='auto', restore_best_weights=True\n",
        ")\n",
        "\n",
        "# Compile model with RMSprop optimizer\n",
        "model.compile(\n",
        "    optimizer=RMSprop(learning_rate=0.0003),  # Switched to RMSprop optimizer\n",
        "    loss='binary_crossentropy',\n",
        "    metrics=[tf.keras.metrics.AUC(name='auc')]\n",
        ")\n",
        "\n",
        "# Train the model\n",
        "history = model.fit(\n",
        "    X_train_resampled,  # Use resampled data\n",
        "    y_train_resampled,\n",
        "    validation_split=0.20,\n",
        "    batch_size=BATCH_SIZE,\n",
        "    epochs=150,  # Increased epochs\n",
        "    verbose=1,\n",
        "    class_weight=class_weights_dict,  # Use class weights for imbalance\n",
        "    callbacks=[early_stopping]\n",
        ")\n"
      ],
      "metadata": {
        "colab": {
          "base_uri": "https://localhost:8080/"
        },
        "id": "djbk5tqKJr6w",
        "outputId": "eda8371a-1402-4e09-dab9-b2652a4d4213"
      },
      "id": "djbk5tqKJr6w",
      "execution_count": null,
      "outputs": [
        {
          "output_type": "stream",
          "name": "stdout",
          "text": [
            "Epoch 1/150\n",
            "\u001b[1m67/67\u001b[0m \u001b[32m━━━━━━━━━━━━━━━━━━━━\u001b[0m\u001b[37m\u001b[0m \u001b[1m3s\u001b[0m 11ms/step - auc: 0.7021 - loss: 1.0066 - val_auc: 0.0000e+00 - val_loss: 0.7243\n",
            "Epoch 2/150\n",
            "\u001b[1m67/67\u001b[0m \u001b[32m━━━━━━━━━━━━━━━━━━━━\u001b[0m\u001b[37m\u001b[0m \u001b[1m1s\u001b[0m 8ms/step - auc: 0.8136 - loss: 0.8420 - val_auc: 0.0000e+00 - val_loss: 0.6962\n",
            "Epoch 3/150\n",
            "\u001b[1m67/67\u001b[0m \u001b[32m━━━━━━━━━━━━━━━━━━━━\u001b[0m\u001b[37m\u001b[0m \u001b[1m1s\u001b[0m 9ms/step - auc: 0.8154 - loss: 0.8074 - val_auc: 0.0000e+00 - val_loss: 0.7136\n",
            "Epoch 4/150\n",
            "\u001b[1m67/67\u001b[0m \u001b[32m━━━━━━━━━━━━━━━━━━━━\u001b[0m\u001b[37m\u001b[0m \u001b[1m1s\u001b[0m 9ms/step - auc: 0.8202 - loss: 0.7882 - val_auc: 0.0000e+00 - val_loss: 0.7402\n",
            "Epoch 5/150\n",
            "\u001b[1m67/67\u001b[0m \u001b[32m━━━━━━━━━━━━━━━━━━━━\u001b[0m\u001b[37m\u001b[0m \u001b[1m1s\u001b[0m 6ms/step - auc: 0.8177 - loss: 0.7739 - val_auc: 0.0000e+00 - val_loss: 0.7377\n",
            "Epoch 6/150\n",
            "\u001b[1m67/67\u001b[0m \u001b[32m━━━━━━━━━━━━━━━━━━━━\u001b[0m\u001b[37m\u001b[0m \u001b[1m0s\u001b[0m 5ms/step - auc: 0.8318 - loss: 0.7511 - val_auc: 0.0000e+00 - val_loss: 0.7385\n",
            "Epoch 7/150\n",
            "\u001b[1m67/67\u001b[0m \u001b[32m━━━━━━━━━━━━━━━━━━━━\u001b[0m\u001b[37m\u001b[0m \u001b[1m0s\u001b[0m 6ms/step - auc: 0.8422 - loss: 0.7285 - val_auc: 0.0000e+00 - val_loss: 0.7428\n",
            "Epoch 8/150\n",
            "\u001b[1m67/67\u001b[0m \u001b[32m━━━━━━━━━━━━━━━━━━━━\u001b[0m\u001b[37m\u001b[0m \u001b[1m1s\u001b[0m 5ms/step - auc: 0.8358 - loss: 0.7303 - val_auc: 0.0000e+00 - val_loss: 0.7395\n",
            "Epoch 9/150\n",
            "\u001b[1m67/67\u001b[0m \u001b[32m━━━━━━━━━━━━━━━━━━━━\u001b[0m\u001b[37m\u001b[0m \u001b[1m0s\u001b[0m 6ms/step - auc: 0.8423 - loss: 0.7122 - val_auc: 0.0000e+00 - val_loss: 0.7309\n",
            "Epoch 10/150\n",
            "\u001b[1m67/67\u001b[0m \u001b[32m━━━━━━━━━━━━━━━━━━━━\u001b[0m\u001b[37m\u001b[0m \u001b[1m1s\u001b[0m 5ms/step - auc: 0.8394 - loss: 0.7099 - val_auc: 0.0000e+00 - val_loss: 0.7189\n",
            "Epoch 11/150\n",
            "\u001b[1m67/67\u001b[0m \u001b[32m━━━━━━━━━━━━━━━━━━━━\u001b[0m\u001b[37m\u001b[0m \u001b[1m1s\u001b[0m 5ms/step - auc: 0.8456 - loss: 0.6965 - val_auc: 0.0000e+00 - val_loss: 0.7186\n",
            "Epoch 12/150\n",
            "\u001b[1m67/67\u001b[0m \u001b[32m━━━━━━━━━━━━━━━━━━━━\u001b[0m\u001b[37m\u001b[0m \u001b[1m1s\u001b[0m 5ms/step - auc: 0.8354 - loss: 0.7050 - val_auc: 0.0000e+00 - val_loss: 0.7115\n",
            "Epoch 13/150\n",
            "\u001b[1m67/67\u001b[0m \u001b[32m━━━━━━━━━━━━━━━━━━━━\u001b[0m\u001b[37m\u001b[0m \u001b[1m1s\u001b[0m 6ms/step - auc: 0.8449 - loss: 0.6853 - val_auc: 0.0000e+00 - val_loss: 0.7106\n",
            "Epoch 14/150\n",
            "\u001b[1m67/67\u001b[0m \u001b[32m━━━━━━━━━━━━━━━━━━━━\u001b[0m\u001b[37m\u001b[0m \u001b[1m1s\u001b[0m 5ms/step - auc: 0.8505 - loss: 0.6677 - val_auc: 0.0000e+00 - val_loss: 0.7127\n",
            "Epoch 15/150\n",
            "\u001b[1m67/67\u001b[0m \u001b[32m━━━━━━━━━━━━━━━━━━━━\u001b[0m\u001b[37m\u001b[0m \u001b[1m1s\u001b[0m 5ms/step - auc: 0.8412 - loss: 0.6771 - val_auc: 0.0000e+00 - val_loss: 0.7053\n",
            "Epoch 16/150\n",
            "\u001b[1m67/67\u001b[0m \u001b[32m━━━━━━━━━━━━━━━━━━━━\u001b[0m\u001b[37m\u001b[0m \u001b[1m0s\u001b[0m 5ms/step - auc: 0.8532 - loss: 0.6557 - val_auc: 0.0000e+00 - val_loss: 0.7014\n",
            "Epoch 17/150\n",
            "\u001b[1m67/67\u001b[0m \u001b[32m━━━━━━━━━━━━━━━━━━━━\u001b[0m\u001b[37m\u001b[0m \u001b[1m1s\u001b[0m 5ms/step - auc: 0.8417 - loss: 0.6633 - val_auc: 0.0000e+00 - val_loss: 0.6854\n",
            "Epoch 18/150\n",
            "\u001b[1m67/67\u001b[0m \u001b[32m━━━━━━━━━━━━━━━━━━━━\u001b[0m\u001b[37m\u001b[0m \u001b[1m0s\u001b[0m 5ms/step - auc: 0.8429 - loss: 0.6562 - val_auc: 0.0000e+00 - val_loss: 0.6936\n",
            "Epoch 19/150\n",
            "\u001b[1m67/67\u001b[0m \u001b[32m━━━━━━━━━━━━━━━━━━━━\u001b[0m\u001b[37m\u001b[0m \u001b[1m1s\u001b[0m 5ms/step - auc: 0.8468 - loss: 0.6419 - val_auc: 0.0000e+00 - val_loss: 0.6773\n",
            "Epoch 20/150\n",
            "\u001b[1m67/67\u001b[0m \u001b[32m━━━━━━━━━━━━━━━━━━━━\u001b[0m\u001b[37m\u001b[0m \u001b[1m1s\u001b[0m 6ms/step - auc: 0.8545 - loss: 0.6246 - val_auc: 0.0000e+00 - val_loss: 0.6803\n",
            "Epoch 21/150\n",
            "\u001b[1m67/67\u001b[0m \u001b[32m━━━━━━━━━━━━━━━━━━━━\u001b[0m\u001b[37m\u001b[0m \u001b[1m1s\u001b[0m 5ms/step - auc: 0.8518 - loss: 0.6212 - val_auc: 0.0000e+00 - val_loss: 0.6706\n",
            "Epoch 22/150\n",
            "\u001b[1m67/67\u001b[0m \u001b[32m━━━━━━━━━━━━━━━━━━━━\u001b[0m\u001b[37m\u001b[0m \u001b[1m1s\u001b[0m 5ms/step - auc: 0.8592 - loss: 0.6056 - val_auc: 0.0000e+00 - val_loss: 0.6608\n",
            "Epoch 23/150\n",
            "\u001b[1m67/67\u001b[0m \u001b[32m━━━━━━━━━━━━━━━━━━━━\u001b[0m\u001b[37m\u001b[0m \u001b[1m1s\u001b[0m 9ms/step - auc: 0.8582 - loss: 0.5992 - val_auc: 0.0000e+00 - val_loss: 0.6556\n",
            "Epoch 24/150\n",
            "\u001b[1m67/67\u001b[0m \u001b[32m━━━━━━━━━━━━━━━━━━━━\u001b[0m\u001b[37m\u001b[0m \u001b[1m1s\u001b[0m 8ms/step - auc: 0.8443 - loss: 0.6194 - val_auc: 0.0000e+00 - val_loss: 0.6481\n",
            "Epoch 25/150\n",
            "\u001b[1m67/67\u001b[0m \u001b[32m━━━━━━━━━━━━━━━━━━━━\u001b[0m\u001b[37m\u001b[0m \u001b[1m1s\u001b[0m 9ms/step - auc: 0.8546 - loss: 0.5998 - val_auc: 0.0000e+00 - val_loss: 0.6456\n",
            "Epoch 26/150\n",
            "\u001b[1m67/67\u001b[0m \u001b[32m━━━━━━━━━━━━━━━━━━━━\u001b[0m\u001b[37m\u001b[0m \u001b[1m1s\u001b[0m 9ms/step - auc: 0.8544 - loss: 0.5976 - val_auc: 0.0000e+00 - val_loss: 0.6367\n",
            "Epoch 27/150\n",
            "\u001b[1m67/67\u001b[0m \u001b[32m━━━━━━━━━━━━━━━━━━━━\u001b[0m\u001b[37m\u001b[0m \u001b[1m1s\u001b[0m 5ms/step - auc: 0.8510 - loss: 0.5955 - val_auc: 0.0000e+00 - val_loss: 0.6397\n",
            "Epoch 28/150\n",
            "\u001b[1m67/67\u001b[0m \u001b[32m━━━━━━━━━━━━━━━━━━━━\u001b[0m\u001b[37m\u001b[0m \u001b[1m0s\u001b[0m 5ms/step - auc: 0.8547 - loss: 0.5861 - val_auc: 0.0000e+00 - val_loss: 0.6328\n",
            "Epoch 29/150\n",
            "\u001b[1m67/67\u001b[0m \u001b[32m━━━━━━━━━━━━━━━━━━━━\u001b[0m\u001b[37m\u001b[0m \u001b[1m1s\u001b[0m 5ms/step - auc: 0.8565 - loss: 0.5745 - val_auc: 0.0000e+00 - val_loss: 0.6325\n",
            "Epoch 30/150\n",
            "\u001b[1m67/67\u001b[0m \u001b[32m━━━━━━━━━━━━━━━━━━━━\u001b[0m\u001b[37m\u001b[0m \u001b[1m0s\u001b[0m 6ms/step - auc: 0.8507 - loss: 0.5825 - val_auc: 0.0000e+00 - val_loss: 0.6226\n",
            "Epoch 31/150\n",
            "\u001b[1m67/67\u001b[0m \u001b[32m━━━━━━━━━━━━━━━━━━━━\u001b[0m\u001b[37m\u001b[0m \u001b[1m0s\u001b[0m 5ms/step - auc: 0.8550 - loss: 0.5722 - val_auc: 0.0000e+00 - val_loss: 0.6153\n",
            "Epoch 32/150\n",
            "\u001b[1m67/67\u001b[0m \u001b[32m━━━━━━━━━━━━━━━━━━━━\u001b[0m\u001b[37m\u001b[0m \u001b[1m1s\u001b[0m 5ms/step - auc: 0.8587 - loss: 0.5636 - val_auc: 0.0000e+00 - val_loss: 0.6284\n",
            "Epoch 33/150\n",
            "\u001b[1m67/67\u001b[0m \u001b[32m━━━━━━━━━━━━━━━━━━━━\u001b[0m\u001b[37m\u001b[0m \u001b[1m0s\u001b[0m 7ms/step - auc: 0.8598 - loss: 0.5591 - val_auc: 0.0000e+00 - val_loss: 0.6149\n",
            "Epoch 34/150\n",
            "\u001b[1m67/67\u001b[0m \u001b[32m━━━━━━━━━━━━━━━━━━━━\u001b[0m\u001b[37m\u001b[0m \u001b[1m1s\u001b[0m 9ms/step - auc: 0.8591 - loss: 0.5589 - val_auc: 0.0000e+00 - val_loss: 0.6126\n",
            "Epoch 35/150\n",
            "\u001b[1m67/67\u001b[0m \u001b[32m━━━━━━━━━━━━━━━━━━━━\u001b[0m\u001b[37m\u001b[0m \u001b[1m1s\u001b[0m 9ms/step - auc: 0.8671 - loss: 0.5403 - val_auc: 0.0000e+00 - val_loss: 0.6187\n",
            "Epoch 36/150\n",
            "\u001b[1m67/67\u001b[0m \u001b[32m━━━━━━━━━━━━━━━━━━━━\u001b[0m\u001b[37m\u001b[0m \u001b[1m1s\u001b[0m 9ms/step - auc: 0.8590 - loss: 0.5523 - val_auc: 0.0000e+00 - val_loss: 0.6135\n",
            "Epoch 37/150\n",
            "\u001b[1m67/67\u001b[0m \u001b[32m━━━━━━━━━━━━━━━━━━━━\u001b[0m\u001b[37m\u001b[0m \u001b[1m1s\u001b[0m 10ms/step - auc: 0.8615 - loss: 0.5413 - val_auc: 0.0000e+00 - val_loss: 0.6125\n",
            "Epoch 38/150\n",
            "\u001b[1m67/67\u001b[0m \u001b[32m━━━━━━━━━━━━━━━━━━━━\u001b[0m\u001b[37m\u001b[0m \u001b[1m1s\u001b[0m 8ms/step - auc: 0.8547 - loss: 0.5454 - val_auc: 0.0000e+00 - val_loss: 0.6041\n",
            "Epoch 39/150\n",
            "\u001b[1m67/67\u001b[0m \u001b[32m━━━━━━━━━━━━━━━━━━━━\u001b[0m\u001b[37m\u001b[0m \u001b[1m0s\u001b[0m 5ms/step - auc: 0.8490 - loss: 0.5532 - val_auc: 0.0000e+00 - val_loss: 0.5951\n",
            "Epoch 40/150\n",
            "\u001b[1m67/67\u001b[0m \u001b[32m━━━━━━━━━━━━━━━━━━━━\u001b[0m\u001b[37m\u001b[0m \u001b[1m0s\u001b[0m 5ms/step - auc: 0.8609 - loss: 0.5345 - val_auc: 0.0000e+00 - val_loss: 0.6010\n",
            "Epoch 41/150\n",
            "\u001b[1m67/67\u001b[0m \u001b[32m━━━━━━━━━━━━━━━━━━━━\u001b[0m\u001b[37m\u001b[0m \u001b[1m0s\u001b[0m 6ms/step - auc: 0.8662 - loss: 0.5226 - val_auc: 0.0000e+00 - val_loss: 0.6111\n",
            "Epoch 42/150\n",
            "\u001b[1m67/67\u001b[0m \u001b[32m━━━━━━━━━━━━━━━━━━━━\u001b[0m\u001b[37m\u001b[0m \u001b[1m1s\u001b[0m 5ms/step - auc: 0.8593 - loss: 0.5329 - val_auc: 0.0000e+00 - val_loss: 0.5907\n",
            "Epoch 43/150\n",
            "\u001b[1m67/67\u001b[0m \u001b[32m━━━━━━━━━━━━━━━━━━━━\u001b[0m\u001b[37m\u001b[0m \u001b[1m0s\u001b[0m 5ms/step - auc: 0.8562 - loss: 0.5339 - val_auc: 0.0000e+00 - val_loss: 0.6005\n",
            "Epoch 44/150\n",
            "\u001b[1m67/67\u001b[0m \u001b[32m━━━━━━━━━━━━━━━━━━━━\u001b[0m\u001b[37m\u001b[0m \u001b[1m0s\u001b[0m 5ms/step - auc: 0.8637 - loss: 0.5199 - val_auc: 0.0000e+00 - val_loss: 0.5941\n",
            "Epoch 45/150\n",
            "\u001b[1m67/67\u001b[0m \u001b[32m━━━━━━━━━━━━━━━━━━━━\u001b[0m\u001b[37m\u001b[0m \u001b[1m0s\u001b[0m 6ms/step - auc: 0.8629 - loss: 0.5194 - val_auc: 0.0000e+00 - val_loss: 0.5965\n",
            "Epoch 46/150\n",
            "\u001b[1m67/67\u001b[0m \u001b[32m━━━━━━━━━━━━━━━━━━━━\u001b[0m\u001b[37m\u001b[0m \u001b[1m0s\u001b[0m 7ms/step - auc: 0.8547 - loss: 0.5279 - val_auc: 0.0000e+00 - val_loss: 0.5813\n",
            "Epoch 47/150\n",
            "\u001b[1m67/67\u001b[0m \u001b[32m━━━━━━━━━━━━━━━━━━━━\u001b[0m\u001b[37m\u001b[0m \u001b[1m1s\u001b[0m 9ms/step - auc: 0.8607 - loss: 0.5189 - val_auc: 0.0000e+00 - val_loss: 0.5877\n",
            "Epoch 48/150\n",
            "\u001b[1m67/67\u001b[0m \u001b[32m━━━━━━━━━━━━━━━━━━━━\u001b[0m\u001b[37m\u001b[0m \u001b[1m1s\u001b[0m 9ms/step - auc: 0.8606 - loss: 0.5112 - val_auc: 0.0000e+00 - val_loss: 0.5883\n",
            "Epoch 49/150\n",
            "\u001b[1m67/67\u001b[0m \u001b[32m━━━━━━━━━━━━━━━━━━━━\u001b[0m\u001b[37m\u001b[0m \u001b[1m1s\u001b[0m 10ms/step - auc: 0.8621 - loss: 0.5130 - val_auc: 0.0000e+00 - val_loss: 0.5931\n",
            "Epoch 50/150\n",
            "\u001b[1m67/67\u001b[0m \u001b[32m━━━━━━━━━━━━━━━━━━━━\u001b[0m\u001b[37m\u001b[0m \u001b[1m1s\u001b[0m 6ms/step - auc: 0.8601 - loss: 0.5136 - val_auc: 0.0000e+00 - val_loss: 0.5875\n",
            "Epoch 51/150\n",
            "\u001b[1m67/67\u001b[0m \u001b[32m━━━━━━━━━━━━━━━━━━━━\u001b[0m\u001b[37m\u001b[0m \u001b[1m0s\u001b[0m 5ms/step - auc: 0.8674 - loss: 0.5009 - val_auc: 0.0000e+00 - val_loss: 0.5904\n",
            "Epoch 52/150\n",
            "\u001b[1m67/67\u001b[0m \u001b[32m━━━━━━━━━━━━━━━━━━━━\u001b[0m\u001b[37m\u001b[0m \u001b[1m0s\u001b[0m 5ms/step - auc: 0.8681 - loss: 0.4969 - val_auc: 0.0000e+00 - val_loss: 0.5843\n",
            "Epoch 53/150\n",
            "\u001b[1m67/67\u001b[0m \u001b[32m━━━━━━━━━━━━━━━━━━━━\u001b[0m\u001b[37m\u001b[0m \u001b[1m0s\u001b[0m 5ms/step - auc: 0.8656 - loss: 0.4992 - val_auc: 0.0000e+00 - val_loss: 0.5797\n",
            "Epoch 54/150\n",
            "\u001b[1m67/67\u001b[0m \u001b[32m━━━━━━━━━━━━━━━━━━━━\u001b[0m\u001b[37m\u001b[0m \u001b[1m0s\u001b[0m 5ms/step - auc: 0.8621 - loss: 0.5030 - val_auc: 0.0000e+00 - val_loss: 0.5740\n",
            "Epoch 55/150\n",
            "\u001b[1m67/67\u001b[0m \u001b[32m━━━━━━━━━━━━━━━━━━━━\u001b[0m\u001b[37m\u001b[0m \u001b[1m1s\u001b[0m 5ms/step - auc: 0.8662 - loss: 0.4929 - val_auc: 0.0000e+00 - val_loss: 0.5758\n",
            "Epoch 56/150\n",
            "\u001b[1m67/67\u001b[0m \u001b[32m━━━━━━━━━━━━━━━━━━━━\u001b[0m\u001b[37m\u001b[0m \u001b[1m1s\u001b[0m 6ms/step - auc: 0.8597 - loss: 0.5035 - val_auc: 0.0000e+00 - val_loss: 0.5691\n",
            "Epoch 57/150\n",
            "\u001b[1m67/67\u001b[0m \u001b[32m━━━━━━━━━━━━━━━━━━━━\u001b[0m\u001b[37m\u001b[0m \u001b[1m0s\u001b[0m 6ms/step - auc: 0.8699 - loss: 0.4844 - val_auc: 0.0000e+00 - val_loss: 0.5809\n",
            "Epoch 58/150\n",
            "\u001b[1m67/67\u001b[0m \u001b[32m━━━━━━━━━━━━━━━━━━━━\u001b[0m\u001b[37m\u001b[0m \u001b[1m1s\u001b[0m 6ms/step - auc: 0.8639 - loss: 0.4959 - val_auc: 0.0000e+00 - val_loss: 0.5714\n",
            "Epoch 59/150\n",
            "\u001b[1m67/67\u001b[0m \u001b[32m━━━━━━━━━━━━━━━━━━━━\u001b[0m\u001b[37m\u001b[0m \u001b[1m0s\u001b[0m 5ms/step - auc: 0.8647 - loss: 0.4928 - val_auc: 0.0000e+00 - val_loss: 0.5690\n",
            "Epoch 60/150\n",
            "\u001b[1m67/67\u001b[0m \u001b[32m━━━━━━━━━━━━━━━━━━━━\u001b[0m\u001b[37m\u001b[0m \u001b[1m0s\u001b[0m 5ms/step - auc: 0.8679 - loss: 0.4834 - val_auc: 0.0000e+00 - val_loss: 0.5614\n",
            "Epoch 61/150\n",
            "\u001b[1m67/67\u001b[0m \u001b[32m━━━━━━━━━━━━━━━━━━━━\u001b[0m\u001b[37m\u001b[0m \u001b[1m0s\u001b[0m 6ms/step - auc: 0.8692 - loss: 0.4802 - val_auc: 0.0000e+00 - val_loss: 0.5800\n",
            "Epoch 62/150\n",
            "\u001b[1m67/67\u001b[0m \u001b[32m━━━━━━━━━━━━━━━━━━━━\u001b[0m\u001b[37m\u001b[0m \u001b[1m1s\u001b[0m 5ms/step - auc: 0.8645 - loss: 0.4876 - val_auc: 0.0000e+00 - val_loss: 0.5661\n",
            "Epoch 63/150\n",
            "\u001b[1m67/67\u001b[0m \u001b[32m━━━━━━━━━━━━━━━━━━━━\u001b[0m\u001b[37m\u001b[0m \u001b[1m0s\u001b[0m 5ms/step - auc: 0.8680 - loss: 0.4825 - val_auc: 0.0000e+00 - val_loss: 0.5783\n",
            "Epoch 64/150\n",
            "\u001b[1m67/67\u001b[0m \u001b[32m━━━━━━━━━━━━━━━━━━━━\u001b[0m\u001b[37m\u001b[0m \u001b[1m1s\u001b[0m 6ms/step - auc: 0.8629 - loss: 0.4868 - val_auc: 0.0000e+00 - val_loss: 0.5791\n",
            "Epoch 65/150\n",
            "\u001b[1m67/67\u001b[0m \u001b[32m━━━━━━━━━━━━━━━━━━━━\u001b[0m\u001b[37m\u001b[0m \u001b[1m1s\u001b[0m 5ms/step - auc: 0.8671 - loss: 0.4809 - val_auc: 0.0000e+00 - val_loss: 0.5680\n",
            "Epoch 66/150\n",
            "\u001b[1m67/67\u001b[0m \u001b[32m━━━━━━━━━━━━━━━━━━━━\u001b[0m\u001b[37m\u001b[0m \u001b[1m1s\u001b[0m 6ms/step - auc: 0.8675 - loss: 0.4823 - val_auc: 0.0000e+00 - val_loss: 0.5810\n",
            "Epoch 67/150\n",
            "\u001b[1m67/67\u001b[0m \u001b[32m━━━━━━━━━━━━━━━━━━━━\u001b[0m\u001b[37m\u001b[0m \u001b[1m1s\u001b[0m 5ms/step - auc: 0.8626 - loss: 0.4875 - val_auc: 0.0000e+00 - val_loss: 0.5595\n",
            "Epoch 68/150\n",
            "\u001b[1m67/67\u001b[0m \u001b[32m━━━━━━━━━━━━━━━━━━━━\u001b[0m\u001b[37m\u001b[0m \u001b[1m1s\u001b[0m 6ms/step - auc: 0.8627 - loss: 0.4818 - val_auc: 0.0000e+00 - val_loss: 0.5673\n",
            "Epoch 69/150\n",
            "\u001b[1m67/67\u001b[0m \u001b[32m━━━━━━━━━━━━━━━━━━━━\u001b[0m\u001b[37m\u001b[0m \u001b[1m1s\u001b[0m 9ms/step - auc: 0.8645 - loss: 0.4814 - val_auc: 0.0000e+00 - val_loss: 0.5614\n",
            "Epoch 70/150\n",
            "\u001b[1m67/67\u001b[0m \u001b[32m━━━━━━━━━━━━━━━━━━━━\u001b[0m\u001b[37m\u001b[0m \u001b[1m1s\u001b[0m 9ms/step - auc: 0.8611 - loss: 0.4836 - val_auc: 0.0000e+00 - val_loss: 0.5563\n",
            "Epoch 71/150\n",
            "\u001b[1m67/67\u001b[0m \u001b[32m━━━━━━━━━━━━━━━━━━━━\u001b[0m\u001b[37m\u001b[0m \u001b[1m1s\u001b[0m 10ms/step - auc: 0.8565 - loss: 0.4932 - val_auc: 0.0000e+00 - val_loss: 0.5546\n",
            "Epoch 72/150\n",
            "\u001b[1m67/67\u001b[0m \u001b[32m━━━━━━━━━━━━━━━━━━━━\u001b[0m\u001b[37m\u001b[0m \u001b[1m0s\u001b[0m 5ms/step - auc: 0.8635 - loss: 0.4805 - val_auc: 0.0000e+00 - val_loss: 0.5606\n",
            "Epoch 73/150\n",
            "\u001b[1m67/67\u001b[0m \u001b[32m━━━━━━━━━━━━━━━━━━━━\u001b[0m\u001b[37m\u001b[0m \u001b[1m1s\u001b[0m 6ms/step - auc: 0.8637 - loss: 0.4818 - val_auc: 0.0000e+00 - val_loss: 0.5525\n",
            "Epoch 74/150\n",
            "\u001b[1m67/67\u001b[0m \u001b[32m━━━━━━━━━━━━━━━━━━━━\u001b[0m\u001b[37m\u001b[0m \u001b[1m1s\u001b[0m 6ms/step - auc: 0.8693 - loss: 0.4710 - val_auc: 0.0000e+00 - val_loss: 0.5651\n",
            "Epoch 75/150\n",
            "\u001b[1m67/67\u001b[0m \u001b[32m━━━━━━━━━━━━━━━━━━━━\u001b[0m\u001b[37m\u001b[0m \u001b[1m1s\u001b[0m 6ms/step - auc: 0.8632 - loss: 0.4797 - val_auc: 0.0000e+00 - val_loss: 0.5670\n",
            "Epoch 76/150\n",
            "\u001b[1m67/67\u001b[0m \u001b[32m━━━━━━━━━━━━━━━━━━━━\u001b[0m\u001b[37m\u001b[0m \u001b[1m0s\u001b[0m 6ms/step - auc: 0.8649 - loss: 0.4748 - val_auc: 0.0000e+00 - val_loss: 0.5512\n",
            "Epoch 77/150\n",
            "\u001b[1m67/67\u001b[0m \u001b[32m━━━━━━━━━━━━━━━━━━━━\u001b[0m\u001b[37m\u001b[0m \u001b[1m1s\u001b[0m 5ms/step - auc: 0.8700 - loss: 0.4692 - val_auc: 0.0000e+00 - val_loss: 0.5555\n",
            "Epoch 78/150\n",
            "\u001b[1m67/67\u001b[0m \u001b[32m━━━━━━━━━━━━━━━━━━━━\u001b[0m\u001b[37m\u001b[0m \u001b[1m0s\u001b[0m 6ms/step - auc: 0.8708 - loss: 0.4650 - val_auc: 0.0000e+00 - val_loss: 0.5569\n",
            "Epoch 79/150\n",
            "\u001b[1m67/67\u001b[0m \u001b[32m━━━━━━━━━━━━━━━━━━━━\u001b[0m\u001b[37m\u001b[0m \u001b[1m1s\u001b[0m 6ms/step - auc: 0.8687 - loss: 0.4702 - val_auc: 0.0000e+00 - val_loss: 0.5640\n",
            "Epoch 80/150\n",
            "\u001b[1m67/67\u001b[0m \u001b[32m━━━━━━━━━━━━━━━━━━━━\u001b[0m\u001b[37m\u001b[0m \u001b[1m0s\u001b[0m 6ms/step - auc: 0.8644 - loss: 0.4720 - val_auc: 0.0000e+00 - val_loss: 0.5440\n",
            "Epoch 81/150\n",
            "\u001b[1m67/67\u001b[0m \u001b[32m━━━━━━━━━━━━━━━━━━━━\u001b[0m\u001b[37m\u001b[0m \u001b[1m1s\u001b[0m 5ms/step - auc: 0.8737 - loss: 0.4611 - val_auc: 0.0000e+00 - val_loss: 0.5546\n",
            "Epoch 82/150\n",
            "\u001b[1m67/67\u001b[0m \u001b[32m━━━━━━━━━━━━━━━━━━━━\u001b[0m\u001b[37m\u001b[0m \u001b[1m0s\u001b[0m 6ms/step - auc: 0.8706 - loss: 0.4648 - val_auc: 0.0000e+00 - val_loss: 0.5465\n",
            "Epoch 83/150\n",
            "\u001b[1m67/67\u001b[0m \u001b[32m━━━━━━━━━━━━━━━━━━━━\u001b[0m\u001b[37m\u001b[0m \u001b[1m1s\u001b[0m 5ms/step - auc: 0.8671 - loss: 0.4682 - val_auc: 0.0000e+00 - val_loss: 0.5557\n",
            "Epoch 84/150\n",
            "\u001b[1m67/67\u001b[0m \u001b[32m━━━━━━━━━━━━━━━━━━━━\u001b[0m\u001b[37m\u001b[0m \u001b[1m1s\u001b[0m 6ms/step - auc: 0.8691 - loss: 0.4652 - val_auc: 0.0000e+00 - val_loss: 0.5408\n",
            "Epoch 85/150\n",
            "\u001b[1m67/67\u001b[0m \u001b[32m━━━━━━━━━━━━━━━━━━━━\u001b[0m\u001b[37m\u001b[0m \u001b[1m1s\u001b[0m 5ms/step - auc: 0.8671 - loss: 0.4695 - val_auc: 0.0000e+00 - val_loss: 0.5483\n",
            "Epoch 86/150\n",
            "\u001b[1m67/67\u001b[0m \u001b[32m━━━━━━━━━━━━━━━━━━━━\u001b[0m\u001b[37m\u001b[0m \u001b[1m0s\u001b[0m 6ms/step - auc: 0.8748 - loss: 0.4583 - val_auc: 0.0000e+00 - val_loss: 0.5547\n",
            "Epoch 87/150\n",
            "\u001b[1m67/67\u001b[0m \u001b[32m━━━━━━━━━━━━━━━━━━━━\u001b[0m\u001b[37m\u001b[0m \u001b[1m1s\u001b[0m 6ms/step - auc: 0.8606 - loss: 0.4714 - val_auc: 0.0000e+00 - val_loss: 0.5495\n",
            "Epoch 88/150\n",
            "\u001b[1m67/67\u001b[0m \u001b[32m━━━━━━━━━━━━━━━━━━━━\u001b[0m\u001b[37m\u001b[0m \u001b[1m1s\u001b[0m 5ms/step - auc: 0.8744 - loss: 0.4628 - val_auc: 0.0000e+00 - val_loss: 0.5577\n",
            "Epoch 89/150\n",
            "\u001b[1m67/67\u001b[0m \u001b[32m━━━━━━━━━━━━━━━━━━━━\u001b[0m\u001b[37m\u001b[0m \u001b[1m1s\u001b[0m 7ms/step - auc: 0.8691 - loss: 0.4602 - val_auc: 0.0000e+00 - val_loss: 0.5522\n",
            "Epoch 90/150\n",
            "\u001b[1m67/67\u001b[0m \u001b[32m━━━━━━━━━━━━━━━━━━━━\u001b[0m\u001b[37m\u001b[0m \u001b[1m1s\u001b[0m 9ms/step - auc: 0.8644 - loss: 0.4719 - val_auc: 0.0000e+00 - val_loss: 0.5455\n",
            "Epoch 91/150\n",
            "\u001b[1m67/67\u001b[0m \u001b[32m━━━━━━━━━━━━━━━━━━━━\u001b[0m\u001b[37m\u001b[0m \u001b[1m1s\u001b[0m 9ms/step - auc: 0.8717 - loss: 0.4577 - val_auc: 0.0000e+00 - val_loss: 0.5410\n",
            "Epoch 92/150\n",
            "\u001b[1m67/67\u001b[0m \u001b[32m━━━━━━━━━━━━━━━━━━━━\u001b[0m\u001b[37m\u001b[0m \u001b[1m1s\u001b[0m 9ms/step - auc: 0.8663 - loss: 0.4692 - val_auc: 0.0000e+00 - val_loss: 0.5409\n",
            "Epoch 93/150\n",
            "\u001b[1m67/67\u001b[0m \u001b[32m━━━━━━━━━━━━━━━━━━━━\u001b[0m\u001b[37m\u001b[0m \u001b[1m1s\u001b[0m 9ms/step - auc: 0.8690 - loss: 0.4624 - val_auc: 0.0000e+00 - val_loss: 0.5596\n",
            "Epoch 94/150\n",
            "\u001b[1m67/67\u001b[0m \u001b[32m━━━━━━━━━━━━━━━━━━━━\u001b[0m\u001b[37m\u001b[0m \u001b[1m1s\u001b[0m 8ms/step - auc: 0.8623 - loss: 0.4695 - val_auc: 0.0000e+00 - val_loss: 0.5470\n",
            "Epoch 95/150\n",
            "\u001b[1m67/67\u001b[0m \u001b[32m━━━━━━━━━━━━━━━━━━━━\u001b[0m\u001b[37m\u001b[0m \u001b[1m0s\u001b[0m 5ms/step - auc: 0.8751 - loss: 0.4510 - val_auc: 0.0000e+00 - val_loss: 0.5564\n",
            "Epoch 96/150\n",
            "\u001b[1m67/67\u001b[0m \u001b[32m━━━━━━━━━━━━━━━━━━━━\u001b[0m\u001b[37m\u001b[0m \u001b[1m1s\u001b[0m 6ms/step - auc: 0.8740 - loss: 0.4548 - val_auc: 0.0000e+00 - val_loss: 0.5476\n",
            "Epoch 97/150\n",
            "\u001b[1m67/67\u001b[0m \u001b[32m━━━━━━━━━━━━━━━━━━━━\u001b[0m\u001b[37m\u001b[0m \u001b[1m0s\u001b[0m 6ms/step - auc: 0.8667 - loss: 0.4669 - val_auc: 0.0000e+00 - val_loss: 0.5414\n",
            "Epoch 98/150\n",
            "\u001b[1m67/67\u001b[0m \u001b[32m━━━━━━━━━━━━━━━━━━━━\u001b[0m\u001b[37m\u001b[0m \u001b[1m1s\u001b[0m 5ms/step - auc: 0.8779 - loss: 0.4466 - val_auc: 0.0000e+00 - val_loss: 0.5441\n",
            "Epoch 99/150\n",
            "\u001b[1m67/67\u001b[0m \u001b[32m━━━━━━━━━━━━━━━━━━━━\u001b[0m\u001b[37m\u001b[0m \u001b[1m0s\u001b[0m 6ms/step - auc: 0.8735 - loss: 0.4539 - val_auc: 0.0000e+00 - val_loss: 0.5331\n",
            "Epoch 100/150\n",
            "\u001b[1m67/67\u001b[0m \u001b[32m━━━━━━━━━━━━━━━━━━━━\u001b[0m\u001b[37m\u001b[0m \u001b[1m1s\u001b[0m 5ms/step - auc: 0.8637 - loss: 0.4641 - val_auc: 0.0000e+00 - val_loss: 0.5293\n",
            "Epoch 101/150\n",
            "\u001b[1m67/67\u001b[0m \u001b[32m━━━━━━━━━━━━━━━━━━━━\u001b[0m\u001b[37m\u001b[0m \u001b[1m0s\u001b[0m 5ms/step - auc: 0.8638 - loss: 0.4694 - val_auc: 0.0000e+00 - val_loss: 0.5574\n",
            "Epoch 102/150\n",
            "\u001b[1m67/67\u001b[0m \u001b[32m━━━━━━━━━━━━━━━━━━━━\u001b[0m\u001b[37m\u001b[0m \u001b[1m0s\u001b[0m 5ms/step - auc: 0.8707 - loss: 0.4588 - val_auc: 0.0000e+00 - val_loss: 0.5613\n",
            "Epoch 103/150\n",
            "\u001b[1m67/67\u001b[0m \u001b[32m━━━━━━━━━━━━━━━━━━━━\u001b[0m\u001b[37m\u001b[0m \u001b[1m1s\u001b[0m 6ms/step - auc: 0.8733 - loss: 0.4518 - val_auc: 0.0000e+00 - val_loss: 0.5323\n",
            "Epoch 104/150\n",
            "\u001b[1m67/67\u001b[0m \u001b[32m━━━━━━━━━━━━━━━━━━━━\u001b[0m\u001b[37m\u001b[0m \u001b[1m1s\u001b[0m 5ms/step - auc: 0.8661 - loss: 0.4635 - val_auc: 0.0000e+00 - val_loss: 0.5567\n",
            "Epoch 105/150\n",
            "\u001b[1m67/67\u001b[0m \u001b[32m━━━━━━━━━━━━━━━━━━━━\u001b[0m\u001b[37m\u001b[0m \u001b[1m0s\u001b[0m 5ms/step - auc: 0.8630 - loss: 0.4683 - val_auc: 0.0000e+00 - val_loss: 0.5407\n",
            "Epoch 106/150\n",
            "\u001b[1m67/67\u001b[0m \u001b[32m━━━━━━━━━━━━━━━━━━━━\u001b[0m\u001b[37m\u001b[0m \u001b[1m1s\u001b[0m 6ms/step - auc: 0.8721 - loss: 0.4544 - val_auc: 0.0000e+00 - val_loss: 0.5495\n",
            "Epoch 107/150\n",
            "\u001b[1m67/67\u001b[0m \u001b[32m━━━━━━━━━━━━━━━━━━━━\u001b[0m\u001b[37m\u001b[0m \u001b[1m1s\u001b[0m 5ms/step - auc: 0.8773 - loss: 0.4466 - val_auc: 0.0000e+00 - val_loss: 0.5489\n",
            "Epoch 108/150\n",
            "\u001b[1m67/67\u001b[0m \u001b[32m━━━━━━━━━━━━━━━━━━━━\u001b[0m\u001b[37m\u001b[0m \u001b[1m0s\u001b[0m 5ms/step - auc: 0.8653 - loss: 0.4626 - val_auc: 0.0000e+00 - val_loss: 0.5393\n",
            "Epoch 109/150\n",
            "\u001b[1m67/67\u001b[0m \u001b[32m━━━━━━━━━━━━━━━━━━━━\u001b[0m\u001b[37m\u001b[0m \u001b[1m1s\u001b[0m 6ms/step - auc: 0.8686 - loss: 0.4549 - val_auc: 0.0000e+00 - val_loss: 0.5350\n",
            "Epoch 110/150\n",
            "\u001b[1m67/67\u001b[0m \u001b[32m━━━━━━━━━━━━━━━━━━━━\u001b[0m\u001b[37m\u001b[0m \u001b[1m0s\u001b[0m 6ms/step - auc: 0.8728 - loss: 0.4512 - val_auc: 0.0000e+00 - val_loss: 0.5365\n",
            "Epoch 111/150\n",
            "\u001b[1m67/67\u001b[0m \u001b[32m━━━━━━━━━━━━━━━━━━━━\u001b[0m\u001b[37m\u001b[0m \u001b[1m0s\u001b[0m 6ms/step - auc: 0.8785 - loss: 0.4449 - val_auc: 0.0000e+00 - val_loss: 0.5320\n",
            "Epoch 112/150\n",
            "\u001b[1m67/67\u001b[0m \u001b[32m━━━━━━━━━━━━━━━━━━━━\u001b[0m\u001b[37m\u001b[0m \u001b[1m1s\u001b[0m 5ms/step - auc: 0.8710 - loss: 0.4555 - val_auc: 0.0000e+00 - val_loss: 0.5323\n",
            "Epoch 113/150\n",
            "\u001b[1m67/67\u001b[0m \u001b[32m━━━━━━━━━━━━━━━━━━━━\u001b[0m\u001b[37m\u001b[0m \u001b[1m0s\u001b[0m 5ms/step - auc: 0.8664 - loss: 0.4563 - val_auc: 0.0000e+00 - val_loss: 0.5349\n",
            "Epoch 114/150\n",
            "\u001b[1m67/67\u001b[0m \u001b[32m━━━━━━━━━━━━━━━━━━━━\u001b[0m\u001b[37m\u001b[0m \u001b[1m1s\u001b[0m 8ms/step - auc: 0.8626 - loss: 0.4687 - val_auc: 0.0000e+00 - val_loss: 0.5220\n",
            "Epoch 115/150\n",
            "\u001b[1m67/67\u001b[0m \u001b[32m━━━━━━━━━━━━━━━━━━━━\u001b[0m\u001b[37m\u001b[0m \u001b[1m1s\u001b[0m 10ms/step - auc: 0.8760 - loss: 0.4462 - val_auc: 0.0000e+00 - val_loss: 0.5350\n",
            "Epoch 116/150\n",
            "\u001b[1m67/67\u001b[0m \u001b[32m━━━━━━━━━━━━━━━━━━━━\u001b[0m\u001b[37m\u001b[0m \u001b[1m1s\u001b[0m 9ms/step - auc: 0.8704 - loss: 0.4544 - val_auc: 0.0000e+00 - val_loss: 0.5319\n",
            "Epoch 117/150\n",
            "\u001b[1m67/67\u001b[0m \u001b[32m━━━━━━━━━━━━━━━━━━━━\u001b[0m\u001b[37m\u001b[0m \u001b[1m1s\u001b[0m 10ms/step - auc: 0.8713 - loss: 0.4532 - val_auc: 0.0000e+00 - val_loss: 0.5508\n",
            "Epoch 118/150\n",
            "\u001b[1m67/67\u001b[0m \u001b[32m━━━━━━━━━━━━━━━━━━━━\u001b[0m\u001b[37m\u001b[0m \u001b[1m1s\u001b[0m 6ms/step - auc: 0.8695 - loss: 0.4560 - val_auc: 0.0000e+00 - val_loss: 0.5331\n",
            "Epoch 119/150\n",
            "\u001b[1m67/67\u001b[0m \u001b[32m━━━━━━━━━━━━━━━━━━━━\u001b[0m\u001b[37m\u001b[0m \u001b[1m1s\u001b[0m 5ms/step - auc: 0.8666 - loss: 0.4560 - val_auc: 0.0000e+00 - val_loss: 0.5371\n",
            "Epoch 120/150\n",
            "\u001b[1m67/67\u001b[0m \u001b[32m━━━━━━━━━━━━━━━━━━━━\u001b[0m\u001b[37m\u001b[0m \u001b[1m0s\u001b[0m 6ms/step - auc: 0.8723 - loss: 0.4489 - val_auc: 0.0000e+00 - val_loss: 0.5369\n",
            "Epoch 121/150\n",
            "\u001b[1m67/67\u001b[0m \u001b[32m━━━━━━━━━━━━━━━━━━━━\u001b[0m\u001b[37m\u001b[0m \u001b[1m1s\u001b[0m 5ms/step - auc: 0.8708 - loss: 0.4506 - val_auc: 0.0000e+00 - val_loss: 0.5330\n",
            "Epoch 122/150\n",
            "\u001b[1m67/67\u001b[0m \u001b[32m━━━━━━━━━━━━━━━━━━━━\u001b[0m\u001b[37m\u001b[0m \u001b[1m1s\u001b[0m 5ms/step - auc: 0.8730 - loss: 0.4502 - val_auc: 0.0000e+00 - val_loss: 0.5411\n",
            "Epoch 123/150\n",
            "\u001b[1m67/67\u001b[0m \u001b[32m━━━━━━━━━━━━━━━━━━━━\u001b[0m\u001b[37m\u001b[0m \u001b[1m1s\u001b[0m 6ms/step - auc: 0.8706 - loss: 0.4489 - val_auc: 0.0000e+00 - val_loss: 0.5271\n",
            "Epoch 124/150\n",
            "\u001b[1m67/67\u001b[0m \u001b[32m━━━━━━━━━━━━━━━━━━━━\u001b[0m\u001b[37m\u001b[0m \u001b[1m0s\u001b[0m 5ms/step - auc: 0.8723 - loss: 0.4510 - val_auc: 0.0000e+00 - val_loss: 0.5372\n",
            "Epoch 125/150\n",
            "\u001b[1m67/67\u001b[0m \u001b[32m━━━━━━━━━━━━━━━━━━━━\u001b[0m\u001b[37m\u001b[0m \u001b[1m0s\u001b[0m 5ms/step - auc: 0.8742 - loss: 0.4484 - val_auc: 0.0000e+00 - val_loss: 0.5315\n",
            "Epoch 126/150\n",
            "\u001b[1m67/67\u001b[0m \u001b[32m━━━━━━━━━━━━━━━━━━━━\u001b[0m\u001b[37m\u001b[0m \u001b[1m1s\u001b[0m 5ms/step - auc: 0.8695 - loss: 0.4598 - val_auc: 0.0000e+00 - val_loss: 0.5358\n",
            "Epoch 127/150\n",
            "\u001b[1m67/67\u001b[0m \u001b[32m━━━━━━━━━━━━━━━━━━━━\u001b[0m\u001b[37m\u001b[0m \u001b[1m0s\u001b[0m 5ms/step - auc: 0.8725 - loss: 0.4494 - val_auc: 0.0000e+00 - val_loss: 0.5315\n",
            "Epoch 128/150\n",
            "\u001b[1m67/67\u001b[0m \u001b[32m━━━━━━━━━━━━━━━━━━━━\u001b[0m\u001b[37m\u001b[0m \u001b[1m0s\u001b[0m 6ms/step - auc: 0.8708 - loss: 0.4574 - val_auc: 0.0000e+00 - val_loss: 0.5355\n",
            "Epoch 129/150\n",
            "\u001b[1m67/67\u001b[0m \u001b[32m━━━━━━━━━━━━━━━━━━━━\u001b[0m\u001b[37m\u001b[0m \u001b[1m0s\u001b[0m 6ms/step - auc: 0.8685 - loss: 0.4582 - val_auc: 0.0000e+00 - val_loss: 0.5434\n",
            "Epoch 130/150\n",
            "\u001b[1m67/67\u001b[0m \u001b[32m━━━━━━━━━━━━━━━━━━━━\u001b[0m\u001b[37m\u001b[0m \u001b[1m1s\u001b[0m 6ms/step - auc: 0.8666 - loss: 0.4571 - val_auc: 0.0000e+00 - val_loss: 0.5338\n",
            "Epoch 131/150\n",
            "\u001b[1m67/67\u001b[0m \u001b[32m━━━━━━━━━━━━━━━━━━━━\u001b[0m\u001b[37m\u001b[0m \u001b[1m0s\u001b[0m 6ms/step - auc: 0.8686 - loss: 0.4556 - val_auc: 0.0000e+00 - val_loss: 0.5276\n",
            "Epoch 132/150\n",
            "\u001b[1m67/67\u001b[0m \u001b[32m━━━━━━━━━━━━━━━━━━━━\u001b[0m\u001b[37m\u001b[0m \u001b[1m0s\u001b[0m 7ms/step - auc: 0.8720 - loss: 0.4474 - val_auc: 0.0000e+00 - val_loss: 0.5201\n",
            "Epoch 133/150\n",
            "\u001b[1m67/67\u001b[0m \u001b[32m━━━━━━━━━━━━━━━━━━━━\u001b[0m\u001b[37m\u001b[0m \u001b[1m0s\u001b[0m 5ms/step - auc: 0.8686 - loss: 0.4556 - val_auc: 0.0000e+00 - val_loss: 0.5326\n",
            "Epoch 134/150\n",
            "\u001b[1m67/67\u001b[0m \u001b[32m━━━━━━━━━━━━━━━━━━━━\u001b[0m\u001b[37m\u001b[0m \u001b[1m0s\u001b[0m 5ms/step - auc: 0.8703 - loss: 0.4529 - val_auc: 0.0000e+00 - val_loss: 0.5349\n",
            "Epoch 135/150\n",
            "\u001b[1m67/67\u001b[0m \u001b[32m━━━━━━━━━━━━━━━━━━━━\u001b[0m\u001b[37m\u001b[0m \u001b[1m0s\u001b[0m 6ms/step - auc: 0.8771 - loss: 0.4421 - val_auc: 0.0000e+00 - val_loss: 0.5210\n",
            "Epoch 136/150\n",
            "\u001b[1m67/67\u001b[0m \u001b[32m━━━━━━━━━━━━━━━━━━━━\u001b[0m\u001b[37m\u001b[0m \u001b[1m0s\u001b[0m 5ms/step - auc: 0.8727 - loss: 0.4458 - val_auc: 0.0000e+00 - val_loss: 0.5220\n",
            "Epoch 137/150\n",
            "\u001b[1m67/67\u001b[0m \u001b[32m━━━━━━━━━━━━━━━━━━━━\u001b[0m\u001b[37m\u001b[0m \u001b[1m0s\u001b[0m 7ms/step - auc: 0.8771 - loss: 0.4428 - val_auc: 0.0000e+00 - val_loss: 0.5431\n",
            "Epoch 138/150\n",
            "\u001b[1m67/67\u001b[0m \u001b[32m━━━━━━━━━━━━━━━━━━━━\u001b[0m\u001b[37m\u001b[0m \u001b[1m1s\u001b[0m 9ms/step - auc: 0.8767 - loss: 0.4431 - val_auc: 0.0000e+00 - val_loss: 0.5240\n",
            "Epoch 139/150\n",
            "\u001b[1m67/67\u001b[0m \u001b[32m━━━━━━━━━━━━━━━━━━━━\u001b[0m\u001b[37m\u001b[0m \u001b[1m1s\u001b[0m 9ms/step - auc: 0.8723 - loss: 0.4488 - val_auc: 0.0000e+00 - val_loss: 0.5330\n",
            "Epoch 140/150\n",
            "\u001b[1m67/67\u001b[0m \u001b[32m━━━━━━━━━━━━━━━━━━━━\u001b[0m\u001b[37m\u001b[0m \u001b[1m1s\u001b[0m 9ms/step - auc: 0.8729 - loss: 0.4486 - val_auc: 0.0000e+00 - val_loss: 0.5440\n",
            "Epoch 141/150\n",
            "\u001b[1m67/67\u001b[0m \u001b[32m━━━━━━━━━━━━━━━━━━━━\u001b[0m\u001b[37m\u001b[0m \u001b[1m1s\u001b[0m 5ms/step - auc: 0.8711 - loss: 0.4564 - val_auc: 0.0000e+00 - val_loss: 0.5232\n",
            "Epoch 142/150\n",
            "\u001b[1m67/67\u001b[0m \u001b[32m━━━━━━━━━━━━━━━━━━━━\u001b[0m\u001b[37m\u001b[0m \u001b[1m0s\u001b[0m 5ms/step - auc: 0.8725 - loss: 0.4497 - val_auc: 0.0000e+00 - val_loss: 0.5428\n",
            "Epoch 143/150\n",
            "\u001b[1m67/67\u001b[0m \u001b[32m━━━━━━━━━━━━━━━━━━━━\u001b[0m\u001b[37m\u001b[0m \u001b[1m1s\u001b[0m 5ms/step - auc: 0.8698 - loss: 0.4550 - val_auc: 0.0000e+00 - val_loss: 0.5369\n",
            "Epoch 144/150\n",
            "\u001b[1m67/67\u001b[0m \u001b[32m━━━━━━━━━━━━━━━━━━━━\u001b[0m\u001b[37m\u001b[0m \u001b[1m0s\u001b[0m 5ms/step - auc: 0.8802 - loss: 0.4359 - val_auc: 0.0000e+00 - val_loss: 0.5358\n",
            "Epoch 145/150\n",
            "\u001b[1m67/67\u001b[0m \u001b[32m━━━━━━━━━━━━━━━━━━━━\u001b[0m\u001b[37m\u001b[0m \u001b[1m1s\u001b[0m 5ms/step - auc: 0.8685 - loss: 0.4530 - val_auc: 0.0000e+00 - val_loss: 0.5283\n",
            "Epoch 146/150\n",
            "\u001b[1m67/67\u001b[0m \u001b[32m━━━━━━━━━━━━━━━━━━━━\u001b[0m\u001b[37m\u001b[0m \u001b[1m1s\u001b[0m 6ms/step - auc: 0.8675 - loss: 0.4557 - val_auc: 0.0000e+00 - val_loss: 0.5233\n",
            "Epoch 147/150\n",
            "\u001b[1m67/67\u001b[0m \u001b[32m━━━━━━━━━━━━━━━━━━━━\u001b[0m\u001b[37m\u001b[0m \u001b[1m0s\u001b[0m 6ms/step - auc: 0.8808 - loss: 0.4335 - val_auc: 0.0000e+00 - val_loss: 0.5407\n",
            "Epoch 148/150\n",
            "\u001b[1m67/67\u001b[0m \u001b[32m━━━━━━━━━━━━━━━━━━━━\u001b[0m\u001b[37m\u001b[0m \u001b[1m0s\u001b[0m 5ms/step - auc: 0.8749 - loss: 0.4447 - val_auc: 0.0000e+00 - val_loss: 0.5197\n",
            "Epoch 149/150\n",
            "\u001b[1m67/67\u001b[0m \u001b[32m━━━━━━━━━━━━━━━━━━━━\u001b[0m\u001b[37m\u001b[0m \u001b[1m0s\u001b[0m 6ms/step - auc: 0.8720 - loss: 0.4504 - val_auc: 0.0000e+00 - val_loss: 0.5369\n",
            "Epoch 150/150\n",
            "\u001b[1m67/67\u001b[0m \u001b[32m━━━━━━━━━━━━━━━━━━━━\u001b[0m\u001b[37m\u001b[0m \u001b[1m0s\u001b[0m 6ms/step - auc: 0.8718 - loss: 0.4488 - val_auc: 0.0000e+00 - val_loss: 0.5307\n",
            "Restoring model weights from the end of the best epoch: 132.\n"
          ]
        }
      ]
    },
    {
      "cell_type": "code",
      "source": [
        "# Evaluate the model on the validation data\n",
        "val_loss, val_auc = model.evaluate(X_train_scaled, y_train, verbose=1)\n",
        "print(f'Validation Loss: {val_loss:.4f}')\n",
        "print(f'Validation AUC: {val_auc:.4f}')\n"
      ],
      "metadata": {
        "colab": {
          "base_uri": "https://localhost:8080/"
        },
        "id": "gFNtBoFMKkZK",
        "outputId": "d3976a69-5438-439c-abc1-9db8f983e070"
      },
      "id": "gFNtBoFMKkZK",
      "execution_count": null,
      "outputs": [
        {
          "output_type": "stream",
          "name": "stdout",
          "text": [
            "\u001b[1m177/177\u001b[0m \u001b[32m━━━━━━━━━━━━━━━━━━━━\u001b[0m\u001b[37m\u001b[0m \u001b[1m0s\u001b[0m 1ms/step - auc: 0.8836 - loss: 0.4051\n",
            "Validation Loss: 0.4182\n",
            "Validation AUC: 0.8740\n"
          ]
        }
      ]
    },
    {
      "cell_type": "code",
      "source": [
        "import matplotlib.pyplot as plt\n",
        "\n",
        "# Plot training & validation loss values\n",
        "plt.figure(figsize=(12, 6))\n",
        "plt.plot(history.history['loss'])\n",
        "plt.plot(history.history['val_loss'])\n",
        "plt.title('Model Loss')\n",
        "plt.xlabel('Epoch')\n",
        "plt.ylabel('Loss')\n",
        "plt.legend(['Train', 'Validation'])\n",
        "plt.show()\n",
        "\n",
        "# Plot training & validation AUC values\n",
        "plt.figure(figsize=(12, 6))\n",
        "plt.plot(history.history['auc'])\n",
        "plt.plot(history.history['val_auc'])\n",
        "plt.title('Model AUC')\n",
        "plt.xlabel('Epoch')\n",
        "plt.ylabel('AUC')\n",
        "plt.legend(['Train', 'Validation'])\n",
        "plt.show()\n"
      ],
      "metadata": {
        "colab": {
          "base_uri": "https://localhost:8080/",
          "height": 917
        },
        "id": "X8tE5gsJKpiH",
        "outputId": "6752f32c-1370-428d-dcdc-36775b0b7678"
      },
      "id": "X8tE5gsJKpiH",
      "execution_count": null,
      "outputs": [
        {
          "output_type": "display_data",
          "data": {
            "text/plain": [
              "<Figure size 1200x600 with 1 Axes>"
            ],
            "image/png": "[encoded data removed]"
          },
          "metadata": {}
        },
        {
          "output_type": "display_data",
          "data": {
            "text/plain": [
              "<Figure size 1200x600 with 1 Axes>"
            ],
            "image/png": "[encoded data removed]"
          },
          "metadata": {}
        }
      ]
    },
    {
      "cell_type": "code",
      "source": [
        "model.save('ann_model1.h5')\n",
        "print(\"Model saved successfully.\")"
      ],
      "metadata": {
        "colab": {
          "base_uri": "https://localhost:8080/"
        },
        "id": "jl2yQaZaK3Xp",
        "outputId": "cd6eb2c3-e8fe-4767-a8e6-d09fc8cd206e"
      },
      "id": "jl2yQaZaK3Xp",
      "execution_count": null,
      "outputs": [
        {
          "output_type": "stream",
          "name": "stderr",
          "text": [
            "WARNING:absl:You are saving your model as an HDF5 file via `model.save()` or `keras.saving.save_model(model)`. This file format is considered legacy. We recommend using instead the native Keras format, e.g. `model.save('my_model.keras')` or `keras.saving.save_model(model, 'my_model.keras')`. \n"
          ]
        },
        {
          "output_type": "stream",
          "name": "stdout",
          "text": [
            "Model saved successfully.\n"
          ]
        }
      ]
    },
    {
      "cell_type": "code",
      "source": [
        "pip install keras-tuner\n"
      ],
      "metadata": {
        "colab": {
          "base_uri": "https://localhost:8080/"
        },
        "id": "zlnkjxcSM8_Z",
        "outputId": "5b8903f3-240d-4083-9869-bd558d8f1044"
      },
      "id": "zlnkjxcSM8_Z",
      "execution_count": null,
      "outputs": [
        {
          "output_type": "stream",
          "name": "stdout",
          "text": [
            "Collecting keras-tuner\n",
            "  Downloading keras_tuner-1.4.7-py3-none-any.whl.metadata (5.4 kB)\n",
            "Requirement already satisfied: keras in /usr/local/lib/python3.10/dist-packages (from keras-tuner) (3.4.1)\n",
            "Requirement already satisfied: packaging in /usr/local/lib/python3.10/dist-packages (from keras-tuner) (24.1)\n",
            "Requirement already satisfied: requests in /usr/local/lib/python3.10/dist-packages (from keras-tuner) (2.32.3)\n",
            "Collecting kt-legacy (from keras-tuner)\n",
            "  Downloading kt_legacy-1.0.5-py3-none-any.whl.metadata (221 bytes)\n",
            "Requirement already satisfied: absl-py in /usr/local/lib/python3.10/dist-packages (from keras->keras-tuner) (1.4.0)\n",
            "Requirement already satisfied: numpy in /usr/local/lib/python3.10/dist-packages (from keras->keras-tuner) (1.25.2)\n",
            "Requirement already satisfied: rich in /usr/local/lib/python3.10/dist-packages (from keras->keras-tuner) (13.8.0)\n",
            "Requirement already satisfied: namex in /usr/local/lib/python3.10/dist-packages (from keras->keras-tuner) (0.0.8)\n",
            "Requirement already satisfied: h5py in /usr/local/lib/python3.10/dist-packages (from keras->keras-tuner) (3.11.0)\n",
            "Requirement already satisfied: optree in /usr/local/lib/python3.10/dist-packages (from keras->keras-tuner) (0.12.1)\n",
            "Requirement already satisfied: ml-dtypes in /usr/local/lib/python3.10/dist-packages (from keras->keras-tuner) (0.4.0)\n",
            "Requirement already satisfied: charset-normalizer<4,>=2 in /usr/local/lib/python3.10/dist-packages (from requests->keras-tuner) (3.3.2)\n",
            "Requirement already satisfied: idna<4,>=2.5 in /usr/local/lib/python3.10/dist-packages (from requests->keras-tuner) (3.8)\n",
            "Requirement already satisfied: urllib3<3,>=1.21.1 in /usr/local/lib/python3.10/dist-packages (from requests->keras-tuner) (2.0.7)\n",
            "Requirement already satisfied: certifi>=2017.4.17 in /usr/local/lib/python3.10/dist-packages (from requests->keras-tuner) (2024.8.30)\n",
            "Requirement already satisfied: typing-extensions>=4.5.0 in /usr/local/lib/python3.10/dist-packages (from optree->keras->keras-tuner) (4.12.2)\n",
            "Requirement already satisfied: markdown-it-py>=2.2.0 in /usr/local/lib/python3.10/dist-packages (from rich->keras->keras-tuner) (3.0.0)\n",
            "Requirement already satisfied: pygments<3.0.0,>=2.13.0 in /usr/local/lib/python3.10/dist-packages (from rich->keras->keras-tuner) (2.16.1)\n",
            "Requirement already satisfied: mdurl~=0.1 in /usr/local/lib/python3.10/dist-packages (from markdown-it-py>=2.2.0->rich->keras->keras-tuner) (0.1.2)\n",
            "Downloading keras_tuner-1.4.7-py3-none-any.whl (129 kB)\n",
            "\u001b[2K   \u001b[90m━━━━━━━━━━━━━━━━━━━━━━━━━━━━━━━━━━━━━━━━\u001b[0m \u001b[32m129.1/129.1 kB\u001b[0m \u001b[31m2.5 MB/s\u001b[0m eta \u001b[36m0:00:00\u001b[0m\n",
            "\u001b[?25hDownloading kt_legacy-1.0.5-py3-none-any.whl (9.6 kB)\n",
            "Installing collected packages: kt-legacy, keras-tuner\n",
            "Successfully installed keras-tuner-1.4.7 kt-legacy-1.0.5\n"
          ]
        }
      ]
    },
    {
      "cell_type": "code",
      "source": [
        "import kerastuner as kt\n",
        "from tensorflow.keras.layers import BatchNormalization, LeakyReLU\n",
        "from tensorflow.keras.regularizers import l2\n",
        "from tensorflow.keras.optimizers import Adam\n",
        "from imblearn.over_sampling import SMOTE\n",
        "import numpy as np\n",
        "import tensorflow as tf\n",
        "\n",
        "# Assuming X_train and y_train are already loaded and scaled\n",
        "# Balancing the dataset using SMOTE\n",
        "sm = SMOTE(random_state=42)\n",
        "X_train_resampled, y_train_resampled = sm.fit_resample(X_train_scaled, y_train)\n",
        "\n",
        "def build_model(hp):\n",
        "    model = tf.keras.Sequential()\n",
        "\n",
        "    model.add(tf.keras.Input(shape=(21,)))\n",
        "\n",
        "    for i in range(hp.Int('num_layers', 1, 4)):\n",
        "        model.add(tf.keras.layers.Dense(\n",
        "            units=hp.Int(f'units_{i}', min_value=32, max_value=256, step=32),\n",
        "            kernel_regularizer=l2(0.001)\n",
        "        ))\n",
        "        model.add(BatchNormalization())\n",
        "        model.add(LeakyReLU())\n",
        "        model.add(Dropout(hp.Float('dropout_rate', 0.3, 0.7, step=0.1)))\n",
        "\n",
        "    model.add(tf.keras.layers.Dense(1, activation='sigmoid'))\n",
        "\n",
        "    model.compile(\n",
        "        optimizer=Adam(hp.Float('learning_rate', 1e-5, 1e-2, sampling='LOG')),\n",
        "        loss='binary_crossentropy',\n",
        "        metrics=[tf.keras.metrics.AUC(name='auc')]\n",
        "    )\n",
        "\n",
        "    return model\n",
        "\n",
        "# Initialize the tuner\n",
        "tuner = kt.Hyperband(\n",
        "    build_model,\n",
        "    objective='val_auc',\n",
        "    max_epochs=150,\n",
        "    factor=3,\n",
        "    directory='kt_dir',\n",
        "    project_name='model_tuning'\n",
        ")\n",
        "\n",
        "# Perform the hyperparameter search\n",
        "tuner.search(\n",
        "    X_train_resampled,\n",
        "    y_train_resampled,\n",
        "    epochs=150,\n",
        "    batch_size=BATCH_SIZE,\n",
        "    validation_split=0.2\n",
        ")\n",
        "\n",
        "# Get the best model\n",
        "best_model = tuner.get_best_models(num_models=1)[0]\n",
        "\n",
        "# Evaluate the best model\n",
        "test_loss, test_auc = best_model.evaluate(X_test_scaled, y_test, verbose=1)\n",
        "print(f'Test Loss: {test_loss:.4f}')\n",
        "print(f'Test AUC: {test_auc:.4f}')\n"
      ],
      "metadata": {
        "colab": {
          "base_uri": "https://localhost:8080/"
        },
        "id": "8hVIXibkMuGW",
        "outputId": "00a2bebe-3439-43e7-e251-d21de57c97ee"
      },
      "id": "8hVIXibkMuGW",
      "execution_count": null,
      "outputs": [
        {
          "output_type": "stream",
          "name": "stdout",
          "text": [
            "Trial 254 Complete [00h 01m 50s]\n",
            "val_auc: 0.0\n",
            "\n",
            "Best val_auc So Far: 0.0\n",
            "Total elapsed time: 01h 05m 37s\n",
            "\u001b[1m45/45\u001b[0m \u001b[32m━━━━━━━━━━━━━━━━━━━━\u001b[0m\u001b[37m\u001b[0m \u001b[1m0s\u001b[0m 2ms/step - auc: 0.6047 - loss: 0.7845\n",
            "Test Loss: 0.7871\n",
            "Test AUC: 0.6039\n"
          ]
        }
      ]
    },
    {
      "cell_type": "code",
      "source": [
        "from tensorflow.keras.layers import BatchNormalization, LeakyReLU, Dropout\n",
        "from tensorflow.keras.regularizers import l2\n",
        "from tensorflow.keras.optimizers import RMSprop\n",
        "from sklearn.utils import class_weight\n",
        "from imblearn.over_sampling import SMOTE\n",
        "import numpy as np\n",
        "import tensorflow as tf\n",
        "\n",
        "# Ensure X_train and y_train are already loaded and scaled\n",
        "# Balancing the dataset using SMOTE\n",
        "sm = SMOTE(random_state=42)\n",
        "X_train_resampled, y_train_resampled = sm.fit_resample(X_train_scaled, y_train)\n",
        "\n",
        "# Calculate class weights to handle class imbalance\n",
        "class_weights_dict = dict(enumerate(class_weight.compute_class_weight(\n",
        "    'balanced',\n",
        "    classes=np.unique(y_train_resampled),\n",
        "    y=y_train_resampled\n",
        ")))\n",
        "\n",
        "# Check shapes of training and validation sets\n",
        "train_size = int(0.80 * len(X_train_resampled))\n",
        "val_size = len(X_train_resampled) - train_size\n",
        "print(f\"Training data shape: {X_train_resampled[:train_size].shape}\")\n",
        "print(f\"Validation data shape: {X_train_resampled[train_size:].shape}\")\n",
        "\n",
        "# Updated model architecture with deeper layers and L2 regularization\n",
        "model = tf.keras.Sequential([\n",
        "    tf.keras.Input(shape=(21,)),\n",
        "    tf.keras.layers.Dense(512, kernel_regularizer=l2(0.001)),\n",
        "    BatchNormalization(),\n",
        "    LeakyReLU(),\n",
        "    Dropout(0.4),\n",
        "    tf.keras.layers.Dense(256, kernel_regularizer=l2(0.001)),\n",
        "    BatchNormalization(),\n",
        "    LeakyReLU(),\n",
        "    Dropout(0.3),\n",
        "    tf.keras.layers.Dense(128, kernel_regularizer=l2(0.001)),\n",
        "    BatchNormalization(),\n",
        "    LeakyReLU(),\n",
        "    Dropout(0.3),\n",
        "    tf.keras.layers.Dense(64, kernel_regularizer=l2(0.001)),\n",
        "    BatchNormalization(),\n",
        "    LeakyReLU(),\n",
        "    Dropout(0.2),\n",
        "    tf.keras.layers.Dense(32, kernel_regularizer=l2(0.001)),\n",
        "    BatchNormalization(),\n",
        "    LeakyReLU(),\n",
        "    Dropout(0.2),\n",
        "    tf.keras.layers.Dense(1, activation='sigmoid')\n",
        "])\n",
        "\n",
        "# Early stopping callback\n",
        "early_stopping = tf.keras.callbacks.EarlyStopping(\n",
        "    monitor='val_auc', min_delta=0.0005, patience=10, verbose=1,  # Adjusted patience and monitor metric\n",
        "    mode='max', restore_best_weights=True\n",
        ")\n",
        "\n",
        "# Compile model with RMSprop optimizer\n",
        "model.compile(\n",
        "    optimizer=RMSprop(learning_rate=0.0001),  # Adjusted learning rate\n",
        "    loss='binary_crossentropy',\n",
        "    metrics=[tf.keras.metrics.AUC(name='auc')]\n",
        ")\n",
        "\n",
        "# Train the model\n",
        "history = model.fit(\n",
        "    X_train_resampled,  # Use resampled data\n",
        "    y_train_resampled,\n",
        "    validation_split=0.20,  # Ensure proper validation split\n",
        "    batch_size=64,  # Adjusted batch size\n",
        "    epochs=150,  # Increased epochs\n",
        "    verbose=1,\n",
        "    class_weight=class_weights_dict,  # Use class weights for imbalance\n",
        "    callbacks=[early_stopping]\n",
        ")\n"
      ],
      "metadata": {
        "id": "rxhEsbtJetSs",
        "outputId": "ba5e2875-efad-4bf5-8cb8-d51bb30f2e76",
        "colab": {
          "base_uri": "https://localhost:8080/"
        }
      },
      "id": "rxhEsbtJetSs",
      "execution_count": null,
      "outputs": [
        {
          "output_type": "stream",
          "name": "stdout",
          "text": [
            "Training data shape: (6622, 21)\n",
            "Validation data shape: (1656, 21)\n",
            "Epoch 1/150\n",
            "\u001b[1m104/104\u001b[0m \u001b[32m━━━━━━━━━━━━━━━━━━━━\u001b[0m\u001b[37m\u001b[0m \u001b[1m5s\u001b[0m 13ms/step - auc: 0.7134 - loss: 1.3104 - val_auc: 0.0000e+00 - val_loss: 1.1788\n",
            "Epoch 2/150\n",
            "\u001b[1m104/104\u001b[0m \u001b[32m━━━━━━━━━━━━━━━━━━━━\u001b[0m\u001b[37m\u001b[0m \u001b[1m1s\u001b[0m 9ms/step - auc: 0.8038 - loss: 1.2146 - val_auc: 0.0000e+00 - val_loss: 1.1002\n",
            "Epoch 3/150\n",
            "\u001b[1m104/104\u001b[0m \u001b[32m━━━━━━━━━━━━━━━━━━━━\u001b[0m\u001b[37m\u001b[0m \u001b[1m1s\u001b[0m 10ms/step - auc: 0.8185 - loss: 1.1898 - val_auc: 0.0000e+00 - val_loss: 1.0584\n",
            "Epoch 4/150\n",
            "\u001b[1m104/104\u001b[0m \u001b[32m━━━━━━━━━━━━━━━━━━━━\u001b[0m\u001b[37m\u001b[0m \u001b[1m2s\u001b[0m 16ms/step - auc: 0.8245 - loss: 1.1670 - val_auc: 0.0000e+00 - val_loss: 1.0506\n",
            "Epoch 5/150\n",
            "\u001b[1m104/104\u001b[0m \u001b[32m━━━━━━━━━━━━━━━━━━━━\u001b[0m\u001b[37m\u001b[0m \u001b[1m2s\u001b[0m 9ms/step - auc: 0.8320 - loss: 1.1446 - val_auc: 0.0000e+00 - val_loss: 1.0487\n",
            "Epoch 6/150\n",
            "\u001b[1m104/104\u001b[0m \u001b[32m━━━━━━━━━━━━━━━━━━━━\u001b[0m\u001b[37m\u001b[0m \u001b[1m1s\u001b[0m 9ms/step - auc: 0.8333 - loss: 1.1281 - val_auc: 0.0000e+00 - val_loss: 1.0556\n",
            "Epoch 7/150\n",
            "\u001b[1m104/104\u001b[0m \u001b[32m━━━━━━━━━━━━━━━━━━━━\u001b[0m\u001b[37m\u001b[0m \u001b[1m1s\u001b[0m 9ms/step - auc: 0.8262 - loss: 1.1272 - val_auc: 0.0000e+00 - val_loss: 1.0499\n",
            "Epoch 8/150\n",
            "\u001b[1m104/104\u001b[0m \u001b[32m━━━━━━━━━━━━━━━━━━━━\u001b[0m\u001b[37m\u001b[0m \u001b[1m1s\u001b[0m 9ms/step - auc: 0.8261 - loss: 1.1134 - val_auc: 0.0000e+00 - val_loss: 1.0503\n",
            "Epoch 9/150\n",
            "\u001b[1m104/104\u001b[0m \u001b[32m━━━━━━━━━━━━━━━━━━━━\u001b[0m\u001b[37m\u001b[0m \u001b[1m1s\u001b[0m 10ms/step - auc: 0.8446 - loss: 1.0807 - val_auc: 0.0000e+00 - val_loss: 1.0553\n",
            "Epoch 10/150\n",
            "\u001b[1m104/104\u001b[0m \u001b[32m━━━━━━━━━━━━━━━━━━━━\u001b[0m\u001b[37m\u001b[0m \u001b[1m1s\u001b[0m 9ms/step - auc: 0.8350 - loss: 1.0769 - val_auc: 0.0000e+00 - val_loss: 1.0531\n",
            "Epoch 11/150\n",
            "\u001b[1m104/104\u001b[0m \u001b[32m━━━━━━━━━━━━━━━━━━━━\u001b[0m\u001b[37m\u001b[0m \u001b[1m1s\u001b[0m 10ms/step - auc: 0.8418 - loss: 1.0606 - val_auc: 0.0000e+00 - val_loss: 1.0535\n",
            "Epoch 11: early stopping\n",
            "Restoring model weights from the end of the best epoch: 1.\n"
          ]
        }
      ]
    },
    {
      "cell_type": "code",
      "source": [
        "import numpy as np\n",
        "import tensorflow as tf\n",
        "from tensorflow.keras.layers import Dense, Dropout\n",
        "from tensorflow.keras.optimizers import Adam\n",
        "from sklearn.preprocessing import StandardScaler\n",
        "from sklearn.utils import class_weight\n",
        "from imblearn.over_sampling import SMOTE\n",
        "\n",
        "# Assuming X_train and y_train are already loaded\n",
        "\n",
        "# Normalize the input data\n",
        "scaler = StandardScaler()\n",
        "X_train_scaled = scaler.fit_transform(X_train)\n",
        "\n",
        "# Balancing the dataset using SMOTE\n",
        "sm = SMOTE(random_state=42)\n",
        "X_train_resampled, y_train_resampled = sm.fit_resample(X_train_scaled, y_train)\n",
        "\n",
        "# Calculate class weights to handle class imbalance\n",
        "class_weights_dict = dict(enumerate(class_weight.compute_class_weight(\n",
        "    'balanced',\n",
        "    classes=np.unique(y_train_resampled),\n",
        "    y=y_train_resampled\n",
        ")))\n",
        "\n",
        "# Updated model with more layers and regularization\n",
        "model = tf.keras.Sequential([\n",
        "    tf.keras.Input(shape=(X_train_resampled.shape[1],)),\n",
        "    Dense(256, activation='relu', kernel_regularizer=tf.keras.regularizers.l2(0.001)),  # Increased units and L2 regularization\n",
        "    Dropout(0.4),  # Increased dropout rate\n",
        "    Dense(128, activation='relu', kernel_regularizer=tf.keras.regularizers.l2(0.001)),\n",
        "    Dropout(0.4),\n",
        "    Dense(64, activation='relu', kernel_regularizer=tf.keras.regularizers.l2(0.001)),\n",
        "    Dropout(0.3),\n",
        "    Dense(32, activation='relu', kernel_regularizer=tf.keras.regularizers.l2(0.001)),\n",
        "    Dense(1, activation='sigmoid')\n",
        "])\n",
        "\n",
        "# Early stopping callback\n",
        "early_stopping = tf.keras.callbacks.EarlyStopping(\n",
        "    monitor='val_loss', min_delta=0.001, patience=10, verbose=1,\n",
        "    mode='auto', restore_best_weights=True\n",
        ")\n",
        "\n",
        "# Compile model with Adam optimizer and a custom learning rate\n",
        "model.compile(\n",
        "    optimizer=Adam(learning_rate=0.0003),  # Adjusted learning rate\n",
        "    loss='binary_crossentropy',\n",
        "    metrics=[tf.keras.metrics.AUC(name='auc')]\n",
        ")\n",
        "\n",
        "# Training parameters\n",
        "BATCH_SIZE = 64  # Adjusted batch size\n",
        "EPOCHS = 100  # Increased epochs\n",
        "\n",
        "# Train the model\n",
        "history = model.fit(\n",
        "    X_train_resampled,  # Use resampled data\n",
        "    y_train_resampled,\n",
        "    validation_split=0.20,\n",
        "    batch_size=BATCH_SIZE,\n",
        "    epochs=EPOCHS,\n",
        "    verbose=1,\n",
        "    class_weight=class_weights_dict,  # Use class weights for imbalance\n",
        "    callbacks=[early_stopping]\n",
        ")\n",
        "\n",
        "# Evaluate the model\n",
        "X_test_scaled = scaler.transform(X_test)\n",
        "loss, auc = model.evaluate(X_test_scaled, y_test, verbose=1)\n",
        "print(f'Test Loss: {loss}')\n",
        "print(f'Test AUC: {auc}')\n",
        "\n",
        "# Predict and analyze results\n",
        "y_pred = model.predict(X_test_scaled)\n",
        "y_pred_class = (y_pred > 0.5).astype(int)\n",
        "\n",
        "from sklearn.metrics import classification_report, confusion_matrix\n",
        "print(confusion_matrix(y_test, y_pred_class))\n",
        "print(classification_report(y_test, y_pred_class))\n"
      ],
      "metadata": {
        "id": "XCcXgI7GgEjC",
        "outputId": "a84da2c3-4ef8-4a0b-94d7-03320b5f1b97",
        "colab": {
          "base_uri": "https://localhost:8080/"
        }
      },
      "id": "XCcXgI7GgEjC",
      "execution_count": null,
      "outputs": [
        {
          "output_type": "stream",
          "name": "stdout",
          "text": [
            "Epoch 1/100\n",
            "\u001b[1m104/104\u001b[0m \u001b[32m━━━━━━━━━━━━━━━━━━━━\u001b[0m\u001b[37m\u001b[0m \u001b[1m3s\u001b[0m 7ms/step - auc: 0.6645 - loss: 0.9484 - val_auc: 0.0000e+00 - val_loss: 0.9461\n",
            "Epoch 2/100\n",
            "\u001b[1m104/104\u001b[0m \u001b[32m━━━━━━━━━━━━━━━━━━━━\u001b[0m\u001b[37m\u001b[0m \u001b[1m1s\u001b[0m 4ms/step - auc: 0.8136 - loss: 0.8232 - val_auc: 0.0000e+00 - val_loss: 0.8996\n",
            "Epoch 3/100\n",
            "\u001b[1m104/104\u001b[0m \u001b[32m━━━━━━━━━━━━━━━━━━━━\u001b[0m\u001b[37m\u001b[0m \u001b[1m1s\u001b[0m 4ms/step - auc: 0.8341 - loss: 0.7866 - val_auc: 0.0000e+00 - val_loss: 0.8594\n",
            "Epoch 4/100\n",
            "\u001b[1m104/104\u001b[0m \u001b[32m━━━━━━━━━━━━━━━━━━━━\u001b[0m\u001b[37m\u001b[0m \u001b[1m0s\u001b[0m 4ms/step - auc: 0.8358 - loss: 0.7627 - val_auc: 0.0000e+00 - val_loss: 0.8100\n",
            "Epoch 5/100\n",
            "\u001b[1m104/104\u001b[0m \u001b[32m━━━━━━━━━━━━━━━━━━━━\u001b[0m\u001b[37m\u001b[0m \u001b[1m0s\u001b[0m 4ms/step - auc: 0.8507 - loss: 0.7250 - val_auc: 0.0000e+00 - val_loss: 0.7936\n",
            "Epoch 6/100\n",
            "\u001b[1m104/104\u001b[0m \u001b[32m━━━━━━━━━━━━━━━━━━━━\u001b[0m\u001b[37m\u001b[0m \u001b[1m0s\u001b[0m 4ms/step - auc: 0.8410 - loss: 0.7231 - val_auc: 0.0000e+00 - val_loss: 0.7898\n",
            "Epoch 7/100\n",
            "\u001b[1m104/104\u001b[0m \u001b[32m━━━━━━━━━━━━━━━━━━━━\u001b[0m\u001b[37m\u001b[0m \u001b[1m1s\u001b[0m 4ms/step - auc: 0.8588 - loss: 0.6831 - val_auc: 0.0000e+00 - val_loss: 0.7907\n",
            "Epoch 8/100\n",
            "\u001b[1m104/104\u001b[0m \u001b[32m━━━━━━━━━━━━━━━━━━━━\u001b[0m\u001b[37m\u001b[0m \u001b[1m1s\u001b[0m 4ms/step - auc: 0.8620 - loss: 0.6640 - val_auc: 0.0000e+00 - val_loss: 0.7304\n",
            "Epoch 9/100\n",
            "\u001b[1m104/104\u001b[0m \u001b[32m━━━━━━━━━━━━━━━━━━━━\u001b[0m\u001b[37m\u001b[0m \u001b[1m0s\u001b[0m 4ms/step - auc: 0.8634 - loss: 0.6511 - val_auc: 0.0000e+00 - val_loss: 0.7483\n",
            "Epoch 10/100\n",
            "\u001b[1m104/104\u001b[0m \u001b[32m━━━━━━━━━━━━━━━━━━━━\u001b[0m\u001b[37m\u001b[0m \u001b[1m0s\u001b[0m 4ms/step - auc: 0.8577 - loss: 0.6459 - val_auc: 0.0000e+00 - val_loss: 0.7020\n",
            "Epoch 11/100\n",
            "\u001b[1m104/104\u001b[0m \u001b[32m━━━━━━━━━━━━━━━━━━━━\u001b[0m\u001b[37m\u001b[0m \u001b[1m0s\u001b[0m 4ms/step - auc: 0.8597 - loss: 0.6342 - val_auc: 0.0000e+00 - val_loss: 0.7203\n",
            "Epoch 12/100\n",
            "\u001b[1m104/104\u001b[0m \u001b[32m━━━━━━━━━━━━━━━━━━━━\u001b[0m\u001b[37m\u001b[0m \u001b[1m1s\u001b[0m 4ms/step - auc: 0.8621 - loss: 0.6168 - val_auc: 0.0000e+00 - val_loss: 0.7261\n",
            "Epoch 13/100\n",
            "\u001b[1m104/104\u001b[0m \u001b[32m━━━━━━━━━━━━━━━━━━━━\u001b[0m\u001b[37m\u001b[0m \u001b[1m0s\u001b[0m 4ms/step - auc: 0.8563 - loss: 0.6127 - val_auc: 0.0000e+00 - val_loss: 0.6749\n",
            "Epoch 14/100\n",
            "\u001b[1m104/104\u001b[0m \u001b[32m━━━━━━━━━━━━━━━━━━━━\u001b[0m\u001b[37m\u001b[0m \u001b[1m1s\u001b[0m 8ms/step - auc: 0.8548 - loss: 0.6068 - val_auc: 0.0000e+00 - val_loss: 0.7145\n",
            "Epoch 15/100\n",
            "\u001b[1m104/104\u001b[0m \u001b[32m━━━━━━━━━━━━━━━━━━━━\u001b[0m\u001b[37m\u001b[0m \u001b[1m1s\u001b[0m 7ms/step - auc: 0.8692 - loss: 0.5804 - val_auc: 0.0000e+00 - val_loss: 0.6441\n",
            "Epoch 16/100\n",
            "\u001b[1m104/104\u001b[0m \u001b[32m━━━━━━━━━━━━━━━━━━━━\u001b[0m\u001b[37m\u001b[0m \u001b[1m1s\u001b[0m 4ms/step - auc: 0.8621 - loss: 0.5810 - val_auc: 0.0000e+00 - val_loss: 0.6727\n",
            "Epoch 17/100\n",
            "\u001b[1m104/104\u001b[0m \u001b[32m━━━━━━━━━━━━━━━━━━━━\u001b[0m\u001b[37m\u001b[0m \u001b[1m0s\u001b[0m 4ms/step - auc: 0.8576 - loss: 0.5752 - val_auc: 0.0000e+00 - val_loss: 0.6645\n",
            "Epoch 18/100\n",
            "\u001b[1m104/104\u001b[0m \u001b[32m━━━━━━━━━━━━━━━━━━━━\u001b[0m\u001b[37m\u001b[0m \u001b[1m0s\u001b[0m 4ms/step - auc: 0.8693 - loss: 0.5557 - val_auc: 0.0000e+00 - val_loss: 0.6633\n",
            "Epoch 19/100\n",
            "\u001b[1m104/104\u001b[0m \u001b[32m━━━━━━━━━━━━━━━━━━━━\u001b[0m\u001b[37m\u001b[0m \u001b[1m0s\u001b[0m 4ms/step - auc: 0.8639 - loss: 0.5556 - val_auc: 0.0000e+00 - val_loss: 0.6429\n",
            "Epoch 20/100\n",
            "\u001b[1m104/104\u001b[0m \u001b[32m━━━━━━━━━━━━━━━━━━━━\u001b[0m\u001b[37m\u001b[0m \u001b[1m0s\u001b[0m 4ms/step - auc: 0.8592 - loss: 0.5612 - val_auc: 0.0000e+00 - val_loss: 0.6351\n",
            "Epoch 21/100\n",
            "\u001b[1m104/104\u001b[0m \u001b[32m━━━━━━━━━━━━━━━━━━━━\u001b[0m\u001b[37m\u001b[0m \u001b[1m0s\u001b[0m 4ms/step - auc: 0.8742 - loss: 0.5339 - val_auc: 0.0000e+00 - val_loss: 0.6668\n",
            "Epoch 22/100\n",
            "\u001b[1m104/104\u001b[0m \u001b[32m━━━━━━━━━━━━━━━━━━━━\u001b[0m\u001b[37m\u001b[0m \u001b[1m1s\u001b[0m 4ms/step - auc: 0.8721 - loss: 0.5320 - val_auc: 0.0000e+00 - val_loss: 0.6627\n",
            "Epoch 23/100\n",
            "\u001b[1m104/104\u001b[0m \u001b[32m━━━━━━━━━━━━━━━━━━━━\u001b[0m\u001b[37m\u001b[0m \u001b[1m1s\u001b[0m 4ms/step - auc: 0.8728 - loss: 0.5253 - val_auc: 0.0000e+00 - val_loss: 0.7074\n",
            "Epoch 24/100\n",
            "\u001b[1m104/104\u001b[0m \u001b[32m━━━━━━━━━━━━━━━━━━━━\u001b[0m\u001b[37m\u001b[0m \u001b[1m1s\u001b[0m 4ms/step - auc: 0.8729 - loss: 0.5186 - val_auc: 0.0000e+00 - val_loss: 0.6456\n",
            "Epoch 25/100\n",
            "\u001b[1m104/104\u001b[0m \u001b[32m━━━━━━━━━━━━━━━━━━━━\u001b[0m\u001b[37m\u001b[0m \u001b[1m0s\u001b[0m 4ms/step - auc: 0.8718 - loss: 0.5154 - val_auc: 0.0000e+00 - val_loss: 0.6387\n",
            "Epoch 26/100\n",
            "\u001b[1m104/104\u001b[0m \u001b[32m━━━━━━━━━━━━━━━━━━━━\u001b[0m\u001b[37m\u001b[0m \u001b[1m0s\u001b[0m 4ms/step - auc: 0.8750 - loss: 0.5080 - val_auc: 0.0000e+00 - val_loss: 0.6249\n",
            "Epoch 27/100\n",
            "\u001b[1m104/104\u001b[0m \u001b[32m━━━━━━━━━━━━━━━━━━━━\u001b[0m\u001b[37m\u001b[0m \u001b[1m1s\u001b[0m 4ms/step - auc: 0.8683 - loss: 0.5127 - val_auc: 0.0000e+00 - val_loss: 0.6961\n",
            "Epoch 28/100\n",
            "\u001b[1m104/104\u001b[0m \u001b[32m━━━━━━━━━━━━━━━━━━━━\u001b[0m\u001b[37m\u001b[0m \u001b[1m0s\u001b[0m 4ms/step - auc: 0.8666 - loss: 0.5118 - val_auc: 0.0000e+00 - val_loss: 0.5999\n",
            "Epoch 29/100\n",
            "\u001b[1m104/104\u001b[0m \u001b[32m━━━━━━━━━━━━━━━━━━━━\u001b[0m\u001b[37m\u001b[0m \u001b[1m0s\u001b[0m 4ms/step - auc: 0.8703 - loss: 0.5023 - val_auc: 0.0000e+00 - val_loss: 0.5812\n",
            "Epoch 30/100\n",
            "\u001b[1m104/104\u001b[0m \u001b[32m━━━━━━━━━━━━━━━━━━━━\u001b[0m\u001b[37m\u001b[0m \u001b[1m1s\u001b[0m 4ms/step - auc: 0.8754 - loss: 0.4978 - val_auc: 0.0000e+00 - val_loss: 0.6219\n",
            "Epoch 31/100\n",
            "\u001b[1m104/104\u001b[0m \u001b[32m━━━━━━━━━━━━━━━━━━━━\u001b[0m\u001b[37m\u001b[0m \u001b[1m0s\u001b[0m 4ms/step - auc: 0.8745 - loss: 0.4916 - val_auc: 0.0000e+00 - val_loss: 0.6163\n",
            "Epoch 32/100\n",
            "\u001b[1m104/104\u001b[0m \u001b[32m━━━━━━━━━━━━━━━━━━━━\u001b[0m\u001b[37m\u001b[0m \u001b[1m1s\u001b[0m 4ms/step - auc: 0.8758 - loss: 0.4909 - val_auc: 0.0000e+00 - val_loss: 0.5951\n",
            "Epoch 33/100\n",
            "\u001b[1m104/104\u001b[0m \u001b[32m━━━━━━━━━━━━━━━━━━━━\u001b[0m\u001b[37m\u001b[0m \u001b[1m0s\u001b[0m 4ms/step - auc: 0.8781 - loss: 0.4818 - val_auc: 0.0000e+00 - val_loss: 0.5496\n",
            "Epoch 34/100\n",
            "\u001b[1m104/104\u001b[0m \u001b[32m━━━━━━━━━━━━━━━━━━━━\u001b[0m\u001b[37m\u001b[0m \u001b[1m0s\u001b[0m 4ms/step - auc: 0.8739 - loss: 0.4866 - val_auc: 0.0000e+00 - val_loss: 0.5817\n",
            "Epoch 35/100\n",
            "\u001b[1m104/104\u001b[0m \u001b[32m━━━━━━━━━━━━━━━━━━━━\u001b[0m\u001b[37m\u001b[0m \u001b[1m0s\u001b[0m 4ms/step - auc: 0.8806 - loss: 0.4744 - val_auc: 0.0000e+00 - val_loss: 0.5692\n",
            "Epoch 36/100\n",
            "\u001b[1m104/104\u001b[0m \u001b[32m━━━━━━━━━━━━━━━━━━━━\u001b[0m\u001b[37m\u001b[0m \u001b[1m1s\u001b[0m 6ms/step - auc: 0.8770 - loss: 0.4787 - val_auc: 0.0000e+00 - val_loss: 0.5704\n",
            "Epoch 37/100\n",
            "\u001b[1m104/104\u001b[0m \u001b[32m━━━━━━━━━━━━━━━━━━━━\u001b[0m\u001b[37m\u001b[0m \u001b[1m1s\u001b[0m 7ms/step - auc: 0.8764 - loss: 0.4775 - val_auc: 0.0000e+00 - val_loss: 0.5828\n",
            "Epoch 38/100\n",
            "\u001b[1m104/104\u001b[0m \u001b[32m━━━━━━━━━━━━━━━━━━━━\u001b[0m\u001b[37m\u001b[0m \u001b[1m1s\u001b[0m 4ms/step - auc: 0.8790 - loss: 0.4734 - val_auc: 0.0000e+00 - val_loss: 0.5772\n",
            "Epoch 39/100\n",
            "\u001b[1m104/104\u001b[0m \u001b[32m━━━━━━━━━━━━━━━━━━━━\u001b[0m\u001b[37m\u001b[0m \u001b[1m1s\u001b[0m 4ms/step - auc: 0.8843 - loss: 0.4596 - val_auc: 0.0000e+00 - val_loss: 0.5115\n",
            "Epoch 40/100\n",
            "\u001b[1m104/104\u001b[0m \u001b[32m━━━━━━━━━━━━━━━━━━━━\u001b[0m\u001b[37m\u001b[0m \u001b[1m1s\u001b[0m 4ms/step - auc: 0.8812 - loss: 0.4645 - val_auc: 0.0000e+00 - val_loss: 0.5112\n",
            "Epoch 41/100\n",
            "\u001b[1m104/104\u001b[0m \u001b[32m━━━━━━━━━━━━━━━━━━━━\u001b[0m\u001b[37m\u001b[0m \u001b[1m0s\u001b[0m 4ms/step - auc: 0.8862 - loss: 0.4576 - val_auc: 0.0000e+00 - val_loss: 0.5041\n",
            "Epoch 42/100\n",
            "\u001b[1m104/104\u001b[0m \u001b[32m━━━━━━━━━━━━━━━━━━━━\u001b[0m\u001b[37m\u001b[0m \u001b[1m0s\u001b[0m 4ms/step - auc: 0.8752 - loss: 0.4734 - val_auc: 0.0000e+00 - val_loss: 0.4909\n",
            "Epoch 43/100\n",
            "\u001b[1m104/104\u001b[0m \u001b[32m━━━━━━━━━━━━━━━━━━━━\u001b[0m\u001b[37m\u001b[0m \u001b[1m1s\u001b[0m 4ms/step - auc: 0.8832 - loss: 0.4601 - val_auc: 0.0000e+00 - val_loss: 0.5685\n",
            "Epoch 44/100\n",
            "\u001b[1m104/104\u001b[0m \u001b[32m━━━━━━━━━━━━━━━━━━━━\u001b[0m\u001b[37m\u001b[0m \u001b[1m0s\u001b[0m 4ms/step - auc: 0.8824 - loss: 0.4593 - val_auc: 0.0000e+00 - val_loss: 0.5636\n",
            "Epoch 45/100\n",
            "\u001b[1m104/104\u001b[0m \u001b[32m━━━━━━━━━━━━━━━━━━━━\u001b[0m\u001b[37m\u001b[0m \u001b[1m0s\u001b[0m 4ms/step - auc: 0.8843 - loss: 0.4545 - val_auc: 0.0000e+00 - val_loss: 0.5263\n",
            "Epoch 46/100\n",
            "\u001b[1m104/104\u001b[0m \u001b[32m━━━━━━━━━━━━━━━━━━━━\u001b[0m\u001b[37m\u001b[0m \u001b[1m1s\u001b[0m 4ms/step - auc: 0.8808 - loss: 0.4607 - val_auc: 0.0000e+00 - val_loss: 0.5451\n",
            "Epoch 47/100\n",
            "\u001b[1m104/104\u001b[0m \u001b[32m━━━━━━━━━━━━━━━━━━━━\u001b[0m\u001b[37m\u001b[0m \u001b[1m1s\u001b[0m 4ms/step - auc: 0.8850 - loss: 0.4531 - val_auc: 0.0000e+00 - val_loss: 0.4683\n",
            "Epoch 48/100\n",
            "\u001b[1m104/104\u001b[0m \u001b[32m━━━━━━━━━━━━━━━━━━━━\u001b[0m\u001b[37m\u001b[0m \u001b[1m1s\u001b[0m 4ms/step - auc: 0.8866 - loss: 0.4504 - val_auc: 0.0000e+00 - val_loss: 0.5863\n",
            "Epoch 49/100\n",
            "\u001b[1m104/104\u001b[0m \u001b[32m━━━━━━━━━━━━━━━━━━━━\u001b[0m\u001b[37m\u001b[0m \u001b[1m1s\u001b[0m 4ms/step - auc: 0.8821 - loss: 0.4586 - val_auc: 0.0000e+00 - val_loss: 0.5333\n",
            "Epoch 50/100\n",
            "\u001b[1m104/104\u001b[0m \u001b[32m━━━━━━━━━━━━━━━━━━━━\u001b[0m\u001b[37m\u001b[0m \u001b[1m1s\u001b[0m 4ms/step - auc: 0.8887 - loss: 0.4467 - val_auc: 0.0000e+00 - val_loss: 0.5530\n",
            "Epoch 51/100\n",
            "\u001b[1m104/104\u001b[0m \u001b[32m━━━━━━━━━━━━━━━━━━━━\u001b[0m\u001b[37m\u001b[0m \u001b[1m0s\u001b[0m 4ms/step - auc: 0.8902 - loss: 0.4423 - val_auc: 0.0000e+00 - val_loss: 0.5217\n",
            "Epoch 52/100\n",
            "\u001b[1m104/104\u001b[0m \u001b[32m━━━━━━━━━━━━━━━━━━━━\u001b[0m\u001b[37m\u001b[0m \u001b[1m0s\u001b[0m 4ms/step - auc: 0.8844 - loss: 0.4504 - val_auc: 0.0000e+00 - val_loss: 0.5210\n",
            "Epoch 53/100\n",
            "\u001b[1m104/104\u001b[0m \u001b[32m━━━━━━━━━━━━━━━━━━━━\u001b[0m\u001b[37m\u001b[0m \u001b[1m1s\u001b[0m 4ms/step - auc: 0.8898 - loss: 0.4425 - val_auc: 0.0000e+00 - val_loss: 0.5085\n",
            "Epoch 54/100\n",
            "\u001b[1m104/104\u001b[0m \u001b[32m━━━━━━━━━━━━━━━━━━━━\u001b[0m\u001b[37m\u001b[0m \u001b[1m1s\u001b[0m 4ms/step - auc: 0.8880 - loss: 0.4458 - val_auc: 0.0000e+00 - val_loss: 0.4988\n",
            "Epoch 55/100\n",
            "\u001b[1m104/104\u001b[0m \u001b[32m━━━━━━━━━━━━━━━━━━━━\u001b[0m\u001b[37m\u001b[0m \u001b[1m0s\u001b[0m 4ms/step - auc: 0.8884 - loss: 0.4439 - val_auc: 0.0000e+00 - val_loss: 0.5461\n",
            "Epoch 56/100\n",
            "\u001b[1m104/104\u001b[0m \u001b[32m━━━━━━━━━━━━━━━━━━━━\u001b[0m\u001b[37m\u001b[0m \u001b[1m1s\u001b[0m 7ms/step - auc: 0.8910 - loss: 0.4415 - val_auc: 0.0000e+00 - val_loss: 0.5153\n",
            "Epoch 57/100\n",
            "\u001b[1m104/104\u001b[0m \u001b[32m━━━━━━━━━━━━━━━━━━━━\u001b[0m\u001b[37m\u001b[0m \u001b[1m1s\u001b[0m 7ms/step - auc: 0.8883 - loss: 0.4424 - val_auc: 0.0000e+00 - val_loss: 0.5128\n",
            "Epoch 57: early stopping\n",
            "Restoring model weights from the end of the best epoch: 47.\n",
            "\u001b[1m45/45\u001b[0m \u001b[32m━━━━━━━━━━━━━━━━━━━━\u001b[0m\u001b[37m\u001b[0m \u001b[1m0s\u001b[0m 2ms/step - auc: 0.8404 - loss: 0.5035\n",
            "Test Loss: 0.5010036826133728\n",
            "Test AUC: 0.8420767784118652\n",
            "\u001b[1m45/45\u001b[0m \u001b[32m━━━━━━━━━━━━━━━━━━━━\u001b[0m\u001b[37m\u001b[0m \u001b[1m0s\u001b[0m 4ms/step\n",
            "[[798 237]\n",
            " [ 98 276]]\n",
            "              precision    recall  f1-score   support\n",
            "\n",
            "           0       0.89      0.77      0.83      1035\n",
            "           1       0.54      0.74      0.62       374\n",
            "\n",
            "    accuracy                           0.76      1409\n",
            "   macro avg       0.71      0.75      0.72      1409\n",
            "weighted avg       0.80      0.76      0.77      1409\n",
            "\n"
          ]
        }
      ]
    },
    {
      "cell_type": "code",
      "source": [
        "import numpy as np\n",
        "import tensorflow as tf\n",
        "from tensorflow.keras.layers import Dense, Dropout\n",
        "from tensorflow.keras.optimizers import Adam\n",
        "from sklearn.preprocessing import StandardScaler\n",
        "from sklearn.utils import class_weight\n",
        "from imblearn.over_sampling import SMOTE\n",
        "\n",
        "# Assuming X_train and y_train are already loaded\n",
        "\n",
        "# Normalize the input data\n",
        "scaler = StandardScaler()\n",
        "X_train_scaled = scaler.fit_transform(X_train)\n",
        "\n",
        "# Balancing the dataset using SMOTE\n",
        "sm = SMOTE(random_state=42)\n",
        "X_train_resampled, y_train_resampled = sm.fit_resample(X_train_scaled, y_train)\n",
        "\n",
        "# Calculate class weights to handle class imbalance\n",
        "class_weights_dict = dict(enumerate(class_weight.compute_class_weight(\n",
        "    'balanced',\n",
        "    classes=np.unique(y_train_resampled),\n",
        "    y=y_train_resampled\n",
        ")))\n",
        "\n",
        "# Updated model with more layers and regularization\n",
        "model = tf.keras.Sequential([\n",
        "    tf.keras.Input(shape=(X_train_resampled.shape[1],)),\n",
        "    Dense(256, activation='relu', kernel_regularizer=tf.keras.regularizers.l2(0.001)),  # Increased units and L2 regularization\n",
        "    Dropout(0.4),  # Increased dropout rate\n",
        "    Dense(128, activation='relu', kernel_regularizer=tf.keras.regularizers.l2(0.001)),\n",
        "    Dropout(0.4),\n",
        "    Dense(64, activation='relu', kernel_regularizer=tf.keras.regularizers.l2(0.001)),\n",
        "    Dropout(0.3),\n",
        "    Dense(32, activation='relu', kernel_regularizer=tf.keras.regularizers.l2(0.001)),\n",
        "    Dense(1, activation='sigmoid')\n",
        "])\n",
        "\n",
        "# Early stopping callback\n",
        "early_stopping = tf.keras.callbacks.EarlyStopping(\n",
        "    monitor='val_loss', min_delta=0.001, patience=10, verbose=1,\n",
        "    mode='auto', restore_best_weights=True\n",
        ")\n",
        "\n",
        "# Compile model with Adam optimizer and a custom learning rate\n",
        "model.compile(\n",
        "    optimizer=Adam(learning_rate=0.0003),  # Adjusted learning rate\n",
        "    loss='binary_crossentropy',\n",
        "    metrics=[tf.keras.metrics.AUC(name='auc')]\n",
        ")\n",
        "\n",
        "# Training parameters\n",
        "BATCH_SIZE = 64  # Adjusted batch size\n",
        "EPOCHS = 100  # Increased epochs\n",
        "\n",
        "# Train the model\n",
        "history = model.fit(\n",
        "    X_train_resampled,  # Use resampled data\n",
        "    y_train_resampled,\n",
        "    validation_split=0.20,\n",
        "    batch_size=BATCH_SIZE,\n",
        "    epochs=EPOCHS,\n",
        "    verbose=1,\n",
        "    class_weight=class_weights_dict,  # Use class weights for imbalance\n",
        "    callbacks=[early_stopping]\n",
        ")\n",
        "\n",
        "# Print the history to debug metrics\n",
        "print(\"Training History:\")\n",
        "print(history.history)\n",
        "\n",
        "# Evaluate the model on a separate test set (assuming X_test and y_test are available)\n",
        "X_test_scaled = scaler.transform(X_test)\n",
        "loss, auc = model.evaluate(X_test_scaled, y_test, verbose=1)\n",
        "print(f'Test Loss: {loss}')\n",
        "print(f'Test AUC: {auc}')\n",
        "\n",
        "# Predict and analyze results\n",
        "y_pred = model.predict(X_test_scaled)\n",
        "y_pred_class = (y_pred > 0.5).astype(int)\n",
        "\n",
        "from sklearn.metrics import classification_report, confusion_matrix\n",
        "print(confusion_matrix(y_test, y_pred_class))\n",
        "print(classification_report(y_test, y_pred_class))\n"
      ],
      "metadata": {
        "id": "UZhxe0NEgqYa",
        "outputId": "6302aa9f-d8dc-4b0a-ac83-19dba28cf5c4",
        "colab": {
          "base_uri": "https://localhost:8080/"
        }
      },
      "id": "UZhxe0NEgqYa",
      "execution_count": null,
      "outputs": [
        {
          "output_type": "stream",
          "name": "stdout",
          "text": [
            "Epoch 1/100\n",
            "\u001b[1m104/104\u001b[0m \u001b[32m━━━━━━━━━━━━━━━━━━━━\u001b[0m\u001b[37m\u001b[0m \u001b[1m4s\u001b[0m 12ms/step - auc: 0.6270 - loss: 0.9801 - val_auc: 0.0000e+00 - val_loss: 0.9925\n",
            "Epoch 2/100\n",
            "\u001b[1m104/104\u001b[0m \u001b[32m━━━━━━━━━━━━━━━━━━━━\u001b[0m\u001b[37m\u001b[0m \u001b[1m2s\u001b[0m 4ms/step - auc: 0.8233 - loss: 0.8011 - val_auc: 0.0000e+00 - val_loss: 0.8974\n",
            "Epoch 3/100\n",
            "\u001b[1m104/104\u001b[0m \u001b[32m━━━━━━━━━━━━━━━━━━━━\u001b[0m\u001b[37m\u001b[0m \u001b[1m1s\u001b[0m 4ms/step - auc: 0.8356 - loss: 0.7612 - val_auc: 0.0000e+00 - val_loss: 0.8332\n",
            "Epoch 4/100\n",
            "\u001b[1m104/104\u001b[0m \u001b[32m━━━━━━━━━━━━━━━━━━━━\u001b[0m\u001b[37m\u001b[0m \u001b[1m1s\u001b[0m 4ms/step - auc: 0.8424 - loss: 0.7362 - val_auc: 0.0000e+00 - val_loss: 0.8291\n",
            "Epoch 5/100\n",
            "\u001b[1m104/104\u001b[0m \u001b[32m━━━━━━━━━━━━━━━━━━━━\u001b[0m\u001b[37m\u001b[0m \u001b[1m1s\u001b[0m 4ms/step - auc: 0.8544 - loss: 0.7000 - val_auc: 0.0000e+00 - val_loss: 0.7802\n",
            "Epoch 6/100\n",
            "\u001b[1m104/104\u001b[0m \u001b[32m━━━━━━━━━━━━━━━━━━━━\u001b[0m\u001b[37m\u001b[0m \u001b[1m1s\u001b[0m 4ms/step - auc: 0.8509 - loss: 0.6877 - val_auc: 0.0000e+00 - val_loss: 0.8443\n",
            "Epoch 7/100\n",
            "\u001b[1m104/104\u001b[0m \u001b[32m━━━━━━━━━━━━━━━━━━━━\u001b[0m\u001b[37m\u001b[0m \u001b[1m1s\u001b[0m 4ms/step - auc: 0.8526 - loss: 0.6685 - val_auc: 0.0000e+00 - val_loss: 0.7634\n",
            "Epoch 8/100\n",
            "\u001b[1m104/104\u001b[0m \u001b[32m━━━━━━━━━━━━━━━━━━━━\u001b[0m\u001b[37m\u001b[0m \u001b[1m1s\u001b[0m 4ms/step - auc: 0.8662 - loss: 0.6322 - val_auc: 0.0000e+00 - val_loss: 0.7292\n",
            "Epoch 9/100\n",
            "\u001b[1m104/104\u001b[0m \u001b[32m━━━━━━━━━━━━━━━━━━━━\u001b[0m\u001b[37m\u001b[0m \u001b[1m1s\u001b[0m 4ms/step - auc: 0.8591 - loss: 0.6337 - val_auc: 0.0000e+00 - val_loss: 0.7520\n",
            "Epoch 10/100\n",
            "\u001b[1m104/104\u001b[0m \u001b[32m━━━━━━━━━━━━━━━━━━━━\u001b[0m\u001b[37m\u001b[0m \u001b[1m0s\u001b[0m 4ms/step - auc: 0.8649 - loss: 0.6116 - val_auc: 0.0000e+00 - val_loss: 0.7336\n",
            "Epoch 11/100\n",
            "\u001b[1m104/104\u001b[0m \u001b[32m━━━━━━━━━━━━━━━━━━━━\u001b[0m\u001b[37m\u001b[0m \u001b[1m1s\u001b[0m 4ms/step - auc: 0.8633 - loss: 0.6024 - val_auc: 0.0000e+00 - val_loss: 0.6911\n",
            "Epoch 12/100\n",
            "\u001b[1m104/104\u001b[0m \u001b[32m━━━━━━━━━━━━━━━━━━━━\u001b[0m\u001b[37m\u001b[0m \u001b[1m1s\u001b[0m 4ms/step - auc: 0.8612 - loss: 0.5972 - val_auc: 0.0000e+00 - val_loss: 0.7234\n",
            "Epoch 13/100\n",
            "\u001b[1m104/104\u001b[0m \u001b[32m━━━━━━━━━━━━━━━━━━━━\u001b[0m\u001b[37m\u001b[0m \u001b[1m1s\u001b[0m 4ms/step - auc: 0.8592 - loss: 0.5890 - val_auc: 0.0000e+00 - val_loss: 0.6604\n",
            "Epoch 14/100\n",
            "\u001b[1m104/104\u001b[0m \u001b[32m━━━━━━━━━━━━━━━━━━━━\u001b[0m\u001b[37m\u001b[0m \u001b[1m1s\u001b[0m 4ms/step - auc: 0.8617 - loss: 0.5774 - val_auc: 0.0000e+00 - val_loss: 0.6982\n",
            "Epoch 15/100\n",
            "\u001b[1m104/104\u001b[0m \u001b[32m━━━━━━━━━━━━━━━━━━━━\u001b[0m\u001b[37m\u001b[0m \u001b[1m1s\u001b[0m 4ms/step - auc: 0.8627 - loss: 0.5672 - val_auc: 0.0000e+00 - val_loss: 0.7174\n",
            "Epoch 16/100\n",
            "\u001b[1m104/104\u001b[0m \u001b[32m━━━━━━━━━━━━━━━━━━━━\u001b[0m\u001b[37m\u001b[0m \u001b[1m1s\u001b[0m 5ms/step - auc: 0.8687 - loss: 0.5541 - val_auc: 0.0000e+00 - val_loss: 0.6481\n",
            "Epoch 17/100\n",
            "\u001b[1m104/104\u001b[0m \u001b[32m━━━━━━━━━━━━━━━━━━━━\u001b[0m\u001b[37m\u001b[0m \u001b[1m1s\u001b[0m 6ms/step - auc: 0.8668 - loss: 0.5472 - val_auc: 0.0000e+00 - val_loss: 0.6608\n",
            "Epoch 18/100\n",
            "\u001b[1m104/104\u001b[0m \u001b[32m━━━━━━━━━━━━━━━━━━━━\u001b[0m\u001b[37m\u001b[0m \u001b[1m1s\u001b[0m 7ms/step - auc: 0.8699 - loss: 0.5364 - val_auc: 0.0000e+00 - val_loss: 0.6560\n",
            "Epoch 19/100\n",
            "\u001b[1m104/104\u001b[0m \u001b[32m━━━━━━━━━━━━━━━━━━━━\u001b[0m\u001b[37m\u001b[0m \u001b[1m1s\u001b[0m 4ms/step - auc: 0.8645 - loss: 0.5405 - val_auc: 0.0000e+00 - val_loss: 0.6826\n",
            "Epoch 20/100\n",
            "\u001b[1m104/104\u001b[0m \u001b[32m━━━━━━━━━━━━━━━━━━━━\u001b[0m\u001b[37m\u001b[0m \u001b[1m1s\u001b[0m 4ms/step - auc: 0.8553 - loss: 0.5500 - val_auc: 0.0000e+00 - val_loss: 0.6321\n",
            "Epoch 21/100\n",
            "\u001b[1m104/104\u001b[0m \u001b[32m━━━━━━━━━━━━━━━━━━━━\u001b[0m\u001b[37m\u001b[0m \u001b[1m1s\u001b[0m 4ms/step - auc: 0.8738 - loss: 0.5178 - val_auc: 0.0000e+00 - val_loss: 0.6269\n",
            "Epoch 22/100\n",
            "\u001b[1m104/104\u001b[0m \u001b[32m━━━━━━━━━━━━━━━━━━━━\u001b[0m\u001b[37m\u001b[0m \u001b[1m1s\u001b[0m 4ms/step - auc: 0.8688 - loss: 0.5165 - val_auc: 0.0000e+00 - val_loss: 0.6253\n",
            "Epoch 23/100\n",
            "\u001b[1m104/104\u001b[0m \u001b[32m━━━━━━━━━━━━━━━━━━━━\u001b[0m\u001b[37m\u001b[0m \u001b[1m1s\u001b[0m 4ms/step - auc: 0.8697 - loss: 0.5141 - val_auc: 0.0000e+00 - val_loss: 0.6226\n",
            "Epoch 24/100\n",
            "\u001b[1m104/104\u001b[0m \u001b[32m━━━━━━━━━━━━━━━━━━━━\u001b[0m\u001b[37m\u001b[0m \u001b[1m1s\u001b[0m 4ms/step - auc: 0.8741 - loss: 0.5051 - val_auc: 0.0000e+00 - val_loss: 0.6035\n",
            "Epoch 25/100\n",
            "\u001b[1m104/104\u001b[0m \u001b[32m━━━━━━━━━━━━━━━━━━━━\u001b[0m\u001b[37m\u001b[0m \u001b[1m1s\u001b[0m 4ms/step - auc: 0.8652 - loss: 0.5135 - val_auc: 0.0000e+00 - val_loss: 0.6069\n",
            "Epoch 26/100\n",
            "\u001b[1m104/104\u001b[0m \u001b[32m━━━━━━━━━━━━━━━━━━━━\u001b[0m\u001b[37m\u001b[0m \u001b[1m1s\u001b[0m 4ms/step - auc: 0.8738 - loss: 0.4970 - val_auc: 0.0000e+00 - val_loss: 0.6099\n",
            "Epoch 27/100\n",
            "\u001b[1m104/104\u001b[0m \u001b[32m━━━━━━━━━━━━━━━━━━━━\u001b[0m\u001b[37m\u001b[0m \u001b[1m1s\u001b[0m 4ms/step - auc: 0.8693 - loss: 0.5038 - val_auc: 0.0000e+00 - val_loss: 0.6128\n",
            "Epoch 28/100\n",
            "\u001b[1m104/104\u001b[0m \u001b[32m━━━━━━━━━━━━━━━━━━━━\u001b[0m\u001b[37m\u001b[0m \u001b[1m0s\u001b[0m 4ms/step - auc: 0.8779 - loss: 0.4867 - val_auc: 0.0000e+00 - val_loss: 0.5767\n",
            "Epoch 29/100\n",
            "\u001b[1m104/104\u001b[0m \u001b[32m━━━━━━━━━━━━━━━━━━━━\u001b[0m\u001b[37m\u001b[0m \u001b[1m0s\u001b[0m 4ms/step - auc: 0.8712 - loss: 0.4960 - val_auc: 0.0000e+00 - val_loss: 0.6317\n",
            "Epoch 30/100\n",
            "\u001b[1m104/104\u001b[0m \u001b[32m━━━━━━━━━━━━━━━━━━━━\u001b[0m\u001b[37m\u001b[0m \u001b[1m0s\u001b[0m 4ms/step - auc: 0.8727 - loss: 0.4908 - val_auc: 0.0000e+00 - val_loss: 0.6121\n",
            "Epoch 31/100\n",
            "\u001b[1m104/104\u001b[0m \u001b[32m━━━━━━━━━━━━━━━━━━━━\u001b[0m\u001b[37m\u001b[0m \u001b[1m1s\u001b[0m 4ms/step - auc: 0.8753 - loss: 0.4824 - val_auc: 0.0000e+00 - val_loss: 0.5437\n",
            "Epoch 32/100\n",
            "\u001b[1m104/104\u001b[0m \u001b[32m━━━━━━━━━━━━━━━━━━━━\u001b[0m\u001b[37m\u001b[0m \u001b[1m1s\u001b[0m 4ms/step - auc: 0.8770 - loss: 0.4800 - val_auc: 0.0000e+00 - val_loss: 0.5675\n",
            "Epoch 33/100\n",
            "\u001b[1m104/104\u001b[0m \u001b[32m━━━━━━━━━━━━━━━━━━━━\u001b[0m\u001b[37m\u001b[0m \u001b[1m0s\u001b[0m 4ms/step - auc: 0.8808 - loss: 0.4707 - val_auc: 0.0000e+00 - val_loss: 0.5828\n",
            "Epoch 34/100\n",
            "\u001b[1m104/104\u001b[0m \u001b[32m━━━━━━━━━━━━━━━━━━━━\u001b[0m\u001b[37m\u001b[0m \u001b[1m0s\u001b[0m 4ms/step - auc: 0.8794 - loss: 0.4763 - val_auc: 0.0000e+00 - val_loss: 0.5616\n",
            "Epoch 35/100\n",
            "\u001b[1m104/104\u001b[0m \u001b[32m━━━━━━━━━━━━━━━━━━━━\u001b[0m\u001b[37m\u001b[0m \u001b[1m1s\u001b[0m 4ms/step - auc: 0.8795 - loss: 0.4732 - val_auc: 0.0000e+00 - val_loss: 0.5976\n",
            "Epoch 36/100\n",
            "\u001b[1m104/104\u001b[0m \u001b[32m━━━━━━━━━━━━━━━━━━━━\u001b[0m\u001b[37m\u001b[0m \u001b[1m1s\u001b[0m 6ms/step - auc: 0.8781 - loss: 0.4733 - val_auc: 0.0000e+00 - val_loss: 0.6058\n",
            "Epoch 37/100\n",
            "\u001b[1m104/104\u001b[0m \u001b[32m━━━━━━━━━━━━━━━━━━━━\u001b[0m\u001b[37m\u001b[0m \u001b[1m1s\u001b[0m 8ms/step - auc: 0.8782 - loss: 0.4694 - val_auc: 0.0000e+00 - val_loss: 0.5824\n",
            "Epoch 38/100\n",
            "\u001b[1m104/104\u001b[0m \u001b[32m━━━━━━━━━━━━━━━━━━━━\u001b[0m\u001b[37m\u001b[0m \u001b[1m1s\u001b[0m 8ms/step - auc: 0.8787 - loss: 0.4721 - val_auc: 0.0000e+00 - val_loss: 0.5820\n",
            "Epoch 39/100\n",
            "\u001b[1m104/104\u001b[0m \u001b[32m━━━━━━━━━━━━━━━━━━━━\u001b[0m\u001b[37m\u001b[0m \u001b[1m1s\u001b[0m 9ms/step - auc: 0.8774 - loss: 0.4690 - val_auc: 0.0000e+00 - val_loss: 0.5736\n",
            "Epoch 40/100\n",
            "\u001b[1m104/104\u001b[0m \u001b[32m━━━━━━━━━━━━━━━━━━━━\u001b[0m\u001b[37m\u001b[0m \u001b[1m1s\u001b[0m 8ms/step - auc: 0.8818 - loss: 0.4626 - val_auc: 0.0000e+00 - val_loss: 0.5532\n",
            "Epoch 41/100\n",
            "\u001b[1m104/104\u001b[0m \u001b[32m━━━━━━━━━━━━━━━━━━━━\u001b[0m\u001b[37m\u001b[0m \u001b[1m1s\u001b[0m 7ms/step - auc: 0.8805 - loss: 0.4654 - val_auc: 0.0000e+00 - val_loss: 0.5981\n",
            "Epoch 41: early stopping\n",
            "Restoring model weights from the end of the best epoch: 31.\n",
            "Training History:\n",
            "{'auc': [0.7179074883460999, 0.8292380571365356, 0.8386104702949524, 0.8446803092956543, 0.8476398587226868, 0.8510947823524475, 0.8527213931083679, 0.854623556137085, 0.8565092086791992, 0.8561286926269531, 0.8583290576934814, 0.8607353568077087, 0.8590545654296875, 0.860595703125, 0.8630251288414001, 0.8631207346916199, 0.863980233669281, 0.8644278049468994, 0.863873302936554, 0.8654286861419678, 0.86748868227005, 0.8680561780929565, 0.8683671951293945, 0.8694919347763062, 0.8699092864990234, 0.871408224105835, 0.8722518086433411, 0.8739300966262817, 0.8740898370742798, 0.8724278211593628, 0.8743086457252502, 0.8732504844665527, 0.8754165172576904, 0.8788344860076904, 0.8758383393287659, 0.87725430727005, 0.8775636553764343, 0.8781183958053589, 0.8770171403884888, 0.881213903427124, 0.877995491027832], 'loss': [0.917020857334137, 0.7893596291542053, 0.7539427280426025, 0.7268628478050232, 0.7046383023262024, 0.682233989238739, 0.6640462875366211, 0.6478741765022278, 0.633552074432373, 0.6204090118408203, 0.6070005893707275, 0.593718409538269, 0.58673095703125, 0.5755273699760437, 0.5652782917022705, 0.5594618916511536, 0.5524353384971619, 0.5452409982681274, 0.5394309163093567, 0.5330125689506531, 0.52472984790802, 0.5189172029495239, 0.5154334902763367, 0.5095450282096863, 0.5057137608528137, 0.5008332133293152, 0.49722686409950256, 0.49119487404823303, 0.48867759108543396, 0.49013933539390564, 0.4850962162017822, 0.4851737916469574, 0.4787769019603729, 0.47317856550216675, 0.47548460960388184, 0.4714222848415375, 0.4701066017150879, 0.4687604010105133, 0.46979570388793945, 0.46173444390296936, 0.4649810194969177], 'val_auc': [0.0, 0.0, 0.0, 0.0, 0.0, 0.0, 0.0, 0.0, 0.0, 0.0, 0.0, 0.0, 0.0, 0.0, 0.0, 0.0, 0.0, 0.0, 0.0, 0.0, 0.0, 0.0, 0.0, 0.0, 0.0, 0.0, 0.0, 0.0, 0.0, 0.0, 0.0, 0.0, 0.0, 0.0, 0.0, 0.0, 0.0, 0.0, 0.0, 0.0, 0.0], 'val_loss': [0.9925145506858826, 0.8973949551582336, 0.8332473039627075, 0.8291383981704712, 0.7802022099494934, 0.8443082571029663, 0.7634050846099854, 0.7291562557220459, 0.7520228624343872, 0.7336385846138, 0.6911269426345825, 0.7234010696411133, 0.6604043841362, 0.6981664896011353, 0.7174355983734131, 0.6480682492256165, 0.660767138004303, 0.6560145020484924, 0.6825827360153198, 0.6320705413818359, 0.6269005537033081, 0.6252755522727966, 0.622577965259552, 0.6034610867500305, 0.6069381833076477, 0.6099193692207336, 0.6127894520759583, 0.5766840577125549, 0.6316646337509155, 0.6121174693107605, 0.5436606407165527, 0.5675163865089417, 0.5828229784965515, 0.5616185069084167, 0.5975710153579712, 0.6057984828948975, 0.5824111700057983, 0.5819553136825562, 0.5735578536987305, 0.5532087683677673, 0.5981476902961731]}\n",
            "\u001b[1m45/45\u001b[0m \u001b[32m━━━━━━━━━━━━━━━━━━━━\u001b[0m\u001b[37m\u001b[0m \u001b[1m0s\u001b[0m 2ms/step - auc: 0.8419 - loss: 0.5050\n",
            "Test Loss: 0.5020960569381714\n",
            "Test AUC: 0.8434110879898071\n",
            "\u001b[1m45/45\u001b[0m \u001b[32m━━━━━━━━━━━━━━━━━━━━\u001b[0m\u001b[37m\u001b[0m \u001b[1m0s\u001b[0m 2ms/step\n",
            "[[809 226]\n",
            " [105 269]]\n",
            "              precision    recall  f1-score   support\n",
            "\n",
            "           0       0.89      0.78      0.83      1035\n",
            "           1       0.54      0.72      0.62       374\n",
            "\n",
            "    accuracy                           0.77      1409\n",
            "   macro avg       0.71      0.75      0.72      1409\n",
            "weighted avg       0.79      0.77      0.77      1409\n",
            "\n"
          ]
        }
      ]
    }
  ],
  "metadata": {
    "kernelspec": {
      "display_name": "Python 3 (ipykernel)",
      "language": "python",
      "name": "python3"
    },
    "language_info": {
      "codemirror_mode": {
        "name": "ipython",
        "version": 3
      },
      "file_extension": ".py",
      "mimetype": "text/x-python",
      "name": "python",
      "nbconvert_exporter": "python",
      "pygments_lexer": "ipython3",
      "version": "3.9.12"
    },
    "colab": {
      "provenance": []
    }
  },
  "nbformat": 4,
  "nbformat_minor": 5
}